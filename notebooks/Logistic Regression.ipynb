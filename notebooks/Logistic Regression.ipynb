{
 "cells": [
  {
   "cell_type": "code",
   "execution_count": 1,
   "metadata": {},
   "outputs": [],
   "source": [
    "import sklearn\n",
    "import numpy as np\n",
    "import matplotlib.pyplot as plt\n",
    "import pandas as pd\n",
    "import gc"
   ]
  },
  {
   "cell_type": "code",
   "execution_count": 2,
   "metadata": {},
   "outputs": [],
   "source": [
    "# import data\n",
    "train = pd.read_csv(r'../data/raw/url-versions-2015-06-14-clean-train.csv')\n",
    "test = pd.read_csv(r'../data/raw/url-versions-2015-06-14-clean-test.csv')\n",
    "\n",
    "feat_Qmark = pd.read_csv(r'../data/processed/headline_Qmark.csv').drop_duplicates()\n",
    "\n",
    "feat_BoGF= pd.read_csv(r'../data/processed/headline_BoGF.csv').drop_duplicates()\n"
   ]
  },
  {
   "cell_type": "code",
   "execution_count": 3,
   "metadata": {},
   "outputs": [
    {
     "data": {
      "text/html": [
       "<div>\n",
       "<style scoped>\n",
       "    .dataframe tbody tr th:only-of-type {\n",
       "        vertical-align: middle;\n",
       "    }\n",
       "\n",
       "    .dataframe tbody tr th {\n",
       "        vertical-align: top;\n",
       "    }\n",
       "\n",
       "    .dataframe thead th {\n",
       "        text-align: right;\n",
       "    }\n",
       "</style>\n",
       "<table border=\"1\" class=\"dataframe\">\n",
       "  <thead>\n",
       "    <tr style=\"text-align: right;\">\n",
       "      <th></th>\n",
       "      <th>claimHeadline</th>\n",
       "      <th>articleHeadline</th>\n",
       "      <th>articleHeadlineStance</th>\n",
       "      <th>articleId</th>\n",
       "      <th>claimId</th>\n",
       "      <th>Qmark</th>\n",
       "      <th>1</th>\n",
       "      <th>2</th>\n",
       "      <th>3</th>\n",
       "      <th>4</th>\n",
       "      <th>...</th>\n",
       "      <th>20542</th>\n",
       "      <th>20543</th>\n",
       "      <th>20544</th>\n",
       "      <th>20545</th>\n",
       "      <th>20546</th>\n",
       "      <th>20547</th>\n",
       "      <th>20548</th>\n",
       "      <th>20549</th>\n",
       "      <th>20550</th>\n",
       "      <th>20551</th>\n",
       "    </tr>\n",
       "  </thead>\n",
       "  <tbody>\n",
       "    <tr>\n",
       "      <th>0</th>\n",
       "      <td>Apple will sell 19 million Apple Watches in 2015</td>\n",
       "      <td>BMO forecasts 19M Apple Watch sales in 2015, w...</td>\n",
       "      <td>observing</td>\n",
       "      <td>116a3920-c41c-11e4-883c-a7fa7a3c5066</td>\n",
       "      <td>8faeb4b0-c41b-11e4-88c9-eb158a06b9a5</td>\n",
       "      <td>0</td>\n",
       "      <td>0</td>\n",
       "      <td>0</td>\n",
       "      <td>0</td>\n",
       "      <td>0</td>\n",
       "      <td>...</td>\n",
       "      <td>0</td>\n",
       "      <td>0</td>\n",
       "      <td>0</td>\n",
       "      <td>0</td>\n",
       "      <td>0</td>\n",
       "      <td>0</td>\n",
       "      <td>0</td>\n",
       "      <td>0</td>\n",
       "      <td>0</td>\n",
       "      <td>0</td>\n",
       "    </tr>\n",
       "    <tr>\n",
       "      <th>1</th>\n",
       "      <td>Two Australian men kept a McDonald's Quarter P...</td>\n",
       "      <td>World's oldest burger</td>\n",
       "      <td>for</td>\n",
       "      <td>8bb10fd0-b6aa-11e4-8507-b58af63d1078</td>\n",
       "      <td>d54aaf40-b6a8-11e4-8507-b58af63d1078</td>\n",
       "      <td>0</td>\n",
       "      <td>0</td>\n",
       "      <td>0</td>\n",
       "      <td>0</td>\n",
       "      <td>0</td>\n",
       "      <td>...</td>\n",
       "      <td>0</td>\n",
       "      <td>0</td>\n",
       "      <td>0</td>\n",
       "      <td>0</td>\n",
       "      <td>0</td>\n",
       "      <td>0</td>\n",
       "      <td>0</td>\n",
       "      <td>0</td>\n",
       "      <td>0</td>\n",
       "      <td>0</td>\n",
       "    </tr>\n",
       "    <tr>\n",
       "      <th>2</th>\n",
       "      <td>Two Australian men kept a McDonald's Quarter P...</td>\n",
       "      <td>Two blokes dared to eat 20-year-old burger for...</td>\n",
       "      <td>for</td>\n",
       "      <td>00b6b660-b6a9-11e4-8507-b58af63d1078</td>\n",
       "      <td>d54aaf40-b6a8-11e4-8507-b58af63d1078</td>\n",
       "      <td>0</td>\n",
       "      <td>0</td>\n",
       "      <td>0</td>\n",
       "      <td>0</td>\n",
       "      <td>0</td>\n",
       "      <td>...</td>\n",
       "      <td>0</td>\n",
       "      <td>0</td>\n",
       "      <td>0</td>\n",
       "      <td>0</td>\n",
       "      <td>0</td>\n",
       "      <td>0</td>\n",
       "      <td>0</td>\n",
       "      <td>0</td>\n",
       "      <td>0</td>\n",
       "      <td>0</td>\n",
       "    </tr>\n",
       "    <tr>\n",
       "      <th>3</th>\n",
       "      <td>Two Australian men kept a McDonald's Quarter P...</td>\n",
       "      <td>Would you take a bite out of the world's oldes...</td>\n",
       "      <td>for</td>\n",
       "      <td>fc92d640-b6a8-11e4-8507-b58af63d1078</td>\n",
       "      <td>d54aaf40-b6a8-11e4-8507-b58af63d1078</td>\n",
       "      <td>1</td>\n",
       "      <td>0</td>\n",
       "      <td>0</td>\n",
       "      <td>0</td>\n",
       "      <td>0</td>\n",
       "      <td>...</td>\n",
       "      <td>0</td>\n",
       "      <td>0</td>\n",
       "      <td>0</td>\n",
       "      <td>0</td>\n",
       "      <td>0</td>\n",
       "      <td>0</td>\n",
       "      <td>0</td>\n",
       "      <td>0</td>\n",
       "      <td>0</td>\n",
       "      <td>0</td>\n",
       "    </tr>\n",
       "    <tr>\n",
       "      <th>4</th>\n",
       "      <td>Two Australian men kept a McDonald's Quarter P...</td>\n",
       "      <td>20 year old burger? McDonald's burger purchase...</td>\n",
       "      <td>for</td>\n",
       "      <td>08c84b70-b6a9-11e4-8507-b58af63d1078</td>\n",
       "      <td>d54aaf40-b6a8-11e4-8507-b58af63d1078</td>\n",
       "      <td>1</td>\n",
       "      <td>0</td>\n",
       "      <td>0</td>\n",
       "      <td>0</td>\n",
       "      <td>0</td>\n",
       "      <td>...</td>\n",
       "      <td>0</td>\n",
       "      <td>0</td>\n",
       "      <td>0</td>\n",
       "      <td>0</td>\n",
       "      <td>0</td>\n",
       "      <td>0</td>\n",
       "      <td>0</td>\n",
       "      <td>0</td>\n",
       "      <td>0</td>\n",
       "      <td>0</td>\n",
       "    </tr>\n",
       "    <tr>\n",
       "      <th>...</th>\n",
       "      <td>...</td>\n",
       "      <td>...</td>\n",
       "      <td>...</td>\n",
       "      <td>...</td>\n",
       "      <td>...</td>\n",
       "      <td>...</td>\n",
       "      <td>...</td>\n",
       "      <td>...</td>\n",
       "      <td>...</td>\n",
       "      <td>...</td>\n",
       "      <td>...</td>\n",
       "      <td>...</td>\n",
       "      <td>...</td>\n",
       "      <td>...</td>\n",
       "      <td>...</td>\n",
       "      <td>...</td>\n",
       "      <td>...</td>\n",
       "      <td>...</td>\n",
       "      <td>...</td>\n",
       "      <td>...</td>\n",
       "      <td>...</td>\n",
       "    </tr>\n",
       "    <tr>\n",
       "      <th>2066</th>\n",
       "      <td>A woman woke up during brain surgery and talke...</td>\n",
       "      <td>How's it going?: Teen wakes up during brain su...</td>\n",
       "      <td>for</td>\n",
       "      <td>881df9e0-93bf-11e4-b6bf-fdc8b7e3bcff</td>\n",
       "      <td>7ca09170-93bc-11e4-b6bf-fdc8b7e3bcff</td>\n",
       "      <td>1</td>\n",
       "      <td>0</td>\n",
       "      <td>0</td>\n",
       "      <td>0</td>\n",
       "      <td>0</td>\n",
       "      <td>...</td>\n",
       "      <td>0</td>\n",
       "      <td>0</td>\n",
       "      <td>0</td>\n",
       "      <td>0</td>\n",
       "      <td>0</td>\n",
       "      <td>0</td>\n",
       "      <td>0</td>\n",
       "      <td>0</td>\n",
       "      <td>0</td>\n",
       "      <td>0</td>\n",
       "    </tr>\n",
       "    <tr>\n",
       "      <th>2067</th>\n",
       "      <td>A woman woke up during brain surgery and talke...</td>\n",
       "      <td>Teen Iga Jasica wakes up during brain surgery,...</td>\n",
       "      <td>for</td>\n",
       "      <td>1b1dd170-9424-11e4-b6bf-fdc8b7e3bcff</td>\n",
       "      <td>7ca09170-93bc-11e4-b6bf-fdc8b7e3bcff</td>\n",
       "      <td>0</td>\n",
       "      <td>0</td>\n",
       "      <td>0</td>\n",
       "      <td>0</td>\n",
       "      <td>0</td>\n",
       "      <td>...</td>\n",
       "      <td>0</td>\n",
       "      <td>0</td>\n",
       "      <td>0</td>\n",
       "      <td>0</td>\n",
       "      <td>0</td>\n",
       "      <td>0</td>\n",
       "      <td>0</td>\n",
       "      <td>0</td>\n",
       "      <td>0</td>\n",
       "      <td>0</td>\n",
       "    </tr>\n",
       "    <tr>\n",
       "      <th>2068</th>\n",
       "      <td>A woman woke up during brain surgery and talke...</td>\n",
       "      <td>Surgery Patient Wakes Up, Asks Doc How's It Go...</td>\n",
       "      <td>for</td>\n",
       "      <td>d4ddfc10-93bc-11e4-b6bf-fdc8b7e3bcff</td>\n",
       "      <td>7ca09170-93bc-11e4-b6bf-fdc8b7e3bcff</td>\n",
       "      <td>1</td>\n",
       "      <td>0</td>\n",
       "      <td>0</td>\n",
       "      <td>0</td>\n",
       "      <td>0</td>\n",
       "      <td>...</td>\n",
       "      <td>0</td>\n",
       "      <td>0</td>\n",
       "      <td>0</td>\n",
       "      <td>0</td>\n",
       "      <td>0</td>\n",
       "      <td>0</td>\n",
       "      <td>0</td>\n",
       "      <td>0</td>\n",
       "      <td>0</td>\n",
       "      <td>0</td>\n",
       "    </tr>\n",
       "    <tr>\n",
       "      <th>2069</th>\n",
       "      <td>A woman woke up during brain surgery and talke...</td>\n",
       "      <td>Polish Teenager Wakes Up During Brain Surgery,...</td>\n",
       "      <td>for</td>\n",
       "      <td>c3905bb0-93bc-11e4-b6bf-fdc8b7e3bcff</td>\n",
       "      <td>7ca09170-93bc-11e4-b6bf-fdc8b7e3bcff</td>\n",
       "      <td>0</td>\n",
       "      <td>0</td>\n",
       "      <td>0</td>\n",
       "      <td>0</td>\n",
       "      <td>0</td>\n",
       "      <td>...</td>\n",
       "      <td>0</td>\n",
       "      <td>0</td>\n",
       "      <td>0</td>\n",
       "      <td>0</td>\n",
       "      <td>0</td>\n",
       "      <td>0</td>\n",
       "      <td>0</td>\n",
       "      <td>0</td>\n",
       "      <td>0</td>\n",
       "      <td>0</td>\n",
       "    </tr>\n",
       "    <tr>\n",
       "      <th>2070</th>\n",
       "      <td>A woman woke up during brain surgery and talke...</td>\n",
       "      <td>Brain op shock as teen wakes up mid-surgery</td>\n",
       "      <td>for</td>\n",
       "      <td>5cd224f0-93bf-11e4-b6bf-fdc8b7e3bcff</td>\n",
       "      <td>7ca09170-93bc-11e4-b6bf-fdc8b7e3bcff</td>\n",
       "      <td>0</td>\n",
       "      <td>0</td>\n",
       "      <td>0</td>\n",
       "      <td>0</td>\n",
       "      <td>0</td>\n",
       "      <td>...</td>\n",
       "      <td>0</td>\n",
       "      <td>0</td>\n",
       "      <td>0</td>\n",
       "      <td>0</td>\n",
       "      <td>0</td>\n",
       "      <td>0</td>\n",
       "      <td>0</td>\n",
       "      <td>0</td>\n",
       "      <td>0</td>\n",
       "      <td>0</td>\n",
       "    </tr>\n",
       "  </tbody>\n",
       "</table>\n",
       "<p>2071 rows × 20557 columns</p>\n",
       "</div>"
      ],
      "text/plain": [
       "                                          claimHeadline  \\\n",
       "0      Apple will sell 19 million Apple Watches in 2015   \n",
       "1     Two Australian men kept a McDonald's Quarter P...   \n",
       "2     Two Australian men kept a McDonald's Quarter P...   \n",
       "3     Two Australian men kept a McDonald's Quarter P...   \n",
       "4     Two Australian men kept a McDonald's Quarter P...   \n",
       "...                                                 ...   \n",
       "2066  A woman woke up during brain surgery and talke...   \n",
       "2067  A woman woke up during brain surgery and talke...   \n",
       "2068  A woman woke up during brain surgery and talke...   \n",
       "2069  A woman woke up during brain surgery and talke...   \n",
       "2070  A woman woke up during brain surgery and talke...   \n",
       "\n",
       "                                        articleHeadline articleHeadlineStance  \\\n",
       "0     BMO forecasts 19M Apple Watch sales in 2015, w...             observing   \n",
       "1                                 World's oldest burger                   for   \n",
       "2     Two blokes dared to eat 20-year-old burger for...                   for   \n",
       "3     Would you take a bite out of the world's oldes...                   for   \n",
       "4     20 year old burger? McDonald's burger purchase...                   for   \n",
       "...                                                 ...                   ...   \n",
       "2066  How's it going?: Teen wakes up during brain su...                   for   \n",
       "2067  Teen Iga Jasica wakes up during brain surgery,...                   for   \n",
       "2068  Surgery Patient Wakes Up, Asks Doc How's It Go...                   for   \n",
       "2069  Polish Teenager Wakes Up During Brain Surgery,...                   for   \n",
       "2070        Brain op shock as teen wakes up mid-surgery                   for   \n",
       "\n",
       "                                 articleId  \\\n",
       "0     116a3920-c41c-11e4-883c-a7fa7a3c5066   \n",
       "1     8bb10fd0-b6aa-11e4-8507-b58af63d1078   \n",
       "2     00b6b660-b6a9-11e4-8507-b58af63d1078   \n",
       "3     fc92d640-b6a8-11e4-8507-b58af63d1078   \n",
       "4     08c84b70-b6a9-11e4-8507-b58af63d1078   \n",
       "...                                    ...   \n",
       "2066  881df9e0-93bf-11e4-b6bf-fdc8b7e3bcff   \n",
       "2067  1b1dd170-9424-11e4-b6bf-fdc8b7e3bcff   \n",
       "2068  d4ddfc10-93bc-11e4-b6bf-fdc8b7e3bcff   \n",
       "2069  c3905bb0-93bc-11e4-b6bf-fdc8b7e3bcff   \n",
       "2070  5cd224f0-93bf-11e4-b6bf-fdc8b7e3bcff   \n",
       "\n",
       "                                   claimId  Qmark  1  2  3  4  ...  20542  \\\n",
       "0     8faeb4b0-c41b-11e4-88c9-eb158a06b9a5      0  0  0  0  0  ...      0   \n",
       "1     d54aaf40-b6a8-11e4-8507-b58af63d1078      0  0  0  0  0  ...      0   \n",
       "2     d54aaf40-b6a8-11e4-8507-b58af63d1078      0  0  0  0  0  ...      0   \n",
       "3     d54aaf40-b6a8-11e4-8507-b58af63d1078      1  0  0  0  0  ...      0   \n",
       "4     d54aaf40-b6a8-11e4-8507-b58af63d1078      1  0  0  0  0  ...      0   \n",
       "...                                    ...    ... .. .. .. ..  ...    ...   \n",
       "2066  7ca09170-93bc-11e4-b6bf-fdc8b7e3bcff      1  0  0  0  0  ...      0   \n",
       "2067  7ca09170-93bc-11e4-b6bf-fdc8b7e3bcff      0  0  0  0  0  ...      0   \n",
       "2068  7ca09170-93bc-11e4-b6bf-fdc8b7e3bcff      1  0  0  0  0  ...      0   \n",
       "2069  7ca09170-93bc-11e4-b6bf-fdc8b7e3bcff      0  0  0  0  0  ...      0   \n",
       "2070  7ca09170-93bc-11e4-b6bf-fdc8b7e3bcff      0  0  0  0  0  ...      0   \n",
       "\n",
       "      20543  20544  20545  20546  20547  20548  20549  20550  20551  \n",
       "0         0      0      0      0      0      0      0      0      0  \n",
       "1         0      0      0      0      0      0      0      0      0  \n",
       "2         0      0      0      0      0      0      0      0      0  \n",
       "3         0      0      0      0      0      0      0      0      0  \n",
       "4         0      0      0      0      0      0      0      0      0  \n",
       "...     ...    ...    ...    ...    ...    ...    ...    ...    ...  \n",
       "2066      0      0      0      0      0      0      0      0      0  \n",
       "2067      0      0      0      0      0      0      0      0      0  \n",
       "2068      0      0      0      0      0      0      0      0      0  \n",
       "2069      0      0      0      0      0      0      0      0      0  \n",
       "2070      0      0      0      0      0      0      0      0      0  \n",
       "\n",
       "[2071 rows x 20557 columns]"
      ]
     },
     "execution_count": 3,
     "metadata": {},
     "output_type": "execute_result"
    }
   ],
   "source": [
    "train = train.merge(feat_Qmark, on=\"articleId\").merge(feat_BoGF, on=\"articleId\").drop(\"Unnamed: 0\", axis=1)\n",
    "test = test.merge(feat_Qmark, on=\"articleId\").merge(feat_BoGF, on=\"articleId\").drop(\"Unnamed: 0\", axis=1)\n",
    "train"
   ]
  },
  {
   "cell_type": "code",
   "execution_count": 4,
   "metadata": {},
   "outputs": [],
   "source": [
    "# merge datasets and shuuffle with random seed\n",
    "seed = 1234\n",
    "\n",
    "train = sklearn.utils.shuffle(train, random_state=seed)\n",
    "test = sklearn.utils.shuffle(test, random_state=seed)\n"
   ]
  },
  {
   "cell_type": "code",
   "execution_count": 5,
   "metadata": {},
   "outputs": [
    {
     "data": {
      "text/plain": [
       "(2071, 20557)"
      ]
     },
     "execution_count": 5,
     "metadata": {},
     "output_type": "execute_result"
    }
   ],
   "source": [
    "train.to_numpy().shape"
   ]
  },
  {
   "cell_type": "code",
   "execution_count": 6,
   "metadata": {},
   "outputs": [],
   "source": [
    "# create train and test\n",
    "\n",
    "X_train = train.to_numpy()[:,5:]\n",
    "Y_train = train.to_numpy()[:,2].reshape((-1,))\n",
    "\n",
    "X_test = test.to_numpy()[:,5:]\n",
    "Y_test = test.to_numpy()[:,2].reshape((-1,))"
   ]
  },
  {
   "cell_type": "code",
   "execution_count": 7,
   "metadata": {},
   "outputs": [
    {
     "name": "stdout",
     "output_type": "stream",
     "text": [
      "(2071, 20552)\n",
      "(2071,)\n",
      "(524, 20552)\n",
      "(524,)\n"
     ]
    }
   ],
   "source": [
    "print(X_train.shape)\n",
    "print(Y_train.shape)\n",
    "print(X_test.shape)\n",
    "print(Y_test.shape)"
   ]
  },
  {
   "cell_type": "code",
   "execution_count": null,
   "metadata": {},
   "outputs": [],
   "source": []
  },
  {
   "cell_type": "code",
   "execution_count": null,
   "metadata": {},
   "outputs": [],
   "source": []
  },
  {
   "cell_type": "code",
   "execution_count": null,
   "metadata": {},
   "outputs": [],
   "source": []
  },
  {
   "cell_type": "code",
   "execution_count": 10,
   "metadata": {},
   "outputs": [],
   "source": [
    "#create 10 author's folds\n",
    "train_folds = []\n",
    "\n",
    "X_folds = []\n",
    "Y_folds = []\n",
    "\n",
    "X_folds_test = []\n",
    "Y_folds_test = []\n",
    "\n",
    "for i in range(1,11):\n",
    "    train_fold = pd.read_csv(r\"../data/raw/url-versions-2015-06-14-clean-train-fold-\"+str(i)+\".csv\")\n",
    "    test_fold = pd.read_csv(r\"../data/raw/url-versions-2015-06-14-clean-test-fold-\"+str(i)+\".csv\")\n",
    "    \n",
    "    train_fold = train_fold.merge(feat_Qmark, on=\"articleId\").merge(feat_BoGF, on=\"articleId\").drop(\"Unnamed: 0\", axis=1)\n",
    "    test_fold = test_fold.merge(feat_Qmark, on=\"articleId\").merge(feat_BoGF, on=\"articleId\").drop(\"Unnamed: 0\", axis=1)\n",
    "    \n",
    "    train_fold = train_fold.to_numpy()\n",
    "    test_fold = test_fold.to_numpy()\n",
    "    \n",
    "    X_folds.append(train_fold[:, 5:])\n",
    "    Y_folds.append(train_fold[:, 4].reshape((-1,)))\n",
    "    \n",
    "    X_folds_test.append(test_fold[:, 5:])\n",
    "    Y_folds_test.append(test_fold[:,4].reshape((-1,)))\n"
   ]
  },
  {
   "cell_type": "code",
   "execution_count": null,
   "metadata": {},
   "outputs": [],
   "source": []
  },
  {
   "cell_type": "code",
   "execution_count": 11,
   "metadata": {},
   "outputs": [
    {
     "data": {
      "image/png": "[encoded data removed]",
      "text/plain": [
       "<Figure size 1008x360 with 1 Axes>"
      ]
     },
     "metadata": {
      "needs_background": "light"
     },
     "output_type": "display_data"
    },
    {
     "name": "stdout",
     "output_type": "stream",
     "text": [
      "['observing' 'for' 'for' ... 'for' 'for' 'for']\n"
     ]
    },
    {
     "data": {
      "image/png": "[encoded data removed]",
      "text/plain": [
       "<Figure size 1008x360 with 1 Axes>"
      ]
     },
     "metadata": {
      "needs_background": "light"
     },
     "output_type": "display_data"
    }
   ],
   "source": [
    "height = []\n",
    "bars = []\n",
    "for i in range(10):\n",
    "    bars.append(\"fold_\"+str(i)+\" for\")\n",
    "    height.append(np.count_nonzero(Y_folds[i]== \"for\"))\n",
    "    bars.append(\"fold_\"+str(i)+\" against\")\n",
    "    height.append(np.count_nonzero(Y_folds[i]== \"against\"))\n",
    "    bars.append(\"fold_\"+str(i)+\" observing\")\n",
    "    height.append(np.count_nonzero(Y_folds[i]== \"observing\"))\n",
    "\n",
    "fig = plt.figure(figsize=(14,5))\n",
    "fig.suptitle('Author\\'s folds\\' class distribution in Train set')\n",
    "plt.bar(range(1,31), height)\n",
    "plt.xticks(range(1,31), bars, rotation=60)\n",
    "plt.show()\n",
    "print(Y_folds[i])\n",
    "\n",
    "\n",
    "height = []\n",
    "bars = []\n",
    "for i in range(10):\n",
    "    bars.append(\"fold_\"+str(i)+\" for\")\n",
    "    height.append(np.count_nonzero(Y_folds_test[i]== \"for\"))\n",
    "    bars.append(\"fold_\"+str(i)+\" against\")\n",
    "    height.append(np.count_nonzero(Y_folds_test[i]== \"against\"))\n",
    "    bars.append(\"fold_\"+str(i)+\" observing\")\n",
    "    height.append(np.count_nonzero(Y_folds_test[i]== \"observing\"))\n",
    "\n",
    "fig = plt.figure(figsize=(14,5))\n",
    "fig.suptitle('Author\\'s folds\\' class distribution in Test set')\n",
    "plt.bar(range(1,31), height)\n",
    "plt.xticks(range(1,31), bars, rotation=60)\n",
    "plt.show()"
   ]
  },
  {
   "cell_type": "code",
   "execution_count": null,
   "metadata": {},
   "outputs": [],
   "source": []
  },
  {
   "cell_type": "code",
   "execution_count": null,
   "metadata": {},
   "outputs": [],
   "source": []
  },
  {
   "cell_type": "code",
   "execution_count": null,
   "metadata": {},
   "outputs": [],
   "source": []
  },
  {
   "cell_type": "code",
   "execution_count": null,
   "metadata": {},
   "outputs": [],
   "source": []
  },
  {
   "cell_type": "code",
   "execution_count": null,
   "metadata": {},
   "outputs": [],
   "source": []
  },
  {
   "cell_type": "code",
   "execution_count": null,
   "metadata": {},
   "outputs": [],
   "source": []
  },
  {
   "cell_type": "code",
   "execution_count": 155,
   "metadata": {},
   "outputs": [
    {
     "name": "stdout",
     "output_type": "stream",
     "text": [
      "fold_size_per_class = \t99\n",
      "fold_size = \t297\n",
      "for size = \t992\t repeat after # folds = 10\n",
      "against size = \t304\t repeat after # folds = 3\n",
      "observing size= 775\t repeat after # folds = 7\n",
      "\n",
      "\n",
      "X_strat_folds shape =  (10,)\n",
      "Y_strat_folds shape =  (10,)\n",
      "X_strat_folds_test shape =  (1, 182, 20552)\n",
      "Y_strat_folds_test shape =  (10,)\n"
     ]
    }
   ],
   "source": [
    "#create 10 stratified folds\n",
    "\n",
    "train_for = train[train.articleHeadlineStance == \"for\"].to_numpy()\n",
    "train_against = train[train.articleHeadlineStance == \"against\"].to_numpy()\n",
    "train_observing = train[train.articleHeadlineStance == \"observing\"].to_numpy()\n",
    "\n",
    "fold_size_per_class = int(train_for.shape[0] / 10) # fold_size_per_class per class\n",
    "fold_size = fold_size_per_class * 3\n",
    "\n",
    "fold_test_size = int(fold_size * 0.2) # test size = 20%\n",
    "\n",
    "print(\"fold_size_per_class = \\t\" + str(fold_size_per_class))\n",
    "print(\"fold_size = \\t\" + str(fold_size))\n",
    "\n",
    "print(\"for size = \\t\" + str(train_for.shape[0]) + \"\\t repeat after # folds = \" + str(int(train_for.shape[0] / fold_size_per_class)))\n",
    "print(\"against size = \\t\" + str(train_against.shape[0]) + \"\\t repeat after # folds = \" + str(int(train_against.shape[0] / fold_size_per_class)))\n",
    "print(\"observing size= \" + str(train_observing.shape[0]) + \"\\t repeat after # folds = \" + str(int(train_observing.shape[0] / fold_size_per_class)))\n",
    "\n",
    "\n",
    "## making stratified folds\n",
    "X_strat_folds = []\n",
    "Y_strat_folds = []\n",
    "\n",
    "X_strat_folds_test = []\n",
    "Y_strat_folds_test = []\n",
    "\n",
    "gc.collect()\n",
    "\n",
    "print(\"\\n\")\n",
    "for_i = 0\n",
    "against_i = 0\n",
    "observing_i = 0\n",
    "for i in range(10):\n",
    "    fold = np.array([])\n",
    "    \n",
    "    # add for class samples\n",
    "    start = int(for_i*fold_size_per_class)\n",
    "    end = int(for_i*fold_size_per_class + fold_size_per_class)\n",
    "    fold = train_for[start:end]\n",
    "    \n",
    "    # add against class samples\n",
    "    start = int(against_i*fold_size_per_class)\n",
    "    end = int(against_i*fold_size_per_class + fold_size_per_class)\n",
    "    if end > (train_against.shape[0]):\n",
    "        against_i = 0\n",
    "        start = int(against_i*fold_size_per_class)\n",
    "        end = int(against_i*fold_size_per_class + fold_size_per_class)\n",
    "        \n",
    "    \n",
    "    fold = np.append(fold, train_against[start:end], axis=0)\n",
    "    \n",
    "    # add observing class samples\n",
    "    start = int(observing_i*fold_size_per_class)\n",
    "    end = int(observing_i*fold_size_per_class + fold_size_per_class)\n",
    "    if end > (train_observing.shape[0]) :\n",
    "        observing_i = 0\n",
    "        start = int(observing_i*fold_size_per_class)\n",
    "        end = int(observing_i*fold_size_per_class + fold_size_per_class)\n",
    "    \n",
    "    fold = np.append(fold, train_observing[start:end], axis=0)\n",
    "    \n",
    "    \n",
    "    for_i = for_i + 1\n",
    "    against_i = against_i + 1\n",
    "    observing_i = observing_i + 1\n",
    "    \n",
    "    fold = sklearn.utils.shuffle(fold)\n",
    "    # add fold to X and Y\n",
    "    X_strat_folds.append(fold[0:fold_size-fold_test_size, 5:])\n",
    "    Y_strat_folds.append(fold[0:fold_size-fold_test_size, 2].reshape((-1,)))\n",
    "    \n",
    "    X_strat_folds_test.append(fold[fold_size-fold_test_size :, 5:])\n",
    "    Y_strat_folds_test.append(fold[fold_size-fold_test_size :, 2].reshape((-1,)))\n",
    "    \n",
    "print(\"X_strat_folds shape =  \" + str(np.shape(X_strat_folds)))\n",
    "print(\"Y_strat_folds shape =  \" + str(np.shape(Y_strat_folds)))\n",
    "print(\"X_strat_folds_test shape =  \" + str(np.shape(X_strat_folds_test)))\n",
    "print(\"Y_strat_folds_test shape =  \" + str(np.shape(Y_strat_folds_test)))\n",
    "    \n"
   ]
  },
  {
   "cell_type": "code",
   "execution_count": 153,
   "metadata": {},
   "outputs": [
    {
     "data": {
      "image/png": "[encoded data removed]",
      "text/plain": [
       "<Figure size 1008x360 with 1 Axes>"
      ]
     },
     "metadata": {
      "needs_background": "light"
     },
     "output_type": "display_data"
    },
    {
     "data": {
      "image/png": "[encoded data removed]",
      "text/plain": [
       "<Figure size 1008x360 with 1 Axes>"
      ]
     },
     "metadata": {
      "needs_background": "light"
     },
     "output_type": "display_data"
    }
   ],
   "source": [
    "height = []\n",
    "bars = []\n",
    "for i in range(10):\n",
    "    bars.append(\"fold_\"+str(i)+\" for\")\n",
    "    height.append(np.count_nonzero(Y_strat_folds[i]== \"for\"))\n",
    "    bars.append(\"fold_\"+str(i)+\" against\")\n",
    "    height.append(np.count_nonzero(Y_strat_folds[i]== \"against\"))\n",
    "    bars.append(\"fold_\"+str(i)+\" observing\")\n",
    "    height.append(np.count_nonzero(Y_strat_folds[i]== \"observing\"))\n",
    "\n",
    "fig = plt.figure(figsize=(14,5))\n",
    "fig.suptitle('Stratified folds class distribution in Train set')\n",
    "plt.bar(range(1,31), height)\n",
    "plt.xticks(range(1,31), bars, rotation=60)\n",
    "plt.show()\n",
    "\n",
    "\n",
    "height = []\n",
    "bars = []\n",
    "for i in range(10):\n",
    "    bars.append(\"fold_\"+str(i)+\" for\")\n",
    "    height.append(np.count_nonzero(Y_strat_folds_test[i]== \"for\"))\n",
    "    bars.append(\"fold_\"+str(i)+\" against\")\n",
    "    height.append(np.count_nonzero(Y_strat_folds_test[i]== \"against\"))\n",
    "    bars.append(\"fold_\"+str(i)+\" observing\")\n",
    "    height.append(np.count_nonzero(Y_strat_folds_test[i]== \"observing\"))\n",
    "\n",
    "fig = plt.figure(figsize=(14,5))\n",
    "fig.suptitle('Stratified folds class distribution in Test set')\n",
    "plt.bar(range(1,31), height)\n",
    "plt.xticks(range(1,31), bars, rotation=60)\n",
    "plt.show()"
   ]
  },
  {
   "cell_type": "code",
   "execution_count": null,
   "metadata": {},
   "outputs": [],
   "source": []
  },
  {
   "cell_type": "code",
   "execution_count": null,
   "metadata": {},
   "outputs": [],
   "source": []
  },
  {
   "cell_type": "code",
   "execution_count": null,
   "metadata": {},
   "outputs": [],
   "source": []
  },
  {
   "cell_type": "code",
   "execution_count": null,
   "metadata": {},
   "outputs": [],
   "source": []
  },
  {
   "cell_type": "code",
   "execution_count": null,
   "metadata": {},
   "outputs": [],
   "source": []
  },
  {
   "cell_type": "code",
   "execution_count": null,
   "metadata": {},
   "outputs": [],
   "source": []
  },
  {
   "cell_type": "code",
   "execution_count": null,
   "metadata": {},
   "outputs": [],
   "source": []
  },
  {
   "cell_type": "code",
   "execution_count": 12,
   "metadata": {},
   "outputs": [],
   "source": [
    "max_iter = 10e2\n",
    "C=1.0\n",
    "penalty='l2'"
   ]
  },
  {
   "cell_type": "code",
   "execution_count": 13,
   "metadata": {},
   "outputs": [
    {
     "name": "stdout",
     "output_type": "stream",
     "text": [
      "train_acc = 0.9980685659101883\n",
      "test_acc = 0.6908396946564885\n"
     ]
    }
   ],
   "source": [
    "# Normal Train and Test\n",
    "\n",
    "from sklearn.linear_model import LogisticRegression\n",
    "model = LogisticRegression(penalty=penalty, C=C, max_iter = max_iter)\n",
    "\n",
    "soln = model.fit(X_train,Y_train)\n",
    "\n",
    "print(\"train_acc = \" + str(soln.score(X_train,Y_train))) # train accuracy\n",
    "print(\"test_acc = \" + str(soln.score(X_test,Y_test) ))# train accuracy"
   ]
  },
  {
   "cell_type": "code",
   "execution_count": null,
   "metadata": {},
   "outputs": [],
   "source": []
  },
  {
   "cell_type": "code",
   "execution_count": 14,
   "metadata": {},
   "outputs": [
    {
     "name": "stdout",
     "output_type": "stream",
     "text": [
      "completed fold => 1\n",
      "completed fold => 2\n",
      "completed fold => 3\n",
      "completed fold => 4\n",
      "completed fold => 5\n",
      "completed fold => 6\n",
      "completed fold => 7\n",
      "completed fold => 8\n",
      "completed fold => 9\n",
      "completed fold => 10\n"
     ]
    }
   ],
   "source": [
    "# Train on folds\n",
    "from sklearn.linear_model import LogisticRegression\n",
    "\n",
    "fold_train_acc = []\n",
    "fold_test_acc = []\n",
    "indep_test_acc = []\n",
    "\n",
    "for i in range(10):\n",
    "    model = LogisticRegression(penalty=penalty, C=C, max_iter = max_iter)\n",
    "    soln = model.fit(X_folds[i], Y_folds[i])\n",
    "    \n",
    "    fold_train_acc = np.append(fold_train_acc, soln.score(X_folds[i], Y_folds[i]))\n",
    "    fold_test_acc = np.append(fold_test_acc, soln.score(X_folds_test[i], Y_folds_test[i]))\n",
    "    indep_test_acc = np.append(indep_test_acc, soln.score(X_test, Y_test))\n",
    "    print(\"completed fold => \"+ str(i+1))\n",
    " "
   ]
  },
  {
   "cell_type": "code",
   "execution_count": 17,
   "metadata": {},
   "outputs": [
    {
     "data": {
      "image/png": "[encoded data removed]",
      "text/plain": [
       "<Figure size 1008x720 with 1 Axes>"
      ]
     },
     "metadata": {
      "needs_background": "light"
     },
     "output_type": "display_data"
    }
   ],
   "source": [
    "fig = plt.figure(figsize=(14,10))\n",
    "fig.suptitle('Accuracy on Author\\'s folds')\n",
    "plt.plot(range(1,11), fold_train_acc, label=\"train accuracy\" )\n",
    "plt.plot(range(1,11), fold_test_acc, label=\"validation accuracy\" )\n",
    "plt.plot(range(1,11), indep_test_acc, label=\"independent test accuracy\" )\n",
    "plt.legend()\n",
    "plt.show()"
   ]
  },
  {
   "cell_type": "code",
   "execution_count": null,
   "metadata": {},
   "outputs": [],
   "source": []
  },
  {
   "cell_type": "code",
   "execution_count": null,
   "metadata": {},
   "outputs": [],
   "source": []
  },
  {
   "cell_type": "code",
   "execution_count": null,
   "metadata": {},
   "outputs": [],
   "source": []
  },
  {
   "cell_type": "code",
   "execution_count": 126,
   "metadata": {},
   "outputs": [
    {
     "name": "stdout",
     "output_type": "stream",
     "text": [
      "completed fold => 1\n",
      "completed fold => 2\n",
      "completed fold => 3\n",
      "completed fold => 4\n",
      "completed fold => 5\n",
      "completed fold => 6\n",
      "completed fold => 7\n",
      "completed fold => 8\n",
      "completed fold => 9\n",
      "completed fold => 10\n"
     ]
    }
   ],
   "source": [
    "# train on STRATIFIED folds\n",
    "from sklearn.linear_model import LogisticRegression\n",
    "\n",
    "fold_train_acc = []\n",
    "fold_test_acc = []\n",
    "indep_test_acc = []\n",
    "\n",
    "for i in range(10):\n",
    "    model = LogisticRegression(penalty=penalty, C=C, max_iter = max_iter)\n",
    "    soln = model.fit(X_strat_folds[i], Y_strat_folds[i])\n",
    "    \n",
    "    fold_train_acc = np.append(fold_train_acc, soln.score(X_strat_folds[i], Y_strat_folds[i]))\n",
    "    fold_test_acc = np.append(fold_test_acc, soln.score(X_strat_folds_test[i], Y_strat_folds_test[i]))\n",
    "    indep_test_acc = np.append(indep_test_acc, soln.score(X_test, Y_test))\n",
    "    print(\"completed fold => \"+ str(i+1))\n",
    "    \n"
   ]
  },
  {
   "cell_type": "code",
   "execution_count": 116,
   "metadata": {},
   "outputs": [
    {
     "data": {
      "text/plain": [
       "<function matplotlib.pyplot.show(*args, **kw)>"
      ]
     },
     "execution_count": 116,
     "metadata": {},
     "output_type": "execute_result"
    },
    {
     "data": {
      "image/png": "[encoded data removed]",
      "text/plain": [
       "<Figure size 1008x720 with 1 Axes>"
      ]
     },
     "metadata": {
      "needs_background": "light"
     },
     "output_type": "display_data"
    }
   ],
   "source": [
    "fig = plt.figure(figsize=(14,10))\n",
    "fig.suptitle('Accuracy on STRATIFIED folds')\n",
    "plt.plot(range(1,11), fold_train_acc, label=\"train accuracy\" )\n",
    "plt.plot(range(1,11), fold_test_acc, label=\"validation accuracy\" )\n",
    "plt.plot(range(1,11), indep_test_acc, label=\"independent test accuracy\" )\n",
    "plt.legend()\n",
    "plt.show"
   ]
  },
  {
   "cell_type": "code",
   "execution_count": 117,
   "metadata": {},
   "outputs": [
    {
     "name": "stdout",
     "output_type": "stream",
     "text": [
      "[0.61450382 0.65267176 0.65076336 0.57251908 0.60877863 0.5648855\n",
      " 0.59732824 0.64503817 0.57633588 0.64694656]\n"
     ]
    }
   ],
   "source": [
    "print(indep_test_acc)"
   ]
  },
  {
   "cell_type": "code",
   "execution_count": null,
   "metadata": {},
   "outputs": [],
   "source": []
  }
 ],
 "metadata": {
  "kernelspec": {
   "display_name": "Python 3",
   "language": "python",
   "name": "python3"
  },
  "language_info": {
   "codemirror_mode": {
    "name": "ipython",
    "version": 3
   },
   "file_extension": ".py",
   "mimetype": "text/x-python",
   "name": "python",
   "nbconvert_exporter": "python",
   "pygments_lexer": "ipython3",
   "version": "3.8.1"
  }
 },
 "nbformat": 4,
 "nbformat_minor": 4
}
