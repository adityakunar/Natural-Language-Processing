{
 "cells": [
  {
   "cell_type": "code",
   "execution_count": 346,
   "metadata": {},
   "outputs": [],
   "source": [
    "import sklearn\n",
    "import numpy as np\n",
    "import pandas as pd"
   ]
  },
  {
   "cell_type": "code",
   "execution_count": 368,
   "metadata": {},
   "outputs": [],
   "source": [
    "#import data\n",
    "train = pd.read_csv('../data/raw/Emergent_NAACL2016/emergent/url-versions-2015-06-14-clean-train.csv')\n",
    "train.drop(columns=[\"Unnamed: 0\"], inplace=True)\n",
    "test = pd.read_csv('../data/raw/Emergent_NAACL2016/emergent/url-versions-2015-06-14-clean-test.csv')\n",
    "test.drop(columns=[\"Unnamed: 0\"], inplace=True)"
   ]
  },
  {
   "cell_type": "code",
   "execution_count": 348,
   "metadata": {},
   "outputs": [],
   "source": [
    "#create features\n",
    "align_feature = pd.read_csv('../data/processed/features/alignment_feature.csv')\n",
    "cosine_feature = pd.read_csv('../data/processed/features/cosine_feature.csv')\n",
    "bow_feature = pd.read_csv('../data/processed/features/headline_BoWBigram.csv')\n",
    "qmark_feature = pd.read_csv('../data/processed/features/headline_Qmark.csv')\n",
    "neg_alignment_feature = pd.read_csv('../data/processed/features/neg_alignment_feature.csv')\n",
    "root_dist_feature = pd.read_csv('../data/processed/features/root_dist_min.csv')\n",
    "svo_feature = pd.read_csv('../data/processed/features/svo.csv')"
   ]
  },
  {
   "cell_type": "code",
   "execution_count": 369,
   "metadata": {},
   "outputs": [],
   "source": [
    "target_map = {\"for\": 0, \"observing\": 1, \"against\": 2}"
   ]
  },
  {
   "cell_type": "code",
   "execution_count": 370,
   "metadata": {},
   "outputs": [],
   "source": [
    "train = train.replace({\"articleHeadlineStance\": target_map})"
   ]
  },
  {
   "cell_type": "code",
   "execution_count": 371,
   "metadata": {},
   "outputs": [],
   "source": [
    "test = test.replace({\"articleHeadlineStance\": target_map})"
   ]
  },
  {
   "cell_type": "code",
   "execution_count": 372,
   "metadata": {},
   "outputs": [
    {
     "data": {
      "text/plain": [
       "(0    992\n",
       " 1    775\n",
       " 2    304\n",
       " Name: articleHeadlineStance, dtype: int64, 0    246\n",
       " 1    187\n",
       " 2     91\n",
       " Name: articleHeadlineStance, dtype: int64)"
      ]
     },
     "execution_count": 372,
     "metadata": {},
     "output_type": "execute_result"
    }
   ],
   "source": [
    "train[\"articleHeadlineStance\"].value_counts(),test[\"articleHeadlineStance\"].value_counts()\n"
   ]
  },
  {
   "cell_type": "code",
   "execution_count": 373,
   "metadata": {},
   "outputs": [],
   "source": [
    "train = pd.merge(train, align_feature, on=\"articleId\")\n",
    "train = pd.merge(train, cosine_feature, on=\"articleId\")\n",
    "train = pd.merge(train, bow_feature, on=\"articleId\")\n",
    "train = pd.merge(train, qmark_feature, on=\"articleId\")\n",
    "train = pd.merge(train, neg_alignment_feature, on=\"articleId\")\n",
    "train = pd.merge(train, root_dist_feature, on=\"articleId\")\n",
    "train = pd.merge(train, svo_feature, on=\"articleId\")"
   ]
  },
  {
   "cell_type": "code",
   "execution_count": 374,
   "metadata": {},
   "outputs": [],
   "source": [
    "test = pd.merge(test, align_feature, on=\"articleId\")\n",
    "test = pd.merge(test, cosine_feature, on=\"articleId\")\n",
    "test = pd.merge(test, bow_feature, on=\"articleId\")\n",
    "test = pd.merge(test, qmark_feature, on=\"articleId\")\n",
    "test = pd.merge(test, neg_alignment_feature, on=\"articleId\")\n",
    "test = pd.merge(test, root_dist_feature, on=\"articleId\")\n",
    "test = pd.merge(test, svo_feature, on=\"articleId\")"
   ]
  },
  {
   "cell_type": "code",
   "execution_count": 375,
   "metadata": {},
   "outputs": [],
   "source": [
    "train[\"articleHeadlineStance\"] = train[\"articleHeadlineStance\"].astype(\"int\")"
   ]
  },
  {
   "cell_type": "code",
   "execution_count": 376,
   "metadata": {},
   "outputs": [],
   "source": [
    "test[\"articleHeadlineStance\"] = test[\"articleHeadlineStance\"].astype(\"int\")"
   ]
  },
  {
   "cell_type": "code",
   "execution_count": 377,
   "metadata": {},
   "outputs": [],
   "source": [
    "# merge datasets and shuuffle with random seed\n",
    "seed = 1234\n",
    "\n",
    "train = sklearn.utils.shuffle(train, random_state=seed)\n",
    "test = sklearn.utils.shuffle(test, random_state=seed)\n"
   ]
  },
  {
   "cell_type": "code",
   "execution_count": 378,
   "metadata": {},
   "outputs": [],
   "source": [
    "# create train and test\n",
    "\n",
    "X_train = train.to_numpy()[:,5:]\n",
    "Y_train = train[\"articleHeadlineStance\"].values.reshape((-1,))\n",
    "\n",
    "X_test = test.to_numpy()[:,5:]\n",
    "Y_test = test[\"articleHeadlineStance\"].values.reshape((-1,))"
   ]
  },
  {
   "cell_type": "code",
   "execution_count": 379,
   "metadata": {},
   "outputs": [],
   "source": [
    "Y_train = Y_train.astype(int)\n",
    "X_train = X_train.astype(float)\n",
    "X_test = X_test.astype(float)\n",
    "y_test = Y_test.astype(int)"
   ]
  },
  {
   "cell_type": "code",
   "execution_count": 381,
   "metadata": {},
   "outputs": [
    {
     "data": {
      "text/plain": [
       "(2071, 20560)"
      ]
     },
     "execution_count": 381,
     "metadata": {},
     "output_type": "execute_result"
    }
   ],
   "source": [
    "X_train.shape"
   ]
  },
  {
   "cell_type": "code",
   "execution_count": 253,
   "metadata": {},
   "outputs": [],
   "source": [
    "from sklearn import metrics\n",
    "Xt=X_train.T\n",
    "mi_metric=[]\n",
    "for i in range(Xt.shape[0]):\n",
    "    mi_metric.append(metrics.mutual_info_score(list(Xt[i]),list(Y_train)))\n",
    "        "
   ]
  },
  {
   "cell_type": "code",
   "execution_count": 254,
   "metadata": {},
   "outputs": [],
   "source": [
    "indices=[]\n",
    "for i in enumerate(mi_metric):\n",
    "    if i[1]>0.001:\n",
    "        indices.append(i[0])\n",
    "data_X_train = X_train[:, indices]\n",
    "data_X_test = X_test[:, indices]  "
   ]
  },
  {
   "cell_type": "code",
   "execution_count": 255,
   "metadata": {},
   "outputs": [],
   "source": [
    "from sklearn.naive_bayes import GaussianNB\n",
    "from sklearn.naive_bayes import MultinomialNB\n",
    "from sklearn.metrics import confusion_matrix"
   ]
  },
  {
   "cell_type": "code",
   "execution_count": 256,
   "metadata": {},
   "outputs": [],
   "source": [
    "gnb = GaussianNB()"
   ]
  },
  {
   "cell_type": "code",
   "execution_count": 257,
   "metadata": {},
   "outputs": [],
   "source": [
    "#y_pred = gnb.fit(X_train, Y_train).predict(X_test)\n",
    "y_pred = gnb.fit(data_X_train, Y_train).predict(data_X_test)"
   ]
  },
  {
   "cell_type": "code",
   "execution_count": 258,
   "metadata": {},
   "outputs": [
    {
     "name": "stdout",
     "output_type": "stream",
     "text": [
      "Number of mislabeled points out of a total 524 points : 301\n",
      "Accuracy on test set: 0.4255725190839695\n"
     ]
    },
    {
     "data": {
      "text/plain": [
       "array([[ 77, 169,   0],\n",
       "       [ 41, 146,   0],\n",
       "       [ 35,  56,   0]], dtype=int64)"
      ]
     },
     "execution_count": 258,
     "metadata": {},
     "output_type": "execute_result"
    }
   ],
   "source": [
    "print(\"Number of mislabeled points out of a total %d points : %d\" % (X_test.shape[0], (y_test != y_pred).sum()))\n",
    "print(\"Accuracy on test set: \"+str(gnb.score(data_X_test,y_test)))\n",
    "confusion_matrix(y_test, y_pred)"
   ]
  },
  {
   "cell_type": "code",
   "execution_count": 259,
   "metadata": {},
   "outputs": [],
   "source": [
    "# need to remove the numeric features to do multi-nomial naive bayes.\n",
    "mnb = MultinomialNB()\n",
    "X_train = train.to_numpy()[:,7:]\n",
    "Y_train = train[\"articleHeadlineStance\"].values.reshape((-1,))\n",
    "X_test = test.to_numpy()[:,7:]\n",
    "Y_test = test[\"articleHeadlineStance\"].values.reshape((-1,))\n",
    "Y_train = Y_train.astype(int)\n",
    "X_train = X_train.astype(float)\n",
    "X_test = X_test.astype(float)\n",
    "y_test = Y_test.astype(int)\n",
    "data_X_train = X_train[:, indices]\n",
    "data_X_test = X_test[:, indices]  \n",
    "#y_pred = mnb.fit(X_train, Y_train).predict(X_test)\n",
    "y_pred = mnb.fit(data_X_train, Y_train).predict(data_X_test)"
   ]
  },
  {
   "cell_type": "code",
   "execution_count": 260,
   "metadata": {},
   "outputs": [
    {
     "name": "stdout",
     "output_type": "stream",
     "text": [
      "Number of mislabeled points out of a total 524 points : 278\n"
     ]
    },
    {
     "data": {
      "text/plain": [
       "array([[246,   0,   0],\n",
       "       [187,   0,   0],\n",
       "       [ 91,   0,   0]], dtype=int64)"
      ]
     },
     "execution_count": 260,
     "metadata": {},
     "output_type": "execute_result"
    }
   ],
   "source": [
    "print(\"Number of mislabeled points out of a total %d points : %d\" % (X_test.shape[0], (y_test != y_pred).sum()))\n",
    "#print(\"Accuracy on test set: \"+str(mnb.score(data_X_test,y_test)))\n",
    "confusion_matrix(y_test, y_pred)"
   ]
  },
  {
   "cell_type": "code",
   "execution_count": 382,
   "metadata": {},
   "outputs": [
    {
     "name": "stdout",
     "output_type": "stream",
     "text": [
      "Number of mislabeled points out of a total 524 points : 149\n",
      "Accuracy on test set: 0.7156488549618321\n"
     ]
    },
    {
     "data": {
      "text/plain": [
       "array([[223,  20,   3],\n",
       "       [ 74, 105,   8],\n",
       "       [ 25,  19,  47]], dtype=int64)"
      ]
     },
     "execution_count": 382,
     "metadata": {},
     "output_type": "execute_result"
    }
   ],
   "source": [
    "max_iter = 10e2\n",
    "C=1\n",
    "penalty='l1'\n",
    "\n",
    "# Normal Train and Test\n",
    "\n",
    "from sklearn.linear_model import LogisticRegression\n",
    "model = LogisticRegression(penalty=penalty, C=C, max_iter = max_iter, multi_class='auto', solver=\"liblinear\")\n",
    "#soln = model.fit(data_X_train,Y_train)\n",
    "ypred = model.fit(X_train,Y_train).predict(X_test)\n",
    "\n",
    "print(\"Number of mislabeled points out of a total %d points : %d\" % (X_test.shape[0], (y_test != ypred).sum()))\n",
    "print(\"Accuracy on test set: \"+str(model.score(X_test,y_test)))\n",
    "confusion_matrix(y_test, ypred)"
   ]
  },
  {
   "cell_type": "code",
   "execution_count": 262,
   "metadata": {},
   "outputs": [],
   "source": [
    "from sklearn.svm import SVC"
   ]
  },
  {
   "cell_type": "code",
   "execution_count": 263,
   "metadata": {},
   "outputs": [],
   "source": [
    "clf = SVC(C=.00300,gamma='auto')"
   ]
  },
  {
   "cell_type": "code",
   "execution_count": 264,
   "metadata": {},
   "outputs": [
    {
     "data": {
      "text/plain": [
       "SVC(C=0.003, cache_size=200, class_weight=None, coef0=0.0,\n",
       "    decision_function_shape='ovr', degree=3, gamma='auto', kernel='rbf',\n",
       "    max_iter=-1, probability=False, random_state=None, shrinking=True,\n",
       "    tol=0.001, verbose=False)"
      ]
     },
     "execution_count": 264,
     "metadata": {},
     "output_type": "execute_result"
    }
   ],
   "source": [
    "clf.fit(X_train, Y_train)\n"
   ]
  },
  {
   "cell_type": "code",
   "execution_count": 265,
   "metadata": {},
   "outputs": [
    {
     "name": "stdout",
     "output_type": "stream",
     "text": [
      "Number of mislabeled points out of a total 524 points : 278\n",
      "Accuracy on test set: 0.46946564885496184\n"
     ]
    },
    {
     "data": {
      "text/plain": [
       "array([[246,   0,   0],\n",
       "       [187,   0,   0],\n",
       "       [ 91,   0,   0]], dtype=int64)"
      ]
     },
     "execution_count": 265,
     "metadata": {},
     "output_type": "execute_result"
    }
   ],
   "source": [
    "ypred = clf.fit(X_train,Y_train).predict(X_test)\n",
    "print(\"Number of mislabeled points out of a total %d points : %d\" % (X_test.shape[0], (y_test != ypred).sum()))\n",
    "print(\"Accuracy on test set: \"+str(clf.score(X_test,y_test)))\n",
    "confusion_matrix(y_test, ypred)"
   ]
  },
  {
   "cell_type": "code",
   "execution_count": 266,
   "metadata": {},
   "outputs": [
    {
     "data": {
      "text/plain": [
       "(2071, 3)"
      ]
     },
     "execution_count": 266,
     "metadata": {},
     "output_type": "execute_result"
    }
   ],
   "source": [
    "X_train.shape"
   ]
  },
  {
   "cell_type": "code",
   "execution_count": 267,
   "metadata": {},
   "outputs": [
    {
     "data": {
      "text/plain": [
       "(524, 3)"
      ]
     },
     "execution_count": 267,
     "metadata": {},
     "output_type": "execute_result"
    }
   ],
   "source": [
    "X_test.shape"
   ]
  },
  {
   "cell_type": "code",
   "execution_count": 268,
   "metadata": {},
   "outputs": [
    {
     "data": {
      "text/plain": [
       "array([[2., 0., 0.],\n",
       "       [2., 0., 0.],\n",
       "       [2., 0., 0.],\n",
       "       ...,\n",
       "       [2., 0., 0.],\n",
       "       [2., 0., 0.],\n",
       "       [2., 0., 0.]])"
      ]
     },
     "execution_count": 268,
     "metadata": {},
     "output_type": "execute_result"
    }
   ],
   "source": [
    "X_train"
   ]
  },
  {
   "cell_type": "code",
   "execution_count": 383,
   "metadata": {},
   "outputs": [],
   "source": [
    "from sklearn.model_selection import StratifiedKFold"
   ]
  },
  {
   "cell_type": "code",
   "execution_count": 384,
   "metadata": {},
   "outputs": [],
   "source": [
    "skf = StratifiedKFold(n_splits=5, )"
   ]
  },
  {
   "cell_type": "code",
   "execution_count": 385,
   "metadata": {},
   "outputs": [
    {
     "data": {
      "text/plain": [
       "5"
      ]
     },
     "execution_count": 385,
     "metadata": {},
     "output_type": "execute_result"
    }
   ],
   "source": [
    "skf.get_n_splits(X_train, Y_train)"
   ]
  },
  {
   "cell_type": "code",
   "execution_count": 386,
   "metadata": {},
   "outputs": [
    {
     "name": "stdout",
     "output_type": "stream",
     "text": [
      "TRAIN: (1656,) TEST: (415,)\n",
      "train set distribution\n",
      "[(0, 793), (1, 620), (2, 243)]\n",
      "validation set distribution\n",
      "[(0, 199), (1, 155), (2, 61)]\n",
      "----------------------------\n",
      "TRAIN: (1656,) TEST: (415,)\n",
      "train set distribution\n",
      "[(0, 793), (1, 620), (2, 243)]\n",
      "validation set distribution\n",
      "[(0, 199), (1, 155), (2, 61)]\n",
      "----------------------------\n",
      "TRAIN: (1657,) TEST: (414,)\n",
      "train set distribution\n",
      "[(0, 794), (1, 620), (2, 243)]\n",
      "validation set distribution\n",
      "[(0, 198), (1, 155), (2, 61)]\n",
      "----------------------------\n",
      "TRAIN: (1657,) TEST: (414,)\n",
      "train set distribution\n",
      "[(0, 794), (1, 620), (2, 243)]\n",
      "validation set distribution\n",
      "[(0, 198), (1, 155), (2, 61)]\n",
      "----------------------------\n",
      "TRAIN: (1658,) TEST: (413,)\n",
      "train set distribution\n",
      "[(0, 794), (1, 620), (2, 244)]\n",
      "validation set distribution\n",
      "[(0, 198), (1, 155), (2, 60)]\n",
      "----------------------------\n"
     ]
    }
   ],
   "source": [
    "train_folds = []\n",
    "valid_folds = []\n",
    "for i, (train_index, test_index) in enumerate(skf.split(X_train, Y_train)):\n",
    "    print(\"TRAIN:\", train_index.shape, \"TEST:\", test_index.shape)\n",
    "    x_train_fold, x_valid_fold = X_train[train_index], X_train[test_index]\n",
    "    y_train_fold, y_valid_fold = Y_train[train_index], Y_train[test_index]\n",
    "    bc = np.bincount(y_train_fold)\n",
    "    ii = np.nonzero(bc)[0]\n",
    "    print(\"train set distribution\")\n",
    "    print(list(zip(ii,bc[ii])))\n",
    "    bc = np.bincount(y_valid_fold)\n",
    "    ii = np.nonzero(bc)[0]\n",
    "    print(\"validation set distribution\")\n",
    "    print(list(zip(ii,bc[ii])))\n",
    "    print(\"----------------------------\")\n",
    "    train_fold = np.concatenate((x_train_fold, y_train_fold.reshape(-1, 1)), axis=1)\n",
    "    valid_fold = np.concatenate((x_valid_fold, y_valid_fold.reshape(-1, 1)), axis=1)\n",
    "    train_folds.append(train_fold)\n",
    "    valid_folds.append(valid_fold)"
   ]
  },
  {
   "cell_type": "code",
   "execution_count": 387,
   "metadata": {},
   "outputs": [
    {
     "name": "stdout",
     "output_type": "stream",
     "text": [
      "Number of mislabeled points out of a total 415 points : 100\n",
      "Accuracy on test set: 0.6946564885496184\n",
      "Number of mislabeled points out of a total 415 points : 100\n",
      "Accuracy on test set: 0.6927480916030534\n",
      "Number of mislabeled points out of a total 414 points : 86\n",
      "Accuracy on test set: 0.7099236641221374\n",
      "Number of mislabeled points out of a total 414 points : 94\n",
      "Accuracy on test set: 0.7061068702290076\n",
      "Number of mislabeled points out of a total 413 points : 109\n",
      "Accuracy on test set: 0.7290076335877863\n"
     ]
    }
   ],
   "source": [
    "model = LogisticRegression(penalty=penalty, C=C, max_iter = max_iter, multi_class='auto', solver=\"liblinear\")\n",
    "running_acc=[]\n",
    "for k,l in zip(train_folds,valid_folds):\n",
    "    ypred = model.fit(k[:,:-1],np.ravel(k[:,-1:])).predict((l[:,:-1]))\n",
    "    print(\"Number of mislabeled points out of a total %d points : %d\" % (l[:,:-1].shape[0], (np.ravel(l[:,-1:]) != ypred).sum()))\n",
    "    print(\"Accuracy on test set: \"+str(model.score(X_test,y_test)))\n",
    "    running_acc.append(model.score(X_test,y_test))"
   ]
  },
  {
   "cell_type": "code",
   "execution_count": 345,
   "metadata": {},
   "outputs": [
    {
     "data": {
      "text/plain": [
       "0.4694656488549619"
      ]
     },
     "execution_count": 345,
     "metadata": {},
     "output_type": "execute_result"
    }
   ],
   "source": [
    "sum(running_acc)/len(running_acc)"
   ]
  },
  {
   "cell_type": "code",
   "execution_count": 367,
   "metadata": {},
   "outputs": [
    {
     "data": {
      "text/plain": [
       "0.4694656488549619"
      ]
     },
     "execution_count": 367,
     "metadata": {},
     "output_type": "execute_result"
    }
   ],
   "source": [
    "sum(running_acc)/len(running_acc)"
   ]
  },
  {
   "cell_type": "code",
   "execution_count": null,
   "metadata": {},
   "outputs": [],
   "source": []
  }
 ],
 "metadata": {
  "kernelspec": {
   "display_name": "Python 3",
   "language": "python",
   "name": "python3"
  },
  "language_info": {
   "codemirror_mode": {
    "name": "ipython",
    "version": 3
   },
   "file_extension": ".py",
   "mimetype": "text/x-python",
   "name": "python",
   "nbconvert_exporter": "python",
   "pygments_lexer": "ipython3",
   "version": "3.7.3"
  }
 },
 "nbformat": 4,
 "nbformat_minor": 2
}
