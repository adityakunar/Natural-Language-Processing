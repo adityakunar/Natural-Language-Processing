{
 "cells": [
  {
   "cell_type": "code",
   "execution_count": 1,
   "metadata": {},
   "outputs": [],
   "source": [
    "import sklearn\n",
    "import numpy as np\n",
    "import pandas as pd"
   ]
  },
  {
   "cell_type": "code",
   "execution_count": 2,
   "metadata": {},
   "outputs": [],
   "source": [
    "#import data\n",
    "train = pd.read_csv('../data/raw/Emergent_NAACL2016/emergent/url-versions-2015-06-14-clean-train.csv')\n",
    "train.drop(columns=[\"Unnamed: 0\"], inplace=True)\n",
    "test = pd.read_csv('../data/raw/Emergent_NAACL2016/emergent/url-versions-2015-06-14-clean-test.csv')\n",
    "test.drop(columns=[\"Unnamed: 0\"], inplace=True)"
   ]
  },
  {
   "cell_type": "code",
   "execution_count": 3,
   "metadata": {},
   "outputs": [],
   "source": [
    "#create features\n",
    "align_feature = pd.read_csv('../data/processed/features/alignment_feature.csv')\n",
    "cosine_feature = pd.read_csv('../data/processed/features/cosine_feature.csv')\n",
    "bow_feature = pd.read_csv('../data/processed/features/headline_BoWBigram.csv')\n",
    "qmark_feature = pd.read_csv('../data/processed/features/headline_Qmark.csv')\n",
    "neg_alignment_feature = pd.read_csv('../data/processed/features/neg_alignment_feature.csv')\n",
    "root_dist_feature = pd.read_csv('../data/processed/features/root_dist_min.csv')\n",
    "svo_feature = pd.read_csv('../data/processed/features/svo_Lexical.csv')"
   ]
  },
  {
   "cell_type": "code",
   "execution_count": 4,
   "metadata": {},
   "outputs": [],
   "source": [
    "target_map = {\"for\": 0, \"observing\": 1, \"against\": 2}"
   ]
  },
  {
   "cell_type": "code",
   "execution_count": 5,
   "metadata": {},
   "outputs": [],
   "source": [
    "train = train.replace({\"articleHeadlineStance\": target_map})"
   ]
  },
  {
   "cell_type": "code",
   "execution_count": 6,
   "metadata": {},
   "outputs": [],
   "source": [
    "test = test.replace({\"articleHeadlineStance\": target_map})"
   ]
  },
  {
   "cell_type": "code",
   "execution_count": 7,
   "metadata": {},
   "outputs": [
    {
     "data": {
      "text/plain": [
       "(0    992\n",
       " 1    775\n",
       " 2    304\n",
       " Name: articleHeadlineStance, dtype: int64, 0    246\n",
       " 1    187\n",
       " 2     91\n",
       " Name: articleHeadlineStance, dtype: int64)"
      ]
     },
     "execution_count": 7,
     "metadata": {},
     "output_type": "execute_result"
    }
   ],
   "source": [
    "train[\"articleHeadlineStance\"].value_counts(),test[\"articleHeadlineStance\"].value_counts()"
   ]
  },
  {
   "cell_type": "code",
   "execution_count": 8,
   "metadata": {},
   "outputs": [],
   "source": [
    "train = pd.merge(train, align_feature, on=\"articleId\")\n",
    "train = pd.merge(train, cosine_feature, on=\"articleId\")\n",
    "train = pd.merge(train, bow_feature, on=\"articleId\")\n",
    "train = pd.merge(train, qmark_feature, on=\"articleId\")\n",
    "train = pd.merge(train, neg_alignment_feature, on=\"articleId\")\n",
    "train = pd.merge(train, root_dist_feature, on=\"articleId\")\n",
    "train = pd.merge(train, svo_feature, on=\"articleId\")"
   ]
  },
  {
   "cell_type": "code",
   "execution_count": 9,
   "metadata": {},
   "outputs": [],
   "source": [
    "test = pd.merge(test, align_feature, on=\"articleId\")\n",
    "test = pd.merge(test, cosine_feature, on=\"articleId\")\n",
    "test = pd.merge(test, bow_feature, on=\"articleId\")\n",
    "test = pd.merge(test, qmark_feature, on=\"articleId\")\n",
    "test = pd.merge(test, neg_alignment_feature, on=\"articleId\")\n",
    "test = pd.merge(test, root_dist_feature, on=\"articleId\")\n",
    "test = pd.merge(test, svo_feature, on=\"articleId\")"
   ]
  },
  {
   "cell_type": "code",
   "execution_count": 10,
   "metadata": {},
   "outputs": [],
   "source": [
    "train[\"articleHeadlineStance\"] = train[\"articleHeadlineStance\"].astype(\"int\")"
   ]
  },
  {
   "cell_type": "code",
   "execution_count": 11,
   "metadata": {},
   "outputs": [],
   "source": [
    "test[\"articleHeadlineStance\"] = test[\"articleHeadlineStance\"].astype(\"int\")"
   ]
  },
  {
   "cell_type": "code",
   "execution_count": 12,
   "metadata": {},
   "outputs": [],
   "source": [
    "# merge datasets and shuuffle with random seed\n",
    "seed = 1234\n",
    "\n",
    "train = sklearn.utils.shuffle(train, random_state=seed)\n",
    "test = sklearn.utils.shuffle(test, random_state=seed)\n"
   ]
  },
  {
   "cell_type": "code",
   "execution_count": 13,
   "metadata": {},
   "outputs": [],
   "source": [
    "# create train and test\n",
    "\n",
    "X_train = train.to_numpy()[:,5:]\n",
    "Y_train = train[\"articleHeadlineStance\"].values.reshape((-1,))\n",
    "\n",
    "X_test = test.to_numpy()[:,5:]\n",
    "Y_test = test[\"articleHeadlineStance\"].values.reshape((-1,))"
   ]
  },
  {
   "cell_type": "code",
   "execution_count": 14,
   "metadata": {},
   "outputs": [],
   "source": [
    "Y_train = Y_train.astype(int)\n",
    "X_train = X_train.astype(float)\n",
    "X_test = X_test.astype(float)\n",
    "y_test = Y_test.astype(int)"
   ]
  },
  {
   "cell_type": "code",
   "execution_count": 17,
   "metadata": {},
   "outputs": [],
   "source": [
    "from sklearn import metrics\n",
    "Xt=X_train.T\n",
    "mi_metric=[]\n",
    "for i in range(Xt.shape[0]):\n",
    "    mi_metric.append(metrics.mutual_info_score(list(Xt[i]),list(Y_train)))\n",
    "        "
   ]
  },
  {
   "cell_type": "code",
   "execution_count": 18,
   "metadata": {},
   "outputs": [],
   "source": [
    "indices=[]\n",
    "for i in enumerate(mi_metric):\n",
    "    if i[1]>0.001:\n",
    "        indices.append(i[0])\n",
    "data_X_train = X_train[:, indices]\n",
    "data_X_test = X_test[:, indices]  "
   ]
  },
  {
   "cell_type": "code",
   "execution_count": 15,
   "metadata": {},
   "outputs": [],
   "source": [
    "from sklearn.naive_bayes import GaussianNB\n",
    "from sklearn.naive_bayes import MultinomialNB\n",
    "from sklearn.metrics import confusion_matrix"
   ]
  },
  {
   "cell_type": "code",
   "execution_count": 16,
   "metadata": {},
   "outputs": [],
   "source": [
    "gnb = GaussianNB()"
   ]
  },
  {
   "cell_type": "code",
   "execution_count": 19,
   "metadata": {},
   "outputs": [],
   "source": [
    "y_pred = gnb.fit(X_train, Y_train).predict(X_test)\n",
    "#y_pred = gnb.fit(data_X_train, Y_train).predict(data_X_test)"
   ]
  },
  {
   "cell_type": "code",
   "execution_count": 21,
   "metadata": {},
   "outputs": [
    {
     "name": "stdout",
     "output_type": "stream",
     "text": [
      "Number of mislabeled points out of a total 524 points : 273\n",
      "Accuracy on test set: 47.900763358778626\n"
     ]
    },
    {
     "data": {
      "text/plain": [
       "array([[127, 102,  17],\n",
       "       [ 81,  89,  17],\n",
       "       [ 21,  35,  35]], dtype=int64)"
      ]
     },
     "execution_count": 21,
     "metadata": {},
     "output_type": "execute_result"
    }
   ],
   "source": [
    "print(\"Number of mislabeled points out of a total %d points : %d\" % (X_test.shape[0], (y_test != y_pred).sum()))\n",
    "print(\"Accuracy on test set: \"+str(gnb.score(X_test,y_test)*100))\n",
    "confusion_matrix(y_test, y_pred)"
   ]
  },
  {
   "cell_type": "code",
   "execution_count": 22,
   "metadata": {},
   "outputs": [],
   "source": [
    "# need to remove the numeric features to do multi-nomial naive bayes.\n",
    "mnb = MultinomialNB()\n",
    "X_train = train.to_numpy()[:,7:]\n",
    "Y_train = train[\"articleHeadlineStance\"].values.reshape((-1,))\n",
    "X_test = test.to_numpy()[:,7:]\n",
    "Y_test = test[\"articleHeadlineStance\"].values.reshape((-1,))\n",
    "Y_train = Y_train.astype(int)\n",
    "X_train = X_train.astype(float)\n",
    "X_test = X_test.astype(float)\n",
    "y_test = Y_test.astype(int)\n",
    "\n",
    "\n",
    "y_pred = mnb.fit(X_train, Y_train).predict(X_test)\n",
    "#y_pred = mnb.fit(data_X_train, Y_train).predict(data_X_test)"
   ]
  },
  {
   "cell_type": "code",
   "execution_count": 23,
   "metadata": {},
   "outputs": [
    {
     "name": "stdout",
     "output_type": "stream",
     "text": [
      "Number of mislabeled points out of a total 524 points : 213\n",
      "Accuracy on test set: 59.35114503816794\n"
     ]
    },
    {
     "data": {
      "text/plain": [
       "array([[135,  64,  47],\n",
       "       [ 33, 114,  40],\n",
       "       [ 11,  18,  62]], dtype=int64)"
      ]
     },
     "execution_count": 23,
     "metadata": {},
     "output_type": "execute_result"
    }
   ],
   "source": [
    "print(\"Number of mislabeled points out of a total %d points : %d\" % (X_test.shape[0], (y_test != y_pred).sum()))\n",
    "print(\"Accuracy on test set: \"+str(100*(X_test.shape[0]-(y_test != y_pred).sum())/X_test.shape[0]))\n",
    "confusion_matrix(y_test, y_pred)"
   ]
  },
  {
   "cell_type": "code",
   "execution_count": 24,
   "metadata": {},
   "outputs": [
    {
     "name": "stdout",
     "output_type": "stream",
     "text": [
      "Number of mislabeled points out of a total 524 points : 150\n",
      "Accuracy on test set: 0.7137404580152672\n"
     ]
    },
    {
     "data": {
      "text/plain": [
       "array([[223,  22,   1],\n",
       "       [ 78, 101,   8],\n",
       "       [ 25,  16,  50]], dtype=int64)"
      ]
     },
     "execution_count": 24,
     "metadata": {},
     "output_type": "execute_result"
    }
   ],
   "source": [
    "max_iter = 10e2\n",
    "C=1\n",
    "penalty='l1'\n",
    "\n",
    "# Normal Train and Test\n",
    "\n",
    "from sklearn.linear_model import LogisticRegression\n",
    "model = LogisticRegression(penalty=penalty, C=C, max_iter = max_iter, multi_class='auto', solver=\"liblinear\")\n",
    "ypred = model.fit(X_train,Y_train).predict(X_test)\n",
    "\n",
    "print(\"Number of mislabeled points out of a total %d points : %d\" % (X_test.shape[0], (y_test != ypred).sum()))\n",
    "print(\"Accuracy on test set: \"+str(model.score(X_test,y_test)))\n",
    "confusion_matrix(y_test, ypred)"
   ]
  },
  {
   "cell_type": "code",
   "execution_count": 40,
   "metadata": {},
   "outputs": [],
   "source": [
    "from sklearn.model_selection import StratifiedKFold"
   ]
  },
  {
   "cell_type": "code",
   "execution_count": 47,
   "metadata": {},
   "outputs": [],
   "source": [
    "skf = StratifiedKFold(n_splits=10, )"
   ]
  },
  {
   "cell_type": "code",
   "execution_count": 48,
   "metadata": {},
   "outputs": [
    {
     "data": {
      "text/plain": [
       "10"
      ]
     },
     "execution_count": 48,
     "metadata": {},
     "output_type": "execute_result"
    }
   ],
   "source": [
    "skf.get_n_splits(X_train, Y_train)"
   ]
  },
  {
   "cell_type": "code",
   "execution_count": 49,
   "metadata": {},
   "outputs": [
    {
     "name": "stdout",
     "output_type": "stream",
     "text": [
      "TRAIN: (1862,) TEST: (209,)\n",
      "train set distribution\n",
      "[(0, 892), (1, 697), (2, 273)]\n",
      "validation set distribution\n",
      "[(0, 100), (1, 78), (2, 31)]\n",
      "----------------------------\n",
      "TRAIN: (1862,) TEST: (209,)\n",
      "train set distribution\n",
      "[(0, 892), (1, 697), (2, 273)]\n",
      "validation set distribution\n",
      "[(0, 100), (1, 78), (2, 31)]\n",
      "----------------------------\n",
      "TRAIN: (1863,) TEST: (208,)\n",
      "train set distribution\n",
      "[(0, 893), (1, 697), (2, 273)]\n",
      "validation set distribution\n",
      "[(0, 99), (1, 78), (2, 31)]\n",
      "----------------------------\n",
      "TRAIN: (1863,) TEST: (208,)\n",
      "train set distribution\n",
      "[(0, 893), (1, 697), (2, 273)]\n",
      "validation set distribution\n",
      "[(0, 99), (1, 78), (2, 31)]\n",
      "----------------------------\n",
      "TRAIN: (1864,) TEST: (207,)\n",
      "train set distribution\n",
      "[(0, 893), (1, 697), (2, 274)]\n",
      "validation set distribution\n",
      "[(0, 99), (1, 78), (2, 30)]\n",
      "----------------------------\n",
      "TRAIN: (1865,) TEST: (206,)\n",
      "train set distribution\n",
      "[(0, 893), (1, 698), (2, 274)]\n",
      "validation set distribution\n",
      "[(0, 99), (1, 77), (2, 30)]\n",
      "----------------------------\n",
      "TRAIN: (1865,) TEST: (206,)\n",
      "train set distribution\n",
      "[(0, 893), (1, 698), (2, 274)]\n",
      "validation set distribution\n",
      "[(0, 99), (1, 77), (2, 30)]\n",
      "----------------------------\n",
      "TRAIN: (1865,) TEST: (206,)\n",
      "train set distribution\n",
      "[(0, 893), (1, 698), (2, 274)]\n",
      "validation set distribution\n",
      "[(0, 99), (1, 77), (2, 30)]\n",
      "----------------------------\n",
      "TRAIN: (1865,) TEST: (206,)\n",
      "train set distribution\n",
      "[(0, 893), (1, 698), (2, 274)]\n",
      "validation set distribution\n",
      "[(0, 99), (1, 77), (2, 30)]\n",
      "----------------------------\n",
      "TRAIN: (1865,) TEST: (206,)\n",
      "train set distribution\n",
      "[(0, 893), (1, 698), (2, 274)]\n",
      "validation set distribution\n",
      "[(0, 99), (1, 77), (2, 30)]\n",
      "----------------------------\n"
     ]
    }
   ],
   "source": [
    "train_folds = []\n",
    "valid_folds = []\n",
    "for i, (train_index, test_index) in enumerate(skf.split(X_train, Y_train)):\n",
    "    print(\"TRAIN:\", train_index.shape, \"TEST:\", test_index.shape)\n",
    "    x_train_fold, x_valid_fold = X_train[train_index], X_train[test_index]\n",
    "    y_train_fold, y_valid_fold = Y_train[train_index], Y_train[test_index]\n",
    "    bc = np.bincount(y_train_fold)\n",
    "    ii = np.nonzero(bc)[0]\n",
    "    print(\"train set distribution\")\n",
    "    print(list(zip(ii,bc[ii])))\n",
    "    bc = np.bincount(y_valid_fold)\n",
    "    ii = np.nonzero(bc)[0]\n",
    "    print(\"validation set distribution\")\n",
    "    print(list(zip(ii,bc[ii])))\n",
    "    print(\"----------------------------\")\n",
    "    train_fold = np.concatenate((x_train_fold, y_train_fold.reshape(-1, 1)), axis=1)\n",
    "    valid_fold = np.concatenate((x_valid_fold, y_valid_fold.reshape(-1, 1)), axis=1)\n",
    "    train_folds.append(train_fold)\n",
    "    valid_folds.append(valid_fold)"
   ]
  },
  {
   "cell_type": "code",
   "execution_count": 50,
   "metadata": {},
   "outputs": [
    {
     "name": "stdout",
     "output_type": "stream",
     "text": [
      "Number of mislabeled points out of a total 209 points : 60\n",
      "Accuracy on test set: 0.6755725190839694\n",
      "Number of mislabeled points out of a total 209 points : 60\n",
      "Accuracy on test set: 0.6946564885496184\n",
      "Number of mislabeled points out of a total 208 points : 62\n",
      "Accuracy on test set: 0.6812977099236641\n",
      "Number of mislabeled points out of a total 208 points : 56\n",
      "Accuracy on test set: 0.6851145038167938\n",
      "Number of mislabeled points out of a total 207 points : 55\n",
      "Accuracy on test set: 0.6851145038167938\n",
      "Number of mislabeled points out of a total 206 points : 60\n",
      "Accuracy on test set: 0.6889312977099237\n",
      "Number of mislabeled points out of a total 206 points : 64\n",
      "Accuracy on test set: 0.6793893129770993\n",
      "Number of mislabeled points out of a total 206 points : 57\n",
      "Accuracy on test set: 0.6851145038167938\n",
      "Number of mislabeled points out of a total 206 points : 64\n",
      "Accuracy on test set: 0.6812977099236641\n",
      "Number of mislabeled points out of a total 206 points : 63\n",
      "Accuracy on test set: 0.683206106870229\n"
     ]
    }
   ],
   "source": [
    "model = LogisticRegression(penalty=penalty, C=C, max_iter = max_iter, multi_class='auto', solver=\"liblinear\")\n",
    "running_acc=[]\n",
    "for k,l in zip(train_folds,valid_folds):\n",
    "    ypred = model.fit(k[:,:-1],np.ravel(k[:,-1:])).predict((l[:,:-1]))\n",
    "    print(\"Number of mislabeled points out of a total %d points : %d\" % (l[:,:-1].shape[0], (np.ravel(l[:,-1:]) != ypred).sum()))\n",
    "    print(\"Accuracy on test set: \"+str(model.score(X_test,y_test)))\n",
    "    running_acc.append(model.score(X_test,y_test))"
   ]
  },
  {
   "cell_type": "code",
   "execution_count": 51,
   "metadata": {},
   "outputs": [
    {
     "data": {
      "text/plain": [
       "0.683969465648855"
      ]
     },
     "execution_count": 51,
     "metadata": {},
     "output_type": "execute_result"
    }
   ],
   "source": [
    "sum(running_acc)/len(running_acc)"
   ]
  },
  {
   "cell_type": "code",
   "execution_count": null,
   "metadata": {},
   "outputs": [],
   "source": []
  }
 ],
 "metadata": {
  "kernelspec": {
   "display_name": "Python 3",
   "language": "python",
   "name": "python3"
  },
  "language_info": {
   "codemirror_mode": {
    "name": "ipython",
    "version": 3
   },
   "file_extension": ".py",
   "mimetype": "text/x-python",
   "name": "python",
   "nbconvert_exporter": "python",
   "pygments_lexer": "ipython3",
   "version": "3.7.3"
  }
 },
 "nbformat": 4,
 "nbformat_minor": 2
}
