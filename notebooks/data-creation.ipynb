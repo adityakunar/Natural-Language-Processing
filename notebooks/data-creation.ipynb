{
 "cells": [
  {
   "cell_type": "code",
   "execution_count": 4,
   "metadata": {},
   "outputs": [],
   "source": [
    "import sklearn\n",
    "import numpy as np\n",
    "import pandas as pd"
   ]
  },
  {
   "cell_type": "code",
   "execution_count": 6,
   "metadata": {},
   "outputs": [],
   "source": [
    "#import data\n",
    "train = pd.read_csv('../data/raw/url-versions-2015-06-14-clean-train.csv')\n",
    "train.drop(columns=[\"Unnamed: 0\"], inplace=True)\n",
    "test = pd.read_csv('../data/raw/url-versions-2015-06-14-clean-test.csv')\n",
    "test.drop(columns=[\"Unnamed: 0\"], inplace=True)"
   ]
  },
  {
   "cell_type": "code",
   "execution_count": 7,
   "metadata": {},
   "outputs": [],
   "source": [
    "align_feature = pd.read_csv('../data/processed/features/alignment_feature.csv')\n",
    "cosine_feature = pd.read_csv('../data/processed/features/cosine_feature.csv')\n",
    "bow_feature = pd.read_csv('../data/processed/features/headline_BoWF.csv')\n",
    "qmark_feature = pd.read_csv('../data/processed/features/headline_Qmark.csv')\n",
    "neg_alignment_feature = pd.read_csv('../data/processed/features/neg_alignment_feature.csv')\n",
    "root_dist_feature = pd.read_csv('../data/processed/features/root_dist.csv')\n",
    "svo_feature = pd.read_csv('../data/processed/features/svo.csv')"
   ]
  },
  {
   "cell_type": "code",
   "execution_count": 8,
   "metadata": {},
   "outputs": [],
   "source": [
    "#target_map = {\"for\": 0, \"observing\": 1, \"against\": 2}"
   ]
  },
  {
   "cell_type": "code",
   "execution_count": 9,
   "metadata": {},
   "outputs": [],
   "source": [
    "#train = train.replace({\"articleHeadlineStance\": target_map})"
   ]
  },
  {
   "cell_type": "code",
   "execution_count": 10,
   "metadata": {},
   "outputs": [],
   "source": [
    "#test = test.replace({\"articleHeadlineStance\": target_map})"
   ]
  },
  {
   "cell_type": "code",
   "execution_count": 11,
   "metadata": {},
   "outputs": [
    {
     "data": {
      "text/plain": [
       "(for          992\n",
       " observing    775\n",
       " against      304\n",
       " Name: articleHeadlineStance, dtype: int64,\n",
       " for          246\n",
       " observing    187\n",
       " against       91\n",
       " Name: articleHeadlineStance, dtype: int64)"
      ]
     },
     "execution_count": 11,
     "metadata": {},
     "output_type": "execute_result"
    }
   ],
   "source": [
    "train[\"articleHeadlineStance\"].value_counts(),test[\"articleHeadlineStance\"].value_counts()\n"
   ]
  },
  {
   "cell_type": "code",
   "execution_count": 12,
   "metadata": {},
   "outputs": [],
   "source": [
    "train = pd.merge(train, align_feature, on=\"articleId\")\n",
    "train = pd.merge(train, cosine_feature, on=\"articleId\")\n",
    "train = pd.merge(train, bow_feature, on=\"articleId\")\n",
    "train = pd.merge(train, qmark_feature, on=\"articleId\")\n",
    "train = pd.merge(train, neg_alignment_feature, on=\"articleId\")\n",
    "train = pd.merge(train, root_dist_feature, on=\"articleId\")\n",
    "train = pd.merge(train, svo_feature, on=\"articleId\")"
   ]
  },
  {
   "cell_type": "code",
   "execution_count": 13,
   "metadata": {},
   "outputs": [],
   "source": [
    "test = pd.merge(test, align_feature, on=\"articleId\")\n",
    "test = pd.merge(test, cosine_feature, on=\"articleId\")\n",
    "test = pd.merge(test, bow_feature, on=\"articleId\")\n",
    "test = pd.merge(test, qmark_feature, on=\"articleId\")\n",
    "test = pd.merge(test, neg_alignment_feature, on=\"articleId\")\n",
    "test = pd.merge(test, root_dist_feature, on=\"articleId\")\n",
    "test = pd.merge(test, svo_feature, on=\"articleId\")"
   ]
  },
  {
   "cell_type": "code",
   "execution_count": 15,
   "metadata": {},
   "outputs": [],
   "source": [
    "#train[\"articleHeadlineStance\"] = train[\"articleHeadlineStance\"].astype(\"int\")"
   ]
  },
  {
   "cell_type": "code",
   "execution_count": 16,
   "metadata": {},
   "outputs": [],
   "source": [
    "#test[\"articleHeadlineStance\"] = test[\"articleHeadlineStance\"].astype(\"int\")"
   ]
  },
  {
   "cell_type": "code",
   "execution_count": 17,
   "metadata": {},
   "outputs": [],
   "source": [
    "# merge datasets and shuuffle with random seed\n",
    "seed = 1234\n",
    "\n",
    "train = sklearn.utils.shuffle(train, random_state=seed)\n",
    "test = sklearn.utils.shuffle(test, random_state=seed)\n"
   ]
  },
  {
   "cell_type": "code",
   "execution_count": 18,
   "metadata": {},
   "outputs": [
    {
     "data": {
      "text/html": [
       "<div>\n",
       "<style scoped>\n",
       "    .dataframe tbody tr th:only-of-type {\n",
       "        vertical-align: middle;\n",
       "    }\n",
       "\n",
       "    .dataframe tbody tr th {\n",
       "        vertical-align: top;\n",
       "    }\n",
       "\n",
       "    .dataframe thead th {\n",
       "        text-align: right;\n",
       "    }\n",
       "</style>\n",
       "<table border=\"1\" class=\"dataframe\">\n",
       "  <thead>\n",
       "    <tr style=\"text-align: right;\">\n",
       "      <th></th>\n",
       "      <th>claimHeadline</th>\n",
       "      <th>articleHeadline</th>\n",
       "      <th>articleHeadlineStance</th>\n",
       "      <th>articleId</th>\n",
       "      <th>claimId</th>\n",
       "      <th>alignmentScore</th>\n",
       "      <th>cosineSim</th>\n",
       "      <th>1</th>\n",
       "      <th>2</th>\n",
       "      <th>3</th>\n",
       "      <th>...</th>\n",
       "      <th>20550</th>\n",
       "      <th>20551</th>\n",
       "      <th>Qmark</th>\n",
       "      <th>negAlignmentScore</th>\n",
       "      <th>rootDistance</th>\n",
       "      <th>hedgedRootDistance</th>\n",
       "      <th>refuteRootDistance</th>\n",
       "      <th>subject_entailments</th>\n",
       "      <th>object_entailments</th>\n",
       "      <th>relation_entailments</th>\n",
       "    </tr>\n",
       "  </thead>\n",
       "  <tbody>\n",
       "    <tr>\n",
       "      <th>1605</th>\n",
       "      <td>A Catholic priest who was declared clinically ...</td>\n",
       "      <td>Op-Ed: Hoax Priest who never existed claims he...</td>\n",
       "      <td>against</td>\n",
       "      <td>8fbd8440-bb74-11e4-b073-ed15c88bfa1e</td>\n",
       "      <td>f5891b80-ba9e-11e4-b073-ed15c88bfa1e</td>\n",
       "      <td>0.419371</td>\n",
       "      <td>-0.049733</td>\n",
       "      <td>0</td>\n",
       "      <td>0</td>\n",
       "      <td>0</td>\n",
       "      <td>...</td>\n",
       "      <td>0</td>\n",
       "      <td>0</td>\n",
       "      <td>0</td>\n",
       "      <td>1</td>\n",
       "      <td>5</td>\n",
       "      <td>6</td>\n",
       "      <td>0</td>\n",
       "      <td>2</td>\n",
       "      <td>0</td>\n",
       "      <td>0</td>\n",
       "    </tr>\n",
       "    <tr>\n",
       "      <th>973</th>\n",
       "      <td>ISIS beheaded journalist James Wright Foley</td>\n",
       "      <td>Islamic State releases video apparently showin...</td>\n",
       "      <td>observing</td>\n",
       "      <td>a76737d0-2803-11e4-a916-bf0b27b73ad5</td>\n",
       "      <td>c38db880-27e0-11e4-96be-dfc0d1eebaea</td>\n",
       "      <td>3.333333</td>\n",
       "      <td>-0.763106</td>\n",
       "      <td>0</td>\n",
       "      <td>0</td>\n",
       "      <td>0</td>\n",
       "      <td>...</td>\n",
       "      <td>0</td>\n",
       "      <td>0</td>\n",
       "      <td>0</td>\n",
       "      <td>0</td>\n",
       "      <td>0</td>\n",
       "      <td>0</td>\n",
       "      <td>0</td>\n",
       "      <td>2</td>\n",
       "      <td>0</td>\n",
       "      <td>0</td>\n",
       "    </tr>\n",
       "    <tr>\n",
       "      <th>484</th>\n",
       "      <td>An abandoned dog was found at Scottish railway...</td>\n",
       "      <td>Dog abandoned at Ayr station with belongings i...</td>\n",
       "      <td>for</td>\n",
       "      <td>63254080-9685-11e4-87a8-1d5d45e62193</td>\n",
       "      <td>26ced990-9683-11e4-87a8-1d5d45e62193</td>\n",
       "      <td>7.060250</td>\n",
       "      <td>0.008224</td>\n",
       "      <td>0</td>\n",
       "      <td>0</td>\n",
       "      <td>0</td>\n",
       "      <td>...</td>\n",
       "      <td>0</td>\n",
       "      <td>0</td>\n",
       "      <td>0</td>\n",
       "      <td>0</td>\n",
       "      <td>0</td>\n",
       "      <td>0</td>\n",
       "      <td>0</td>\n",
       "      <td>0</td>\n",
       "      <td>0</td>\n",
       "      <td>0</td>\n",
       "    </tr>\n",
       "    <tr>\n",
       "      <th>344</th>\n",
       "      <td>A man was saved from a bear attack thanks to a...</td>\n",
       "      <td>Finally, proof that Justin Bieber IS unbearabl...</td>\n",
       "      <td>for</td>\n",
       "      <td>641ae450-1ce5-11e4-8c09-cd48fe37674e</td>\n",
       "      <td>27b04730-1ce5-11e4-8c09-cd48fe37674e</td>\n",
       "      <td>1.881284</td>\n",
       "      <td>0.001697</td>\n",
       "      <td>0</td>\n",
       "      <td>0</td>\n",
       "      <td>0</td>\n",
       "      <td>...</td>\n",
       "      <td>0</td>\n",
       "      <td>0</td>\n",
       "      <td>0</td>\n",
       "      <td>0</td>\n",
       "      <td>0</td>\n",
       "      <td>0</td>\n",
       "      <td>0</td>\n",
       "      <td>2</td>\n",
       "      <td>0</td>\n",
       "      <td>0</td>\n",
       "    </tr>\n",
       "    <tr>\n",
       "      <th>793</th>\n",
       "      <td>The iPhone 6 pulls out facial hair when being ...</td>\n",
       "      <td>Is the iPhone 6 Really Pulling Out Your Hair?</td>\n",
       "      <td>observing</td>\n",
       "      <td>1694cb60-4e5e-11e4-949b-f14041b20838</td>\n",
       "      <td>ce44add0-4e5d-11e4-949b-f14041b20838</td>\n",
       "      <td>4.805587</td>\n",
       "      <td>0.377893</td>\n",
       "      <td>0</td>\n",
       "      <td>0</td>\n",
       "      <td>0</td>\n",
       "      <td>...</td>\n",
       "      <td>0</td>\n",
       "      <td>0</td>\n",
       "      <td>1</td>\n",
       "      <td>0</td>\n",
       "      <td>0</td>\n",
       "      <td>0</td>\n",
       "      <td>0</td>\n",
       "      <td>0</td>\n",
       "      <td>0</td>\n",
       "      <td>0</td>\n",
       "    </tr>\n",
       "    <tr>\n",
       "      <th>...</th>\n",
       "      <td>...</td>\n",
       "      <td>...</td>\n",
       "      <td>...</td>\n",
       "      <td>...</td>\n",
       "      <td>...</td>\n",
       "      <td>...</td>\n",
       "      <td>...</td>\n",
       "      <td>...</td>\n",
       "      <td>...</td>\n",
       "      <td>...</td>\n",
       "      <td>...</td>\n",
       "      <td>...</td>\n",
       "      <td>...</td>\n",
       "      <td>...</td>\n",
       "      <td>...</td>\n",
       "      <td>...</td>\n",
       "      <td>...</td>\n",
       "      <td>...</td>\n",
       "      <td>...</td>\n",
       "      <td>...</td>\n",
       "      <td>...</td>\n",
       "    </tr>\n",
       "    <tr>\n",
       "      <th>279</th>\n",
       "      <td>Abdel-Majed Abdel Bary beheaded James Wright F...</td>\n",
       "      <td>The rapper, the hacker and the terror travel g...</td>\n",
       "      <td>observing</td>\n",
       "      <td>54860a50-2bf5-11e4-89c5-1d389b94bc4b</td>\n",
       "      <td>98933d20-2bec-11e4-89c5-1d389b94bc4b</td>\n",
       "      <td>-1.428571</td>\n",
       "      <td>0.002429</td>\n",
       "      <td>0</td>\n",
       "      <td>0</td>\n",
       "      <td>0</td>\n",
       "      <td>...</td>\n",
       "      <td>0</td>\n",
       "      <td>0</td>\n",
       "      <td>1</td>\n",
       "      <td>0</td>\n",
       "      <td>0</td>\n",
       "      <td>0</td>\n",
       "      <td>0</td>\n",
       "      <td>2</td>\n",
       "      <td>0</td>\n",
       "      <td>0</td>\n",
       "    </tr>\n",
       "    <tr>\n",
       "      <th>2041</th>\n",
       "      <td>Lovesick woman stays in KFC for one week</td>\n",
       "      <td>Heartbroken girl spends week in KFC after gett...</td>\n",
       "      <td>for</td>\n",
       "      <td>b72e5410-9ff8-11e4-a353-5b831fe927be</td>\n",
       "      <td>40f8caf0-9ff8-11e4-a353-5b831fe927be</td>\n",
       "      <td>2.369236</td>\n",
       "      <td>0.011158</td>\n",
       "      <td>0</td>\n",
       "      <td>0</td>\n",
       "      <td>0</td>\n",
       "      <td>...</td>\n",
       "      <td>0</td>\n",
       "      <td>0</td>\n",
       "      <td>0</td>\n",
       "      <td>0</td>\n",
       "      <td>0</td>\n",
       "      <td>0</td>\n",
       "      <td>0</td>\n",
       "      <td>4</td>\n",
       "      <td>0</td>\n",
       "      <td>0</td>\n",
       "    </tr>\n",
       "    <tr>\n",
       "      <th>664</th>\n",
       "      <td>The group behind the Sony hack sent a message ...</td>\n",
       "      <td>Hackers tell Sony wise to cancel film, don't m...</td>\n",
       "      <td>observing</td>\n",
       "      <td>2f93ed80-8798-11e4-a13d-d9bce527941d</td>\n",
       "      <td>9e769320-8797-11e4-a13d-d9bce527941d</td>\n",
       "      <td>-7.142857</td>\n",
       "      <td>-0.000153</td>\n",
       "      <td>0</td>\n",
       "      <td>0</td>\n",
       "      <td>0</td>\n",
       "      <td>...</td>\n",
       "      <td>0</td>\n",
       "      <td>0</td>\n",
       "      <td>0</td>\n",
       "      <td>1</td>\n",
       "      <td>8</td>\n",
       "      <td>0</td>\n",
       "      <td>0</td>\n",
       "      <td>2</td>\n",
       "      <td>0</td>\n",
       "      <td>0</td>\n",
       "    </tr>\n",
       "    <tr>\n",
       "      <th>1318</th>\n",
       "      <td>Video shows a U.S. Marine surviving being shot...</td>\n",
       "      <td>US Marine survives headshot in Afghanistan</td>\n",
       "      <td>for</td>\n",
       "      <td>1e61e760-5543-11e4-b6a0-9705a8f94440</td>\n",
       "      <td>74b32120-553d-11e4-b6a0-9705a8f94440</td>\n",
       "      <td>-3.333333</td>\n",
       "      <td>-0.231769</td>\n",
       "      <td>0</td>\n",
       "      <td>0</td>\n",
       "      <td>0</td>\n",
       "      <td>...</td>\n",
       "      <td>0</td>\n",
       "      <td>0</td>\n",
       "      <td>0</td>\n",
       "      <td>0</td>\n",
       "      <td>0</td>\n",
       "      <td>0</td>\n",
       "      <td>0</td>\n",
       "      <td>2</td>\n",
       "      <td>0</td>\n",
       "      <td>0</td>\n",
       "    </tr>\n",
       "    <tr>\n",
       "      <th>723</th>\n",
       "      <td>Claim Hewlett-Packard will split itself into t...</td>\n",
       "      <td>HP confirms plan to split company</td>\n",
       "      <td>for</td>\n",
       "      <td>0992cc30-4d52-11e4-949b-f14041b20838</td>\n",
       "      <td>2b11bc30-4cbd-11e4-949b-f14041b20838</td>\n",
       "      <td>-3.333333</td>\n",
       "      <td>-0.027663</td>\n",
       "      <td>0</td>\n",
       "      <td>0</td>\n",
       "      <td>0</td>\n",
       "      <td>...</td>\n",
       "      <td>0</td>\n",
       "      <td>0</td>\n",
       "      <td>0</td>\n",
       "      <td>0</td>\n",
       "      <td>0</td>\n",
       "      <td>0</td>\n",
       "      <td>0</td>\n",
       "      <td>2</td>\n",
       "      <td>0</td>\n",
       "      <td>0</td>\n",
       "    </tr>\n",
       "  </tbody>\n",
       "</table>\n",
       "<p>2071 rows × 20566 columns</p>\n",
       "</div>"
      ],
      "text/plain": [
       "                                          claimHeadline  \\\n",
       "1605  A Catholic priest who was declared clinically ...   \n",
       "973         ISIS beheaded journalist James Wright Foley   \n",
       "484   An abandoned dog was found at Scottish railway...   \n",
       "344   A man was saved from a bear attack thanks to a...   \n",
       "793   The iPhone 6 pulls out facial hair when being ...   \n",
       "...                                                 ...   \n",
       "279   Abdel-Majed Abdel Bary beheaded James Wright F...   \n",
       "2041           Lovesick woman stays in KFC for one week   \n",
       "664   The group behind the Sony hack sent a message ...   \n",
       "1318  Video shows a U.S. Marine surviving being shot...   \n",
       "723   Claim Hewlett-Packard will split itself into t...   \n",
       "\n",
       "                                        articleHeadline articleHeadlineStance  \\\n",
       "1605  Op-Ed: Hoax Priest who never existed claims he...               against   \n",
       "973   Islamic State releases video apparently showin...             observing   \n",
       "484   Dog abandoned at Ayr station with belongings i...                   for   \n",
       "344   Finally, proof that Justin Bieber IS unbearabl...                   for   \n",
       "793       Is the iPhone 6 Really Pulling Out Your Hair?             observing   \n",
       "...                                                 ...                   ...   \n",
       "279   The rapper, the hacker and the terror travel g...             observing   \n",
       "2041  Heartbroken girl spends week in KFC after gett...                   for   \n",
       "664   Hackers tell Sony wise to cancel film, don't m...             observing   \n",
       "1318         US Marine survives headshot in Afghanistan                   for   \n",
       "723                   HP confirms plan to split company                   for   \n",
       "\n",
       "                                 articleId  \\\n",
       "1605  8fbd8440-bb74-11e4-b073-ed15c88bfa1e   \n",
       "973   a76737d0-2803-11e4-a916-bf0b27b73ad5   \n",
       "484   63254080-9685-11e4-87a8-1d5d45e62193   \n",
       "344   641ae450-1ce5-11e4-8c09-cd48fe37674e   \n",
       "793   1694cb60-4e5e-11e4-949b-f14041b20838   \n",
       "...                                    ...   \n",
       "279   54860a50-2bf5-11e4-89c5-1d389b94bc4b   \n",
       "2041  b72e5410-9ff8-11e4-a353-5b831fe927be   \n",
       "664   2f93ed80-8798-11e4-a13d-d9bce527941d   \n",
       "1318  1e61e760-5543-11e4-b6a0-9705a8f94440   \n",
       "723   0992cc30-4d52-11e4-949b-f14041b20838   \n",
       "\n",
       "                                   claimId  alignmentScore  cosineSim  1  2  \\\n",
       "1605  f5891b80-ba9e-11e4-b073-ed15c88bfa1e        0.419371  -0.049733  0  0   \n",
       "973   c38db880-27e0-11e4-96be-dfc0d1eebaea        3.333333  -0.763106  0  0   \n",
       "484   26ced990-9683-11e4-87a8-1d5d45e62193        7.060250   0.008224  0  0   \n",
       "344   27b04730-1ce5-11e4-8c09-cd48fe37674e        1.881284   0.001697  0  0   \n",
       "793   ce44add0-4e5d-11e4-949b-f14041b20838        4.805587   0.377893  0  0   \n",
       "...                                    ...             ...        ... .. ..   \n",
       "279   98933d20-2bec-11e4-89c5-1d389b94bc4b       -1.428571   0.002429  0  0   \n",
       "2041  40f8caf0-9ff8-11e4-a353-5b831fe927be        2.369236   0.011158  0  0   \n",
       "664   9e769320-8797-11e4-a13d-d9bce527941d       -7.142857  -0.000153  0  0   \n",
       "1318  74b32120-553d-11e4-b6a0-9705a8f94440       -3.333333  -0.231769  0  0   \n",
       "723   2b11bc30-4cbd-11e4-949b-f14041b20838       -3.333333  -0.027663  0  0   \n",
       "\n",
       "      3  ...  20550  20551  Qmark  negAlignmentScore  rootDistance  \\\n",
       "1605  0  ...      0      0      0                  1             5   \n",
       "973   0  ...      0      0      0                  0             0   \n",
       "484   0  ...      0      0      0                  0             0   \n",
       "344   0  ...      0      0      0                  0             0   \n",
       "793   0  ...      0      0      1                  0             0   \n",
       "...  ..  ...    ...    ...    ...                ...           ...   \n",
       "279   0  ...      0      0      1                  0             0   \n",
       "2041  0  ...      0      0      0                  0             0   \n",
       "664   0  ...      0      0      0                  1             8   \n",
       "1318  0  ...      0      0      0                  0             0   \n",
       "723   0  ...      0      0      0                  0             0   \n",
       "\n",
       "      hedgedRootDistance  refuteRootDistance  subject_entailments  \\\n",
       "1605                   6                   0                    2   \n",
       "973                    0                   0                    2   \n",
       "484                    0                   0                    0   \n",
       "344                    0                   0                    2   \n",
       "793                    0                   0                    0   \n",
       "...                  ...                 ...                  ...   \n",
       "279                    0                   0                    2   \n",
       "2041                   0                   0                    4   \n",
       "664                    0                   0                    2   \n",
       "1318                   0                   0                    2   \n",
       "723                    0                   0                    2   \n",
       "\n",
       "      object_entailments  relation_entailments  \n",
       "1605                   0                     0  \n",
       "973                    0                     0  \n",
       "484                    0                     0  \n",
       "344                    0                     0  \n",
       "793                    0                     0  \n",
       "...                  ...                   ...  \n",
       "279                    0                     0  \n",
       "2041                   0                     0  \n",
       "664                    0                     0  \n",
       "1318                   0                     0  \n",
       "723                    0                     0  \n",
       "\n",
       "[2071 rows x 20566 columns]"
      ]
     },
     "execution_count": 18,
     "metadata": {},
     "output_type": "execute_result"
    }
   ],
   "source": [
    "train"
   ]
  },
  {
   "cell_type": "code",
   "execution_count": 19,
   "metadata": {},
   "outputs": [],
   "source": [
    "# create train and test\n",
    "\n",
    "X_train = train.to_numpy()[:,5:]\n",
    "Y_train = train[\"articleHeadlineStance\"].values.reshape((-1,))\n",
    "\n",
    "X_test = test.to_numpy()[:,5:]\n",
    "Y_test = test[\"articleHeadlineStance\"].values.reshape((-1,))"
   ]
  },
  {
   "cell_type": "code",
   "execution_count": 31,
   "metadata": {},
   "outputs": [],
   "source": [
    "Y_train = Y_train.astype(int)"
   ]
  },
  {
   "cell_type": "code",
   "execution_count": 32,
   "metadata": {},
   "outputs": [],
   "source": [
    "X_train = X_train.astype(float)"
   ]
  },
  {
   "cell_type": "code",
   "execution_count": 33,
   "metadata": {},
   "outputs": [],
   "source": [
    "X_test = X_test.astype(float)"
   ]
  },
  {
   "cell_type": "code",
   "execution_count": 34,
   "metadata": {},
   "outputs": [],
   "source": [
    "y_test = Y_test.astype(int)"
   ]
  },
  {
   "cell_type": "code",
   "execution_count": 35,
   "metadata": {},
   "outputs": [
    {
     "name": "stdout",
     "output_type": "stream",
     "text": [
      "(2071, 20562)\n",
      "(2071,)\n",
      "(524, 20562)\n",
      "(524,)\n"
     ]
    }
   ],
   "source": [
    "print(X_train.shape)\n",
    "print(Y_train.shape)\n",
    "print(X_test.shape)\n",
    "print(Y_test.shape)"
   ]
  },
  {
   "cell_type": "code",
   "execution_count": 20,
   "metadata": {},
   "outputs": [],
   "source": [
    "from sklearn.model_selection import StratifiedKFold"
   ]
  },
  {
   "cell_type": "code",
   "execution_count": 21,
   "metadata": {},
   "outputs": [
    {
     "data": {
      "text/plain": [
       "for          992\n",
       "observing    775\n",
       "against      304\n",
       "Name: articleHeadlineStance, dtype: int64"
      ]
     },
     "execution_count": 21,
     "metadata": {},
     "output_type": "execute_result"
    }
   ],
   "source": [
    "train[\"articleHeadlineStance\"].value_counts()"
   ]
  },
  {
   "cell_type": "code",
   "execution_count": 22,
   "metadata": {},
   "outputs": [
    {
     "data": {
      "text/plain": [
       "for          47.899565\n",
       "observing    37.421535\n",
       "against      14.678899\n",
       "Name: articleHeadlineStance, dtype: float64"
      ]
     },
     "execution_count": 22,
     "metadata": {},
     "output_type": "execute_result"
    }
   ],
   "source": [
    "train[\"articleHeadlineStance\"].value_counts(normalize=True) * 100"
   ]
  },
  {
   "cell_type": "code",
   "execution_count": 23,
   "metadata": {},
   "outputs": [
    {
     "data": {
      "text/plain": [
       "for          46.946565\n",
       "observing    35.687023\n",
       "against      17.366412\n",
       "Name: articleHeadlineStance, dtype: float64"
      ]
     },
     "execution_count": 23,
     "metadata": {},
     "output_type": "execute_result"
    }
   ],
   "source": [
    "test['articleHeadlineStance'].value_counts(normalize=True) * 100"
   ]
  },
  {
   "cell_type": "code",
   "execution_count": 24,
   "metadata": {},
   "outputs": [],
   "source": [
    "skf = StratifiedKFold(n_splits=10, )"
   ]
  },
  {
   "cell_type": "code",
   "execution_count": 25,
   "metadata": {},
   "outputs": [
    {
     "data": {
      "text/plain": [
       "10"
      ]
     },
     "execution_count": 25,
     "metadata": {},
     "output_type": "execute_result"
    }
   ],
   "source": [
    "skf.get_n_splits(X_train, Y_train)"
   ]
  },
  {
   "cell_type": "code",
   "execution_count": 29,
   "metadata": {},
   "outputs": [
    {
     "name": "stdout",
     "output_type": "stream",
     "text": [
      "TRAIN: (1863,) TEST: (208,)\n",
      "TRAIN: (1864,) TEST: (207,)\n",
      "TRAIN: (1864,) TEST: (207,)\n",
      "TRAIN: (1864,) TEST: (207,)\n",
      "TRAIN: (1864,) TEST: (207,)\n",
      "TRAIN: (1864,) TEST: (207,)\n",
      "TRAIN: (1864,) TEST: (207,)\n",
      "TRAIN: (1864,) TEST: (207,)\n",
      "TRAIN: (1864,) TEST: (207,)\n",
      "TRAIN: (1864,) TEST: (207,)\n"
     ]
    }
   ],
   "source": [
    "train_folds = []\n",
    "valid_folds = []\n",
    "for i, (train_index, test_index) in enumerate(skf.split(X_train, Y_train)):\n",
    "    print(\"TRAIN:\", train_index.shape, \"TEST:\", test_index.shape)\n",
    "    x_train_fold, x_valid_fold = X_train[train_index], X_train[test_index]\n",
    "    y_train_fold, y_valid_fold = Y_train[train_index], Y_train[test_index]\n",
    "    \n",
    "    '''bc = np.bincount(y_train_fold)\n",
    "    ii = np.nonzero(bc)[0]\n",
    "    print(\"train set distribution\")\n",
    "    print(list(zip(ii,bc[ii])))\n",
    "    bc = np.bincount(y_valid_fold)\n",
    "    ii = np.nonzero(bc)[0]\n",
    "    print(\"validation set distribution\")\n",
    "    print(list(zip(ii,bc[ii])))\n",
    "    print(\"----------------------------\")\n",
    "    '''\n",
    "    train_fold = np.concatenate((x_train_fold, y_train_fold.reshape(-1, 1)), axis=1)\n",
    "    valid_fold = np.concatenate((x_valid_fold, y_valid_fold.reshape(-1, 1)), axis=1)\n",
    "    train_folds.append(train_fold)\n",
    "    valid_folds.append(valid_fold)"
   ]
  },
  {
   "cell_type": "code",
   "execution_count": 30,
   "metadata": {},
   "outputs": [],
   "source": [
    "np.savez(\"../data/processed/train/train_folds.npz\", *train_folds)"
   ]
  },
  {
   "cell_type": "code",
   "execution_count": 31,
   "metadata": {},
   "outputs": [],
   "source": [
    "np.savez(\"../data/processed/valid/valid_folds.npz\", *valid_folds)"
   ]
  },
  {
   "cell_type": "code",
   "execution_count": 2,
   "metadata": {},
   "outputs": [],
   "source": [
    "folds = np.load('../data/processed/valid/valid_folds.npz')"
   ]
  },
  {
   "cell_type": "code",
   "execution_count": 3,
   "metadata": {},
   "outputs": [
    {
     "name": "stdout",
     "output_type": "stream",
     "text": [
      "(415, 20561)\n",
      "(415, 1)\n",
      "(414, 20561)\n",
      "(414, 1)\n",
      "(414, 20561)\n",
      "(414, 1)\n",
      "(414, 20561)\n",
      "(414, 1)\n",
      "(414, 20561)\n",
      "(414, 1)\n"
     ]
    }
   ],
   "source": [
    "for k in folds:\n",
    "    valid_x = folds[k][:, :-1] \n",
    "    valid_y = folds[k][:, -1:]\n",
    "    print(valid_x.shape)\n",
    "    print(valid_y.shape)"
   ]
  },
  {
   "cell_type": "code",
   "execution_count": null,
   "metadata": {},
   "outputs": [],
   "source": []
  }
 ],
 "metadata": {
  "kernelspec": {
   "display_name": "Python 3",
   "language": "python",
   "name": "python3"
  },
  "language_info": {
   "codemirror_mode": {
    "name": "ipython",
    "version": 3
   },
   "file_extension": ".py",
   "mimetype": "text/x-python",
   "name": "python",
   "nbconvert_exporter": "python",
   "pygments_lexer": "ipython3",
   "version": "3.7.3"
  }
 },
 "nbformat": 4,
 "nbformat_minor": 4
}
