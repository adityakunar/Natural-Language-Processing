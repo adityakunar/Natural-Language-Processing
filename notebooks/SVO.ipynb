{
 "cells": [
  {
   "cell_type": "code",
   "execution_count": 1,
   "metadata": {},
   "outputs": [],
   "source": [
    "import pandas as pd"
   ]
  },
  {
   "cell_type": "code",
   "execution_count": 7,
   "metadata": {
    "scrolled": true
   },
   "outputs": [],
   "source": [
    "from openie import StanfordOpenIE"
   ]
  },
  {
   "cell_type": "code",
   "execution_count": null,
   "metadata": {},
   "outputs": [],
   "source": [
    "import os\n",
    "os.environ[\"CORENLP_HOME\"] = r'D:\\\\Downloads\\\\stanford-corenlp-full-2018-10-05\\\\stanford-corenlp-full-2018-10-05'"
   ]
  },
  {
   "cell_type": "code",
   "execution_count": 82,
   "metadata": {},
   "outputs": [],
   "source": [
    "import string\n",
    "table = str.maketrans('', '', string.punctuation)"
   ]
  },
  {
   "cell_type": "code",
   "execution_count": 2,
   "metadata": {},
   "outputs": [],
   "source": [
    "#imports the data\n",
    "roughDat= pd.read_csv(\"../data/raw/Emergent_NAACL2016/emergent/url-versions-2015-06-14-clean-test-fold-1.csv\")"
   ]
  },
  {
   "cell_type": "code",
   "execution_count": 3,
   "metadata": {},
   "outputs": [],
   "source": [
    "#removes unnecessary columns.\n",
    "roughDat = roughDat.drop(columns=['Unnamed: 0', 'claimId',\n",
    "       'articleId', 'articleHeadlineStance'])"
   ]
  },
  {
   "cell_type": "code",
   "execution_count": 68,
   "metadata": {},
   "outputs": [],
   "source": [
    "claims = roughDat[\"claimHeadline\"].tolist()\n",
    "headlines = roughDat[\"articleHeadline\"].tolist()\n",
    "n1=[]\n",
    "n2=[]"
   ]
  },
  {
   "cell_type": "code",
   "execution_count": 9,
   "metadata": {},
   "outputs": [
    {
     "name": "stdout",
     "output_type": "stream",
     "text": [
      "Starting server with command: java -Xmx8G -cp /Users/nikilsaldanaha/stanfordnlp_resources/stanford-corenlp-full-2018-10-05/* edu.stanford.nlp.pipeline.StanfordCoreNLPServer -port 9000 -timeout 60000 -threads 5 -maxCharLength 100000 -quiet True -serverProperties corenlp_server-479ecd83ce1b4a7e.props -preload openie\n"
     ]
    }
   ],
   "source": [
    "with StanfordOpenIE() as client:\n",
    "    for i in claims:\n",
    "        n1.append(client.annotate(i))"
   ]
  },
  {
   "cell_type": "code",
   "execution_count": 8,
   "metadata": {},
   "outputs": [
    {
     "name": "stdout",
     "output_type": "stream",
     "text": [
      "Downloading to /Users/nikilsaldanaha/stanfordnlp_resources.\n",
      "\n",
      "Extracting to /Users/nikilsaldanaha/stanfordnlp_resources.\n",
      "Starting server with command: java -Xmx8G -cp /Users/nikilsaldanaha/stanfordnlp_resources/stanford-corenlp-full-2018-10-05/* edu.stanford.nlp.pipeline.StanfordCoreNLPServer -port 9000 -timeout 60000 -threads 5 -maxCharLength 100000 -quiet True -serverProperties corenlp_server-02fb25b418a64dfc.props -preload openie\n"
     ]
    }
   ],
   "source": [
    "with StanfordOpenIE() as client:\n",
    "    for i in headlines:\n",
    "        n2.append(client.annotate(i))"
   ]
  },
  {
   "cell_type": "code",
   "execution_count": 10,
   "metadata": {},
   "outputs": [
    {
     "data": {
      "text/plain": [
       "177"
      ]
     },
     "execution_count": 10,
     "metadata": {},
     "output_type": "execute_result"
    }
   ],
   "source": [
    "len(n1)"
   ]
  },
  {
   "cell_type": "code",
   "execution_count": 11,
   "metadata": {},
   "outputs": [
    {
     "data": {
      "text/plain": [
       "177"
      ]
     },
     "execution_count": 11,
     "metadata": {},
     "output_type": "execute_result"
    }
   ],
   "source": [
    "len(n2)"
   ]
  },
  {
   "cell_type": "code",
   "execution_count": 16,
   "metadata": {},
   "outputs": [
    {
     "data": {
      "text/plain": [
       "[{'subject': 'Developers',\n",
       "  'relation': 'have limited',\n",
       "  'object': 'access to Apple Watch sensors'},\n",
       " {'subject': 'Developers', 'relation': 'have limited', 'object': 'access'}]"
      ]
     },
     "execution_count": 16,
     "metadata": {},
     "output_type": "execute_result"
    }
   ],
   "source": [
    "n1[0]"
   ]
  },
  {
   "cell_type": "code",
   "execution_count": 25,
   "metadata": {},
   "outputs": [],
   "source": [
    "claim_subjects = []\n",
    "claim_objects = []\n",
    "claim_relations = []\n",
    "for claim_svo in n1:\n",
    "    t1 = set()\n",
    "    t2 = set()\n",
    "    t3 = set()\n",
    "    for a in claim_svo:\n",
    "        t1.add(a[\"subject\"])\n",
    "        t2.add(a[\"object\"])\n",
    "        t3.add(a[\"relation\"])\n",
    "    claim_subjects.append(t1)\n",
    "    claim_objects.append(t2)\n",
    "    claim_relations.append(t3)"
   ]
  },
  {
   "cell_type": "code",
   "execution_count": 27,
   "metadata": {},
   "outputs": [],
   "source": [
    "headline_subjects = []\n",
    "headline_objects = []\n",
    "headline_relations = []\n",
    "for headline_svo in n2:\n",
    "    t1 = set()\n",
    "    t2 = set()\n",
    "    t3 = set()\n",
    "    for a in headline_svo:\n",
    "        t1.add(a[\"subject\"])\n",
    "        t2.add(a[\"object\"])\n",
    "        t3.add(a[\"relation\"])\n",
    "    headline_subjects.append(t1)\n",
    "    headline_objects.append(t2)\n",
    "    headline_relations.append(t3)"
   ]
  },
  {
   "cell_type": "code",
   "execution_count": null,
   "metadata": {},
   "outputs": [],
   "source": [
    "Equivalence=[]\n",
    "for m,n in zip(claimSVO,headSVO):\n",
    "    if len(m)!=0 and len(n)!=0:\n",
    "        l2=word_tokenize(n[0][\"subject\"].lower())\n",
    "        l1=word_tokenize(m[0][\"subject\"].lower())\n",
    "        if len(l1)!=0 and len(l2)!=0:\n",
    "            for i in l1:\n",
    "                if i in l2:\n",
    "                    Equivalence.append(\"Equivalence\")\n",
    "                    break\n",
    "                else:\n",
    "                    Equivalence.append(\"No Relation\")\n",
    "\n",
    "# import these modules\n",
    "from nltk.stem import PorterStemmer\n",
    "\n",
    "ps = PorterStemmer()"
   ]
  },
  {
   "cell_type": "code",
   "execution_count": 35,
   "metadata": {},
   "outputs": [],
   "source": [
    "from nltk.tokenize import word_tokenize"
   ]
  },
  {
   "cell_type": "code",
   "execution_count": 34,
   "metadata": {},
   "outputs": [
    {
     "data": {
      "text/plain": [
       "({'access', 'access to Apple Watch sensors'}, {'Apple Watch Developers'})"
      ]
     },
     "execution_count": 34,
     "metadata": {},
     "output_type": "execute_result"
    }
   ],
   "source": [
    "claim_objects[0], headline_subjects[0]"
   ]
  },
  {
   "cell_type": "code",
   "execution_count": 43,
   "metadata": {},
   "outputs": [],
   "source": [
    "subject_equivalence = []\n",
    "for cs, hs in zip(claim_subjects, headline_subjects):\n",
    "    claim_tokens = set()\n",
    "    headline_tokens = set()\n",
    "    for sub in cs:\n",
    "        claim_tokens.update(word_tokenize(sub.lower()))\n",
    "    for sub in hs:\n",
    "        headline_tokens.update(word_tokenize(sub.lower()))\n",
    "    subject_equivalence.append(len(claim_tokens.intersection(headline_tokens)) == 0)"
   ]
  },
  {
   "cell_type": "code",
   "execution_count": 76,
   "metadata": {},
   "outputs": [
    {
     "data": {
      "text/plain": [
       "{'Seven underage Bosnian girls', 'underage Bosnian girls'}"
      ]
     },
     "execution_count": 76,
     "metadata": {},
     "output_type": "execute_result"
    }
   ],
   "source": [
    "claim_subjects[12]"
   ]
  },
  {
   "cell_type": "code",
   "execution_count": 78,
   "metadata": {},
   "outputs": [],
   "source": [
    "import pickle"
   ]
  },
  {
   "cell_type": "code",
   "execution_count": 79,
   "metadata": {},
   "outputs": [],
   "source": [
    "# load the ppdb data\n",
    "with open(\"../data/processed/ppdb/ppdb-2.0-tldr-dict.pkl\", \"rb\") as f:\n",
    "    ppdb_dict = pickle.load(f)"
   ]
  },
  {
   "cell_type": "code",
   "execution_count": 94,
   "metadata": {},
   "outputs": [
    {
     "data": {
      "text/plain": [
       "{'pears': (3.84409, 'OtherRelated')}"
      ]
     },
     "execution_count": 94,
     "metadata": {},
     "output_type": "execute_result"
    }
   ],
   "source": [
    "ppdb_dict[\"apples\"]"
   ]
  },
  {
   "cell_type": "code",
   "execution_count": 124,
   "metadata": {},
   "outputs": [],
   "source": [
    "subject_entailments = []\n",
    "for cs, hs in zip(claim_subjects, headline_subjects):\n",
    "    l = []\n",
    "    entailment = \"\"\n",
    "    for subject in cs:\n",
    "        sub = subject.lower().translate(table)\n",
    "        l.append(ppdb_dict.get(sub, {}))\n",
    "    done = False\n",
    "    for subject in hs:\n",
    "        for para in l:\n",
    "            entailment=para.get(subject,\"noRelation\")\n",
    "            if entailment!=\"noRelation\":\n",
    "                subject_entailments.append(entailment[1])\n",
    "                done = True\n",
    "                break\n",
    "        if done is True:\n",
    "            break\n",
    "    subject_entailments.append(\"noRelation\")"
   ]
  },
  {
   "cell_type": "code",
   "execution_count": 125,
   "metadata": {},
   "outputs": [],
   "source": [
    "relation_entailments = []\n",
    "for cr, hr in zip(claim_relations, headline_relations):\n",
    "    l = []\n",
    "    entailment = \"\"\n",
    "    for relation in cr:\n",
    "        rel = relation.lower().translate(table)\n",
    "        l.append(ppdb_dict.get(rel, {}))\n",
    "    done = False\n",
    "    for relation in hr:\n",
    "        for para in l:\n",
    "            entailment = para.get(relation,\"noRelation\")\n",
    "            if entailment != \"noRelation\":\n",
    "                relation_entailments.append(entailment[1])\n",
    "                done = True\n",
    "                break\n",
    "        if done is True:\n",
    "            break\n",
    "    relation_entailments.append(\"noRelation\")"
   ]
  },
  {
   "cell_type": "code",
   "execution_count": 126,
   "metadata": {},
   "outputs": [],
   "source": [
    "object_entailments = []\n",
    "for cr, hr in zip(claim_objects, headline_objects):\n",
    "    l = []\n",
    "    entailment = \"\"\n",
    "    for obj in cr:\n",
    "        rel = obj.lower().translate(table)\n",
    "        l.append(ppdb_dict.get(rel, {}))\n",
    "    done = False\n",
    "    for obj in hr:\n",
    "        for para in l:\n",
    "            entailment = para.get(obj,\"noRelation\")\n",
    "            if entailment != \"noRelation\":\n",
    "                object_entailments.append(entailment[1])\n",
    "                done = True\n",
    "                break\n",
    "        if done is True:\n",
    "            break\n",
    "    object_entailments.append(\"noRelation\")"
   ]
  },
  {
   "cell_type": "code",
   "execution_count": 127,
   "metadata": {},
   "outputs": [
    {
     "name": "stdout",
     "output_type": "stream",
     "text": [
      "noRelation False\n",
      "noRelation True\n",
      "noRelation False\n",
      "noRelation False\n",
      "noRelation False\n",
      "noRelation True\n",
      "noRelation True\n",
      "noRelation True\n",
      "noRelation False\n",
      "noRelation True\n",
      "noRelation True\n",
      "noRelation True\n",
      "noRelation False\n",
      "noRelation True\n",
      "noRelation True\n",
      "noRelation True\n",
      "noRelation False\n",
      "noRelation False\n",
      "noRelation False\n",
      "noRelation False\n",
      "noRelation True\n",
      "noRelation True\n",
      "noRelation True\n",
      "noRelation True\n",
      "noRelation False\n",
      "noRelation True\n",
      "noRelation True\n",
      "noRelation True\n",
      "noRelation True\n",
      "noRelation True\n",
      "noRelation True\n",
      "noRelation True\n",
      "noRelation True\n",
      "noRelation True\n",
      "noRelation True\n",
      "noRelation True\n",
      "noRelation True\n",
      "noRelation True\n",
      "noRelation True\n",
      "noRelation True\n",
      "noRelation True\n",
      "noRelation True\n",
      "noRelation False\n",
      "noRelation False\n",
      "noRelation False\n",
      "noRelation False\n",
      "noRelation True\n",
      "noRelation True\n",
      "noRelation True\n",
      "noRelation True\n",
      "noRelation False\n",
      "noRelation True\n",
      "noRelation True\n",
      "noRelation False\n",
      "noRelation True\n",
      "noRelation True\n",
      "noRelation True\n",
      "noRelation True\n",
      "noRelation True\n",
      "noRelation True\n",
      "noRelation False\n",
      "noRelation False\n",
      "noRelation True\n",
      "noRelation False\n",
      "noRelation True\n",
      "noRelation True\n",
      "noRelation True\n",
      "noRelation True\n",
      "noRelation True\n",
      "noRelation False\n",
      "noRelation True\n",
      "noRelation True\n",
      "noRelation True\n",
      "noRelation True\n",
      "noRelation False\n",
      "noRelation True\n",
      "noRelation True\n",
      "noRelation True\n",
      "noRelation False\n",
      "noRelation False\n",
      "noRelation True\n",
      "noRelation True\n",
      "noRelation True\n",
      "noRelation True\n",
      "noRelation True\n",
      "noRelation False\n",
      "noRelation False\n",
      "noRelation True\n",
      "noRelation True\n",
      "noRelation True\n",
      "noRelation False\n",
      "noRelation False\n",
      "noRelation True\n",
      "noRelation False\n",
      "noRelation True\n",
      "noRelation False\n",
      "noRelation True\n",
      "noRelation True\n",
      "noRelation True\n",
      "noRelation False\n",
      "noRelation True\n",
      "noRelation False\n",
      "noRelation False\n",
      "noRelation True\n",
      "noRelation True\n",
      "noRelation True\n",
      "noRelation True\n",
      "noRelation True\n",
      "noRelation True\n",
      "noRelation True\n",
      "noRelation True\n",
      "noRelation True\n",
      "noRelation True\n",
      "noRelation True\n",
      "noRelation True\n",
      "noRelation False\n",
      "noRelation True\n",
      "noRelation True\n",
      "noRelation True\n",
      "noRelation True\n",
      "noRelation True\n",
      "noRelation True\n",
      "noRelation True\n",
      "noRelation True\n",
      "noRelation True\n",
      "noRelation True\n",
      "noRelation True\n",
      "noRelation True\n",
      "noRelation True\n",
      "noRelation True\n",
      "noRelation True\n",
      "noRelation True\n",
      "noRelation True\n",
      "noRelation True\n",
      "noRelation True\n",
      "noRelation True\n",
      "noRelation False\n",
      "noRelation True\n",
      "noRelation True\n",
      "noRelation True\n",
      "noRelation False\n",
      "noRelation True\n",
      "noRelation False\n",
      "noRelation True\n",
      "noRelation True\n",
      "noRelation True\n",
      "noRelation False\n",
      "noRelation True\n",
      "noRelation True\n",
      "noRelation True\n",
      "noRelation False\n",
      "noRelation False\n",
      "noRelation True\n",
      "noRelation True\n",
      "noRelation True\n",
      "noRelation True\n",
      "noRelation True\n",
      "noRelation True\n",
      "noRelation True\n",
      "noRelation True\n",
      "noRelation True\n",
      "noRelation False\n",
      "noRelation True\n",
      "noRelation True\n",
      "noRelation True\n",
      "noRelation True\n",
      "noRelation False\n",
      "noRelation True\n",
      "noRelation False\n",
      "noRelation False\n",
      "noRelation True\n",
      "noRelation True\n",
      "noRelation False\n",
      "noRelation False\n",
      "noRelation False\n",
      "noRelation False\n",
      "noRelation True\n"
     ]
    }
   ],
   "source": [
    "for i, (x,y) in enumerate(zip(subject_entailments, subject_equivalence)):\n",
    "    print(x, y)\n",
    "    if (x == \"noRelation\" or x == \"Independent\") and y is True:\n",
    "        subject_entailments[i] = \"Equivalence\""
   ]
  },
  {
   "cell_type": "code",
   "execution_count": 128,
   "metadata": {},
   "outputs": [
    {
     "data": {
      "text/plain": [
       "['noRelation',\n",
       " 'Equivalence',\n",
       " 'noRelation',\n",
       " 'noRelation',\n",
       " 'noRelation',\n",
       " 'Equivalence',\n",
       " 'Equivalence',\n",
       " 'Equivalence',\n",
       " 'noRelation',\n",
       " 'Equivalence',\n",
       " 'Equivalence',\n",
       " 'Equivalence',\n",
       " 'noRelation',\n",
       " 'Equivalence',\n",
       " 'Equivalence',\n",
       " 'Equivalence',\n",
       " 'noRelation',\n",
       " 'noRelation',\n",
       " 'noRelation',\n",
       " 'noRelation',\n",
       " 'Equivalence',\n",
       " 'Equivalence',\n",
       " 'Equivalence',\n",
       " 'Equivalence',\n",
       " 'noRelation',\n",
       " 'Equivalence',\n",
       " 'Equivalence',\n",
       " 'Equivalence',\n",
       " 'Equivalence',\n",
       " 'Equivalence',\n",
       " 'Equivalence',\n",
       " 'Equivalence',\n",
       " 'Equivalence',\n",
       " 'Equivalence',\n",
       " 'Equivalence',\n",
       " 'Equivalence',\n",
       " 'Equivalence',\n",
       " 'Equivalence',\n",
       " 'Equivalence',\n",
       " 'Equivalence',\n",
       " 'Equivalence',\n",
       " 'Equivalence',\n",
       " 'noRelation',\n",
       " 'noRelation',\n",
       " 'noRelation',\n",
       " 'noRelation',\n",
       " 'Equivalence',\n",
       " 'Equivalence',\n",
       " 'Equivalence',\n",
       " 'Equivalence',\n",
       " 'noRelation',\n",
       " 'Equivalence',\n",
       " 'Equivalence',\n",
       " 'noRelation',\n",
       " 'Equivalence',\n",
       " 'Equivalence',\n",
       " 'Equivalence',\n",
       " 'Equivalence',\n",
       " 'Equivalence',\n",
       " 'Equivalence',\n",
       " 'noRelation',\n",
       " 'noRelation',\n",
       " 'Equivalence',\n",
       " 'noRelation',\n",
       " 'Equivalence',\n",
       " 'Equivalence',\n",
       " 'Equivalence',\n",
       " 'Equivalence',\n",
       " 'Equivalence',\n",
       " 'noRelation',\n",
       " 'Equivalence',\n",
       " 'Equivalence',\n",
       " 'Equivalence',\n",
       " 'Equivalence',\n",
       " 'noRelation',\n",
       " 'Equivalence',\n",
       " 'Equivalence',\n",
       " 'Equivalence',\n",
       " 'noRelation',\n",
       " 'noRelation',\n",
       " 'Equivalence',\n",
       " 'Equivalence',\n",
       " 'Equivalence',\n",
       " 'Equivalence',\n",
       " 'Equivalence',\n",
       " 'noRelation',\n",
       " 'noRelation',\n",
       " 'Equivalence',\n",
       " 'Equivalence',\n",
       " 'Equivalence',\n",
       " 'noRelation',\n",
       " 'noRelation',\n",
       " 'Equivalence',\n",
       " 'noRelation',\n",
       " 'Equivalence',\n",
       " 'noRelation',\n",
       " 'Equivalence',\n",
       " 'Equivalence',\n",
       " 'Equivalence',\n",
       " 'noRelation',\n",
       " 'Equivalence',\n",
       " 'noRelation',\n",
       " 'noRelation',\n",
       " 'Equivalence',\n",
       " 'Equivalence',\n",
       " 'Equivalence',\n",
       " 'Equivalence',\n",
       " 'Equivalence',\n",
       " 'Equivalence',\n",
       " 'Equivalence',\n",
       " 'Equivalence',\n",
       " 'Equivalence',\n",
       " 'Equivalence',\n",
       " 'Equivalence',\n",
       " 'Equivalence',\n",
       " 'noRelation',\n",
       " 'Equivalence',\n",
       " 'Equivalence',\n",
       " 'Equivalence',\n",
       " 'Equivalence',\n",
       " 'Equivalence',\n",
       " 'Equivalence',\n",
       " 'Equivalence',\n",
       " 'Equivalence',\n",
       " 'Equivalence',\n",
       " 'Equivalence',\n",
       " 'Equivalence',\n",
       " 'Equivalence',\n",
       " 'Equivalence',\n",
       " 'Equivalence',\n",
       " 'Equivalence',\n",
       " 'Equivalence',\n",
       " 'Equivalence',\n",
       " 'Equivalence',\n",
       " 'Equivalence',\n",
       " 'Equivalence',\n",
       " 'noRelation',\n",
       " 'Equivalence',\n",
       " 'Equivalence',\n",
       " 'Equivalence',\n",
       " 'noRelation',\n",
       " 'Equivalence',\n",
       " 'noRelation',\n",
       " 'Equivalence',\n",
       " 'Equivalence',\n",
       " 'Equivalence',\n",
       " 'noRelation',\n",
       " 'Equivalence',\n",
       " 'Equivalence',\n",
       " 'Equivalence',\n",
       " 'noRelation',\n",
       " 'noRelation',\n",
       " 'Equivalence',\n",
       " 'Equivalence',\n",
       " 'Equivalence',\n",
       " 'Equivalence',\n",
       " 'Equivalence',\n",
       " 'Equivalence',\n",
       " 'Equivalence',\n",
       " 'Equivalence',\n",
       " 'Equivalence',\n",
       " 'noRelation',\n",
       " 'Equivalence',\n",
       " 'Equivalence',\n",
       " 'Equivalence',\n",
       " 'Equivalence',\n",
       " 'noRelation',\n",
       " 'Equivalence',\n",
       " 'noRelation',\n",
       " 'noRelation',\n",
       " 'Equivalence',\n",
       " 'Equivalence',\n",
       " 'noRelation',\n",
       " 'noRelation',\n",
       " 'noRelation',\n",
       " 'noRelation',\n",
       " 'Equivalence']"
      ]
     },
     "execution_count": 128,
     "metadata": {},
     "output_type": "execute_result"
    }
   ],
   "source": [
    "subject_entailments"
   ]
  },
  {
   "cell_type": "code",
   "execution_count": 129,
   "metadata": {},
   "outputs": [],
   "source": [
    "equiv_map = {\n",
    "    \"Independent\": 0,\n",
    "    \"OtherRelated\": 1,\n",
    "    \"Equivalence\": 2,\n",
    "    \"ForwardEntailment\": 3,\n",
    "    \"ReverseEntailment\": 4,\n",
    "    \"Exclusion\": 5,\n",
    "    \"noRelation\": 0\n",
    "}"
   ]
  },
  {
   "cell_type": "code",
   "execution_count": 130,
   "metadata": {},
   "outputs": [],
   "source": [
    "object_entailments = [equiv_map[i] for i in object_entailments]\n",
    "relation_entailments = [equiv_map[i] for i in relation_entailments]\n",
    "subject_entailments = [equiv_map[i] for i in subject_entailments]"
   ]
  },
  {
   "cell_type": "code",
   "execution_count": 135,
   "metadata": {},
   "outputs": [],
   "source": [
    "import numpy as np"
   ]
  },
  {
   "cell_type": "code",
   "execution_count": 137,
   "metadata": {},
   "outputs": [],
   "source": [
    "svo_feature = np.array(list(zip(subject_entailments, object_entailments, relation_entailments)))"
   ]
  },
  {
   "cell_type": "code",
   "execution_count": 138,
   "metadata": {},
   "outputs": [],
   "source": [
    "np.savetxt(\"../data/processed/features/svo_feature.csv\", svo_feature, delimiter=\",\")"
   ]
  }
 ],
 "metadata": {
  "kernelspec": {
   "display_name": "Python 3",
   "language": "python",
   "name": "python3"
  },
  "language_info": {
   "codemirror_mode": {
    "name": "ipython",
    "version": 3
   },
   "file_extension": ".py",
   "mimetype": "text/x-python",
   "name": "python",
   "nbconvert_exporter": "python",
   "pygments_lexer": "ipython3",
   "version": "3.7.0"
  }
 },
 "nbformat": 4,
 "nbformat_minor": 2
}
