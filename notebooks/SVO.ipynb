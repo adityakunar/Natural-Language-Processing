{
 "cells": [
  {
   "cell_type": "code",
   "execution_count": 1,
   "metadata": {},
   "outputs": [],
   "source": [
    "import pandas as pd"
   ]
  },
  {
   "cell_type": "code",
   "execution_count": 2,
   "metadata": {},
   "outputs": [],
   "source": [
    "ppdb_data_path = \"D:/Downloads/ppdb-2.0-tldr/ppdb-2.0-tldr\""
   ]
  },
  {
   "cell_type": "code",
   "execution_count": 3,
   "metadata": {},
   "outputs": [
    {
     "name": "stdout",
     "output_type": "stream",
     "text": [
      "[NN] ||| transplant ||| transplantation ||| PPDB2.0Score=5.24981 PPDB1.0Score=3.295900 -logp(LHS|e1)=0.18597 -logp(LHS|e2)=0.14031 -logp(e1|LHS)=11.83583 -logp(e1|e2)=1.80507 -logp(e1|e2,LHS)=1.46728 -logp(e2|LHS)=11.47593 -logp(e2|e1)=1.49083 -logp(e2|e1,LHS)=1.10738 AGigaSim=0.63439 Abstract=0 Adjacent=0 CharCountDiff=5 CharLogCR=0.40547 ContainsX=0 Equivalence=0.371472 Exclusion=0.000344 GlueRule=0 GoogleNgramSim=0.03067 Identity=0 Independent=0.078161 Lex(e1|e2)=9.64663 Lex(e2|e1)=59.48919 Lexical=1 LogCount=4.67283 MVLSASim=NA Monotonic=1 OtherRelated=0.372735 PhrasePenalty=1 RarityPenalty=0 ForwardEntailment=0.177287 SourceTerminalsButNoTarget=0 SourceWords=1 TargetComplexity=0.98821 TargetFormality=0.98464 TargetTerminalsButNoSource=0 TargetWords=1 UnalignedSource=0 UnalignedTarget=0 WordCountDiff=0 WordLenDiff=5.00000 WordLogCR=0 ||| 0-0 ||| OtherRelated\n",
      "\n"
     ]
    }
   ],
   "source": [
    "with open(ppdb_data_path, \"r\") as f:\n",
    "    print(f.readline())"
   ]
  },
  {
   "cell_type": "code",
   "execution_count": null,
   "metadata": {},
   "outputs": [],
   "source": [
    "# currently reads only 50,000 rows\n",
    "ppdb_df = pd.read_csv(ppdb_data_path, delimiter=\" \\|\\|\\| \",\n",
    "                      engine=\"python\", header=None,\n",
    "                      names=[\"lhs\", \"phrase\", \"paraphrase\", \"features\", \"alignment\", \"entailment\"]\n",
    "                     # ,nrows=50000)\n",
    "                     )"
   ]
  },
  {
   "cell_type": "code",
   "execution_count": 5,
   "metadata": {},
   "outputs": [],
   "source": [
    "ppdb_df.loc[:, \"ppdb2_score\"] = ppdb_df.loc[:, \"features\"].apply(lambda f: f.split(\" \")[0][13:]).astype(\"float\")"
   ]
  },
  {
   "cell_type": "code",
   "execution_count": 6,
   "metadata": {},
   "outputs": [
    {
     "data": {
      "text/plain": [
       "Independent          21408\n",
       "Equivalence          12192\n",
       "OtherRelated          9767\n",
       "ForwardEntailment     3575\n",
       "ReverseEntailment     3028\n",
       "Exclusion               30\n",
       "Name: entailment, dtype: int64"
      ]
     },
     "execution_count": 6,
     "metadata": {},
     "output_type": "execute_result"
    }
   ],
   "source": [
    "ppdb_df[\"entailment\"].value_counts()"
   ]
  },
  {
   "cell_type": "code",
   "execution_count": 7,
   "metadata": {},
   "outputs": [],
   "source": [
    "ppdb_grouped_df = ppdb_df.groupby(\"phrase\").apply(lambda x: dict(zip(x[\"paraphrase\"], list(zip(x[\"ppdb2_score\"], x[\"entailment\"]))))).reset_index()"
   ]
  },
  {
   "cell_type": "code",
   "execution_count": 8,
   "metadata": {},
   "outputs": [],
   "source": [
    "ppdb_dict = ppdb_grouped_df.set_index(\"phrase\").T.to_dict(\"records\")[0]"
   ]
  },
  {
   "cell_type": "code",
   "execution_count": 9,
   "metadata": {},
   "outputs": [],
   "source": [
    "#imports the data\n",
    "roughDat= pd.read_csv(\"PlayDat.csv\")"
   ]
  },
  {
   "cell_type": "code",
   "execution_count": 10,
   "metadata": {},
   "outputs": [],
   "source": [
    "#removes unnecessary columns.\n",
    "roughDat = roughDat.drop(columns=['Unnamed: 0', 'claimId',\n",
    "       'articleId', 'articleHeadlineStance'])"
   ]
  },
  {
   "cell_type": "code",
   "execution_count": null,
   "metadata": {},
   "outputs": [],
   "source": [
    "ppdb_dict[\"thousands\"][\"hundreds\"][1]"
   ]
  },
  {
   "cell_type": "code",
   "execution_count": 12,
   "metadata": {},
   "outputs": [],
   "source": [
    "mylist1=roughDat[\"claimHeadline\"].tolist()\n",
    "mylist2=roughDat[\"articleHeadline\"].tolist()\n",
    "n1=[]\n",
    "n2=[]"
   ]
  },
  {
   "cell_type": "code",
   "execution_count": 16,
   "metadata": {},
   "outputs": [
    {
     "name": "stdout",
     "output_type": "stream",
     "text": [
      "Starting server with command: java -Xmx8G -cp C:\\Users\\adity\\stanfordnlp_resources\\stanford-corenlp-full-2018-10-05/* edu.stanford.nlp.pipeline.StanfordCoreNLPServer -port 9000 -timeout 60000 -threads 5 -maxCharLength 100000 -quiet True -serverProperties corenlp_server-217f4d11cb1c488a.props -preload openie\n"
     ]
    }
   ],
   "source": [
    "import os\n",
    "os.environ[\"CORENLP_HOME\"] = r'D:\\\\Downloads\\\\stanford-corenlp-full-2018-10-05\\\\stanford-corenlp-full-2018-10-05'\n",
    "from openie import StanfordOpenIE\n",
    "with StanfordOpenIE() as client:\n",
    "    for i in mylist2:\n",
    "        n2.append(client.annotate(i))"
   ]
  },
  {
   "cell_type": "code",
   "execution_count": null,
   "metadata": {},
   "outputs": [],
   "source": [
    "import os\n",
    "os.environ[\"CORENLP_HOME\"] = r'D:\\\\Downloads\\\\stanford-corenlp-full-2018-10-05\\\\stanford-corenlp-full-2018-10-05'\n",
    "from openie import StanfordOpenIE\n",
    "with StanfordOpenIE() as client:\n",
    "    for i in mylist2:\n",
    "        n2.append(client.annotate(i))"
   ]
  },
  {
   "cell_type": "code",
   "execution_count": 14,
   "metadata": {},
   "outputs": [
    {
     "data": {
      "text/plain": [
       "177"
      ]
     },
     "execution_count": 14,
     "metadata": {},
     "output_type": "execute_result"
    }
   ],
   "source": [
    "len(n1)"
   ]
  },
  {
   "cell_type": "code",
   "execution_count": 17,
   "metadata": {},
   "outputs": [
    {
     "data": {
      "text/plain": [
       "177"
      ]
     },
     "execution_count": 17,
     "metadata": {},
     "output_type": "execute_result"
    }
   ],
   "source": [
    "len(n2)"
   ]
  },
  {
   "cell_type": "code",
   "execution_count": null,
   "metadata": {},
   "outputs": [],
   "source": [
    "subjectlabel=[]\n",
    "for i,j in zip(n1,n2):\n",
    "    if len(i)>0:\n",
    "        if i[0][\"subject\"] in ppdb_dict.keys():\n",
    "            if (len(j))>0:\n",
    "                if j[0][\"subject\"] in ppdb_dict[i[0][\"subject\"]].keys():\n",
    "                    subjectlabel.append(ppdb_dict[i[0][\"subject\"]][j[0][\"subject\"]][1])"
   ]
  },
  {
   "cell_type": "code",
   "execution_count": null,
   "metadata": {},
   "outputs": [],
   "source": [
    "verblabel=[]\n",
    "for i,j in zip(n1,n2):\n",
    "    if len(i)>0:\n",
    "        if i[0][\"relation\"] in ppdb_dict.keys():\n",
    "            if (len(j))>0:\n",
    "                if j[0][\"relation\"] in ppdb_dict[i[0][\"relation\"]].keys():\n",
    "                    verblabel.append(ppdb_dict[i[0][\"relation\"]][j[0][\"relation\"]][1])"
   ]
  },
  {
   "cell_type": "code",
   "execution_count": null,
   "metadata": {},
   "outputs": [],
   "source": [
    "objectlabel=[]\n",
    "for i,j in zip(n1,n2):\n",
    "    if len(i)>0:\n",
    "        if i[0][\"object\"] in ppdb_dict.keys():\n",
    "            if (len(j))>0:\n",
    "                if j[0][\"object\"] in ppdb_dict[i[0][\"object\"]].keys():\n",
    "                    objectlabel(ppdb_dict[i[0][\"object\"]][j[0][\"object\"]][1])"
   ]
  }
 ],
 "metadata": {
  "kernelspec": {
   "display_name": "Python 3",
   "language": "python",
   "name": "python3"
  },
  "language_info": {
   "codemirror_mode": {
    "name": "ipython",
    "version": 3
   },
   "file_extension": ".py",
   "mimetype": "text/x-python",
   "name": "python",
   "nbconvert_exporter": "python",
   "pygments_lexer": "ipython3",
   "version": "3.7.3"
  }
 },
 "nbformat": 4,
 "nbformat_minor": 2
}
