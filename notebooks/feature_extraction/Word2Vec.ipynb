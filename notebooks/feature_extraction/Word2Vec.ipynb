{
 "cells": [
  {
   "cell_type": "code",
   "execution_count": 1,
   "metadata": {},
   "outputs": [],
   "source": [
    "import gensim\n",
    "from nltk.tokenize import word_tokenize\n",
    "import string\n",
    "table = str.maketrans(' ', ' ', string.punctuation)\n",
    "import numpy as np"
   ]
  },
  {
   "cell_type": "code",
   "execution_count": 2,
   "metadata": {},
   "outputs": [],
   "source": [
    "#imports the data\n",
    "import pandas as pd\n",
    "roughDat= pd.read_csv(\"../../data/raw/Emergent_NAACL2016/emergent/url-versions-2015-06-14-clean.csv\")"
   ]
  },
  {
   "cell_type": "code",
   "execution_count": null,
   "metadata": {},
   "outputs": [],
   "source": [
    "model = gensim.models.KeyedVectors.load_word2vec_format('../../data/external/word2vec/GoogleNews-vectors-negative300.bin', binary=True) "
   ]
  },
  {
   "cell_type": "code",
   "execution_count": null,
   "metadata": {},
   "outputs": [],
   "source": [
    "#removes unnecessary columns.\n",
    "roughDat = roughDat.drop(columns=['Unnamed: 0', 'claimId', 'articleHeadlineStance'])"
   ]
  },
  {
   "cell_type": "code",
   "execution_count": null,
   "metadata": {},
   "outputs": [],
   "source": [
    "#mylist=roughDat[\"claimHeadline\"].unique().tolist()\n",
    "#myseclist = roughDat['articleHeadline'].unique().tolist()\n",
    "mylist=roughDat[\"claimHeadline\"].tolist()\n",
    "myseclist = roughDat['articleHeadline'].tolist()"
   ]
  },
  {
   "cell_type": "code",
   "execution_count": null,
   "metadata": {},
   "outputs": [],
   "source": [
    "import re\n",
    "mylist = [re.sub(\"-\", \" \", claim) for claim in mylist]\n",
    "myseclist = [re.sub(\"-\", \" \", headline) for headline in myseclist]"
   ]
  },
  {
   "cell_type": "code",
   "execution_count": 38,
   "metadata": {},
   "outputs": [],
   "source": [
    "mytokenizedlist =[ word_tokenize(i) for i in mylist]\n",
    "mysectokenizedlist = [word_tokenize(i) for i in myseclist]"
   ]
  },
  {
   "cell_type": "code",
   "execution_count": 30,
   "metadata": {},
   "outputs": [],
   "source": [
    "import re"
   ]
  },
  {
   "cell_type": "code",
   "execution_count": 43,
   "metadata": {},
   "outputs": [],
   "source": [
    "Word2VecFeatureC=[]\n",
    "for i in mytokenizedlist:\n",
    "    wf = np.ones(300)\n",
    "    #wf = np.zeros(300)\n",
    "    for j in i:\n",
    "        j = re.sub(\"-\", \" \", j)\n",
    "        j = j.lower()\n",
    "        j = j.translate(table)\n",
    "        if j in model.vocab:\n",
    "            wf*=model[j]\n",
    "        else:\n",
    "            continue\n",
    "            #wf+=model[j]\n",
    "    Word2VecFeatureC.append(wf)   "
   ]
  },
  {
   "cell_type": "code",
   "execution_count": 44,
   "metadata": {},
   "outputs": [],
   "source": [
    "Word2VecFeatureH=[]\n",
    "for i in mysectokenizedlist:\n",
    "    wf = np.ones(300)\n",
    "    #wf = np.zeros(300)\n",
    "    for j in i:\n",
    "        j = re.sub(\"-\", \" \", j)\n",
    "        j = j.lower()\n",
    "        j = j.translate(table)\n",
    "        if j in model.vocab:\n",
    "            wf*=model[j]\n",
    "        else:\n",
    "            continue\n",
    "            #wf+=model[j]\n",
    "    Word2VecFeatureH.append(wf)   "
   ]
  },
  {
   "cell_type": "code",
   "execution_count": 45,
   "metadata": {},
   "outputs": [],
   "source": [
    "from sklearn.metrics.pairwise import cosine_similarity"
   ]
  },
  {
   "cell_type": "code",
   "execution_count": 46,
   "metadata": {},
   "outputs": [],
   "source": [
    "CosineSimilarityF = [cosine_similarity(Word2VecFeatureH[i].reshape(1,300), Word2VecFeatureC[i].reshape(1,300)) for i in range(0,len(Word2VecFeatureH))]"
   ]
  },
  {
   "cell_type": "code",
   "execution_count": 47,
   "metadata": {},
   "outputs": [],
   "source": [
    "cosine_df = pd.DataFrame({\"articleId\": roughDat[\"articleId\"], \"cosineSim\": [x[0][0] for x in CosineSimilarityF]})"
   ]
  },
  {
   "cell_type": "code",
   "execution_count": 48,
   "metadata": {},
   "outputs": [],
   "source": [
    "cosine_df.to_csv(\"../../data/processed/features/cosine_feature.csv\", index=False)"
   ]
  }
 ],
 "metadata": {
  "kernelspec": {
   "display_name": "Python 3",
   "language": "python",
   "name": "python3"
  },
  "language_info": {
   "codemirror_mode": {
    "name": "ipython",
    "version": 3
   },
   "file_extension": ".py",
   "mimetype": "text/x-python",
   "name": "python",
   "nbconvert_exporter": "python",
   "pygments_lexer": "ipython3",
   "version": "3.7.0"
  }
 },
 "nbformat": 4,
 "nbformat_minor": 2
}
