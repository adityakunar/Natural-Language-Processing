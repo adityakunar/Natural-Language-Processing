{
 "cells": [
  {
   "cell_type": "code",
   "execution_count": 1,
   "metadata": {},
   "outputs": [],
   "source": [
    "import pandas as pd\n",
    "from nltk.tokenize import word_tokenize"
   ]
  },
  {
   "cell_type": "code",
   "execution_count": 2,
   "metadata": {
    "scrolled": true
   },
   "outputs": [],
   "source": [
    "from openie import StanfordOpenIE"
   ]
  },
  {
   "cell_type": "code",
   "execution_count": 3,
   "metadata": {},
   "outputs": [],
   "source": [
    "import os\n",
    "os.environ[\"CORENLP_HOME\"] = r'D:\\\\Learning Material\\\\IR\\\\stanford-corenlp-full-2018-10-05\\\\stanford-corenlp-full-2018-10-05'"
   ]
  },
  {
   "cell_type": "code",
   "execution_count": 4,
   "metadata": {},
   "outputs": [],
   "source": [
    "import string\n",
    "chars = list(string.punctuation)\n",
    "chars.remove(\"'\")\n",
    "punc=\"\".join(chars)\n",
    "table = str.maketrans('', '', punc)"
   ]
  },
  {
   "cell_type": "code",
   "execution_count": 5,
   "metadata": {},
   "outputs": [],
   "source": [
    "#imports the data\n",
    "roughDat= pd.read_csv(\"../../data/raw/Emergent_NAACL2016/emergent/url-versions-2015-06-14-clean.csv\")"
   ]
  },
  {
   "cell_type": "code",
   "execution_count": 6,
   "metadata": {},
   "outputs": [],
   "source": [
    "#removes unnecessary columns.\n",
    "roughDat = roughDat.drop(columns=['Unnamed: 0', 'claimId', 'articleHeadlineStance'])"
   ]
  },
  {
   "cell_type": "code",
   "execution_count": 7,
   "metadata": {},
   "outputs": [],
   "source": [
    "claims = roughDat[\"claimHeadline\"].tolist()\n",
    "headlines = roughDat[\"articleHeadline\"].tolist()\n",
    "claimSVO=[]\n",
    "headSVO=[]"
   ]
  },
  {
   "cell_type": "code",
   "execution_count": 8,
   "metadata": {},
   "outputs": [
    {
     "name": "stdout",
     "output_type": "stream",
     "text": [
      "Starting server with command: java -Xmx8G -cp C:\\Users\\adity\\stanfordnlp_resources\\stanford-corenlp-full-2018-10-05/* edu.stanford.nlp.pipeline.StanfordCoreNLPServer -port 9000 -timeout 60000 -threads 5 -maxCharLength 100000 -quiet True -serverProperties corenlp_server-58868331b8e547fd.props -preload openie\n"
     ]
    }
   ],
   "source": [
    "with StanfordOpenIE() as client:\n",
    "    for i in claims:\n",
    "        claimSVO.append(client.annotate(i))"
   ]
  },
  {
   "cell_type": "code",
   "execution_count": 9,
   "metadata": {},
   "outputs": [
    {
     "name": "stdout",
     "output_type": "stream",
     "text": [
      "Starting server with command: java -Xmx8G -cp C:\\Users\\adity\\stanfordnlp_resources\\stanford-corenlp-full-2018-10-05/* edu.stanford.nlp.pipeline.StanfordCoreNLPServer -port 9000 -timeout 60000 -threads 5 -maxCharLength 100000 -quiet True -serverProperties corenlp_server-556e19cd1c2949e1.props -preload openie\n"
     ]
    }
   ],
   "source": [
    "with StanfordOpenIE() as client:\n",
    "    for i in headlines:\n",
    "        headSVO.append(client.annotate(i))"
   ]
  },
  {
   "cell_type": "code",
   "execution_count": 10,
   "metadata": {},
   "outputs": [],
   "source": [
    "claim_subjects = []\n",
    "claim_objects = []\n",
    "claim_relations = []\n",
    "for claim_svo in claimSVO:\n",
    "    t1 = set()\n",
    "    t2 = set()\n",
    "    t3 = set()\n",
    "    for a in claim_svo:\n",
    "        t1.add(a[\"subject\"])\n",
    "        t2.add(a[\"object\"])\n",
    "        t3.add(a[\"relation\"])\n",
    "    claim_subjects.append(t1)\n",
    "    claim_objects.append(t2)\n",
    "    claim_relations.append(t3)"
   ]
  },
  {
   "cell_type": "code",
   "execution_count": 11,
   "metadata": {},
   "outputs": [],
   "source": [
    "headline_subjects = []\n",
    "headline_objects = []\n",
    "headline_relations = []\n",
    "for headline_svo in headSVO:\n",
    "    t1 = set()\n",
    "    t2 = set()\n",
    "    t3 = set()\n",
    "    for a in headline_svo:\n",
    "        t1.add(a[\"subject\"])\n",
    "        t2.add(a[\"object\"])\n",
    "        t3.add(a[\"relation\"])\n",
    "    headline_subjects.append(t1)\n",
    "    headline_objects.append(t2)\n",
    "    headline_relations.append(t3)"
   ]
  },
  {
   "cell_type": "code",
   "execution_count": 12,
   "metadata": {},
   "outputs": [],
   "source": [
    "subject_equivalence = []\n",
    "for cs, hs in zip(claim_subjects, headline_subjects):\n",
    "    claim_tokens = set()\n",
    "    headline_tokens = set()\n",
    "    for sub in cs:\n",
    "        claim_tokens.update((sub.lower()))\n",
    "    for sub in hs:\n",
    "        headline_tokens.update((sub.lower()))\n",
    "    subject_equivalence.append(len(claim_tokens.intersection(headline_tokens)) == 0)\n",
    "    \n",
    "object_equivalence = []\n",
    "for cs, hs in zip(claim_objects, headline_objects):\n",
    "    claim_tokens = set()\n",
    "    headline_tokens = set()\n",
    "    for sub in cs:\n",
    "        claim_tokens.update((sub.lower()))\n",
    "    for sub in hs:\n",
    "        headline_tokens.update((sub.lower()))\n",
    "    object_equivalence.append(len(claim_tokens.intersection(headline_tokens)) == 0)    \n",
    "\n",
    "relation_equivalence = []\n",
    "for cs, hs in zip(claim_relations, headline_relations):\n",
    "    claim_tokens = set()\n",
    "    headline_tokens = set()\n",
    "    for sub in cs:\n",
    "        claim_tokens.update((sub.lower()))\n",
    "    for sub in hs:\n",
    "        headline_tokens.update((sub.lower()))\n",
    "    relation_equivalence.append(len(claim_tokens.intersection(headline_tokens)) == 0)    "
   ]
  },
  {
   "cell_type": "code",
   "execution_count": 13,
   "metadata": {},
   "outputs": [],
   "source": [
    "import pickle"
   ]
  },
  {
   "cell_type": "code",
   "execution_count": 14,
   "metadata": {},
   "outputs": [],
   "source": [
    "# load the ppdb data\n",
    "with open(\"../../data/external/ppdb-small-all.pkl\", \"rb\") as f:\n",
    "    ppdb_dict = pickle.load(f)"
   ]
  },
  {
   "cell_type": "code",
   "execution_count": 15,
   "metadata": {},
   "outputs": [],
   "source": [
    "subject_entailments = []\n",
    "for cs, hs in zip(claim_subjects, headline_subjects):\n",
    "    l = []\n",
    "    entailment = \"\"\n",
    "    for subject in cs:\n",
    "        sub = subject.lower().translate(table)\n",
    "        l.append(ppdb_dict.get(sub, {}))\n",
    "    done = False\n",
    "    for subject in hs:\n",
    "        for para in l:\n",
    "            entailment=para.get(subject,\"noRelation\")\n",
    "            if entailment!=\"noRelation\":\n",
    "                subject_entailments.append(entailment[1])\n",
    "                done = True\n",
    "                break\n",
    "        if done is True:\n",
    "            break\n",
    "    if done is not True:\n",
    "        subject_entailments.append(\"noRelation\")"
   ]
  },
  {
   "cell_type": "code",
   "execution_count": 16,
   "metadata": {},
   "outputs": [],
   "source": [
    "relation_entailments = []\n",
    "for cr, hr in zip(claim_relations, headline_relations):\n",
    "    l = []\n",
    "    entailment = \"\"\n",
    "    for relation in cr:\n",
    "        rel = relation.lower().translate(table)\n",
    "        l.append(ppdb_dict.get(rel, {}))\n",
    "    done = False\n",
    "    for relation in hr:\n",
    "        for para in l:\n",
    "            entailment = para.get(relation,\"noRelation\")\n",
    "            if entailment != \"noRelation\":\n",
    "                relation_entailments.append(entailment[1])\n",
    "                done = True\n",
    "                break\n",
    "        if done is True:\n",
    "            break\n",
    "    if done is not True:\n",
    "        relation_entailments.append(\"noRelation\")"
   ]
  },
  {
   "cell_type": "code",
   "execution_count": 19,
   "metadata": {},
   "outputs": [],
   "source": [
    "object_entailments = []\n",
    "for cr, hr in zip(claim_objects, headline_objects):\n",
    "    l = []\n",
    "    entailment = \"\"\n",
    "    for obj in cr:\n",
    "        rel = obj.lower().translate(table)\n",
    "        l.append(ppdb_dict.get(rel, {}))\n",
    "    done = False\n",
    "    for obj in hr:\n",
    "        for para in l:\n",
    "            entailment = para.get(obj,\"noRelation\")\n",
    "            if entailment != \"noRelation\":\n",
    "                object_entailments.append(entailment[1])\n",
    "                done = True\n",
    "                break\n",
    "        if done is True:\n",
    "            break\n",
    "    if done is not True:\n",
    "        object_entailments.append(\"noRelation\")"
   ]
  },
  {
   "cell_type": "code",
   "execution_count": 20,
   "metadata": {},
   "outputs": [],
   "source": [
    "for i, (x,y) in enumerate(zip(subject_entailments, subject_equivalence)):\n",
    "    if (x == \"noRelation\" or x == \"Independent\") and y is True:\n",
    "        subject_entailments[i] = \"Equivalence\"\n",
    "        \n",
    "for i, (x,y) in enumerate(zip(relation_entailments, relation_equivalence)):\n",
    "    if (x == \"noRelation\" or x == \"Independent\") and y is True:\n",
    "        relation_entailments[i] = \"Equivalence\"\n",
    "        \n",
    "for i, (x,y) in enumerate(zip(object_entailments, object_equivalence)):\n",
    "    if (x == \"noRelation\" or x == \"Independent\") and y is True:\n",
    "        object_entailments[i] = \"Equivalence\"            "
   ]
  },
  {
   "cell_type": "code",
   "execution_count": 21,
   "metadata": {},
   "outputs": [],
   "source": [
    "equiv_map = {\n",
    "    \"Independent\": 0,\n",
    "    \"OtherRelated\": 1,\n",
    "    \"Equivalence\": 2,\n",
    "    \"ForwardEntailment\": 3,\n",
    "    \"ReverseEntailment\": 4,\n",
    "    \"Exclusion\": 5,\n",
    "    \"noRelation\": 0\n",
    "}"
   ]
  },
  {
   "cell_type": "code",
   "execution_count": 22,
   "metadata": {},
   "outputs": [],
   "source": [
    "object_entailments = [equiv_map[i] for i in object_entailments]\n",
    "relation_entailments = [equiv_map[i] for i in relation_entailments]\n",
    "subject_entailments = [equiv_map[i] for i in subject_entailments]"
   ]
  },
  {
   "cell_type": "code",
   "execution_count": 23,
   "metadata": {},
   "outputs": [],
   "source": [
    "import numpy as np"
   ]
  },
  {
   "cell_type": "code",
   "execution_count": 24,
   "metadata": {},
   "outputs": [],
   "source": [
    "assert len(subject_entailments) == roughDat[\"articleId\"].shape[0]\n",
    "assert len(relation_entailments) == roughDat[\"articleId\"].shape[0]\n",
    "assert len(object_entailments) == roughDat[\"articleId\"].shape[0]"
   ]
  },
  {
   "cell_type": "code",
   "execution_count": 25,
   "metadata": {},
   "outputs": [],
   "source": [
    "df = pd.DataFrame({\n",
    "    \"articleId\": roughDat[\"articleId\"],\n",
    "    \"subject_entailments\": subject_entailments,\n",
    "    \"object_entailments\": object_entailments,\n",
    "    \"relation_entailments\": relation_entailments\n",
    "})"
   ]
  },
  {
   "cell_type": "code",
   "execution_count": 30,
   "metadata": {},
   "outputs": [],
   "source": [
    "df.to_csv(\"../../data/processed/features/svo_ppdb_s_all.csv\", index=False)"
   ]
  }
 ],
 "metadata": {
  "kernelspec": {
   "display_name": "Python 3",
   "language": "python",
   "name": "python3"
  },
  "language_info": {
   "codemirror_mode": {
    "name": "ipython",
    "version": 3
   },
   "file_extension": ".py",
   "mimetype": "text/x-python",
   "name": "python",
   "nbconvert_exporter": "python",
   "pygments_lexer": "ipython3",
   "version": "3.7.3"
  }
 },
 "nbformat": 4,
 "nbformat_minor": 2
}
