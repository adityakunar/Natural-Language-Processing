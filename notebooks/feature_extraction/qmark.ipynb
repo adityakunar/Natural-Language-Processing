{
 "cells": [
  {
   "cell_type": "code",
   "execution_count": 7,
   "metadata": {},
   "outputs": [],
   "source": [
    "import pandas as pd\n",
    "import numpy as np"
   ]
  },
  {
   "cell_type": "code",
   "execution_count": 8,
   "metadata": {},
   "outputs": [
    {
     "data": {
      "text/html": [
       "<div>\n",
       "<style scoped>\n",
       "    .dataframe tbody tr th:only-of-type {\n",
       "        vertical-align: middle;\n",
       "    }\n",
       "\n",
       "    .dataframe tbody tr th {\n",
       "        vertical-align: top;\n",
       "    }\n",
       "\n",
       "    .dataframe thead th {\n",
       "        text-align: right;\n",
       "    }\n",
       "</style>\n",
       "<table border=\"1\" class=\"dataframe\">\n",
       "  <thead>\n",
       "    <tr style=\"text-align: right;\">\n",
       "      <th></th>\n",
       "      <th>Unnamed: 0</th>\n",
       "      <th>claimHeadline</th>\n",
       "      <th>articleHeadline</th>\n",
       "      <th>articleHeadlineStance</th>\n",
       "      <th>articleId</th>\n",
       "      <th>claimId</th>\n",
       "    </tr>\n",
       "  </thead>\n",
       "  <tbody>\n",
       "    <tr>\n",
       "      <th>0</th>\n",
       "      <td>0</td>\n",
       "      <td>Apple will sell 19 million Apple Watches in 2015</td>\n",
       "      <td>BMO forecasts 19M Apple Watch sales in 2015, w...</td>\n",
       "      <td>observing</td>\n",
       "      <td>116a3920-c41c-11e4-883c-a7fa7a3c5066</td>\n",
       "      <td>8faeb4b0-c41b-11e4-88c9-eb158a06b9a5</td>\n",
       "    </tr>\n",
       "    <tr>\n",
       "      <th>1</th>\n",
       "      <td>1</td>\n",
       "      <td>Two Australian men kept a McDonald's Quarter P...</td>\n",
       "      <td>World's oldest burger</td>\n",
       "      <td>for</td>\n",
       "      <td>8bb10fd0-b6aa-11e4-8507-b58af63d1078</td>\n",
       "      <td>d54aaf40-b6a8-11e4-8507-b58af63d1078</td>\n",
       "    </tr>\n",
       "    <tr>\n",
       "      <th>2</th>\n",
       "      <td>2</td>\n",
       "      <td>Two Australian men kept a McDonald's Quarter P...</td>\n",
       "      <td>Two blokes dared to eat 20-year-old burger for...</td>\n",
       "      <td>for</td>\n",
       "      <td>00b6b660-b6a9-11e4-8507-b58af63d1078</td>\n",
       "      <td>d54aaf40-b6a8-11e4-8507-b58af63d1078</td>\n",
       "    </tr>\n",
       "  </tbody>\n",
       "</table>\n",
       "</div>"
      ],
      "text/plain": [
       "   Unnamed: 0                                      claimHeadline  \\\n",
       "0           0   Apple will sell 19 million Apple Watches in 2015   \n",
       "1           1  Two Australian men kept a McDonald's Quarter P...   \n",
       "2           2  Two Australian men kept a McDonald's Quarter P...   \n",
       "\n",
       "                                     articleHeadline articleHeadlineStance  \\\n",
       "0  BMO forecasts 19M Apple Watch sales in 2015, w...             observing   \n",
       "1                              World's oldest burger                   for   \n",
       "2  Two blokes dared to eat 20-year-old burger for...                   for   \n",
       "\n",
       "                              articleId                               claimId  \n",
       "0  116a3920-c41c-11e4-883c-a7fa7a3c5066  8faeb4b0-c41b-11e4-88c9-eb158a06b9a5  \n",
       "1  8bb10fd0-b6aa-11e4-8507-b58af63d1078  d54aaf40-b6a8-11e4-8507-b58af63d1078  \n",
       "2  00b6b660-b6a9-11e4-8507-b58af63d1078  d54aaf40-b6a8-11e4-8507-b58af63d1078  "
      ]
     },
     "execution_count": 8,
     "metadata": {},
     "output_type": "execute_result"
    }
   ],
   "source": [
    "#imports the data\n",
    "roughDat= pd.read_csv(\"../../data/raw/Emergent_NAACL2016/emergent/url-versions-2015-06-14-clean.csv\")\n",
    "roughDat[0:3]"
   ]
  },
  {
   "cell_type": "code",
   "execution_count": 9,
   "metadata": {},
   "outputs": [],
   "source": [
    "#removes unnecessary columns.\n",
    "roughDat = roughDat.drop(columns=['Unnamed: 0', 'claimHeadline',\n",
    "       'claimId', 'articleHeadlineStance'])\n",
    "roughDat.drop_duplicates(inplace=True)"
   ]
  },
  {
   "cell_type": "code",
   "execution_count": 10,
   "metadata": {},
   "outputs": [],
   "source": [
    "#checks in the data if there is a question mark in the string.\n",
    "import re\n",
    "regexp = re.compile(r\"\\?\")\n",
    "QFeature=[]\n",
    "for s in roughDat['articleHeadline']:\n",
    "    if re.search(regexp, s):\n",
    "        QFeature.append(1)\n",
    "    else:\n",
    "        QFeature.append(0)"
   ]
  },
  {
   "cell_type": "code",
   "execution_count": 11,
   "metadata": {},
   "outputs": [],
   "source": [
    "#appends the QFeature to the claimHeadline dataframe.\n",
    "roughDat[\"Qmark\"]= QFeature"
   ]
  },
  {
   "cell_type": "code",
   "execution_count": 12,
   "metadata": {},
   "outputs": [],
   "source": [
    "roughDat[[\"articleId\", \"Qmark\"]].to_csv(\"../../data/processed/features/headline_Qmark.csv\",index=False)"
   ]
  },
  {
   "cell_type": "markdown",
   "metadata": {},
   "source": [
    "Insights into bag of words\n",
    "The BOW model only considers if a known word occurs in a document or not. It does not care about meaning, context, and order in which they appear.\n",
    "This gives the insight that similar documents will have word counts similar to each other. In other words, the more similar the words in two documents, the more similar the documents can be.\n",
    "Limitations of BOW\n",
    "Semantic meaning: the basic BOW approach does not consider the meaning of the word in the document. It completely ignores the context in which it’s used. The same word can be used in multiple places based on the context or nearby words.\n",
    "Vector size: For a large document, the vector size can be huge resulting in a lot of computation and time. You may need to ignore words based on relevance to your use case.\n"
   ]
  }
 ],
 "metadata": {
  "kernelspec": {
   "display_name": "Python 3",
   "language": "python",
   "name": "python3"
  },
  "language_info": {
   "codemirror_mode": {
    "name": "ipython",
    "version": 3
   },
   "file_extension": ".py",
   "mimetype": "text/x-python",
   "name": "python",
   "nbconvert_exporter": "python",
   "pygments_lexer": "ipython3",
   "version": "3.7.0"
  }
 },
 "nbformat": 4,
 "nbformat_minor": 2
}
