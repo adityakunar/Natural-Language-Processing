{
 "cells": [
  {
   "cell_type": "code",
   "execution_count": 25,
   "metadata": {},
   "outputs": [],
   "source": [
    "import pandas as pd\n",
    "from nltk.tokenize import word_tokenize"
   ]
  },
  {
   "cell_type": "code",
   "execution_count": 26,
   "metadata": {
    "scrolled": true
   },
   "outputs": [],
   "source": [
    "from openie import StanfordOpenIE"
   ]
  },
  {
   "cell_type": "code",
   "execution_count": 27,
   "metadata": {},
   "outputs": [],
   "source": [
    "# import os\n",
    "# os.environ[\"CORENLP_HOME\"] = r'D:\\\\Learning Material\\\\IR\\\\stanford-corenlp-full-2018-10-05\\\\stanford-corenlp-full-2018-10-05'"
   ]
  },
  {
   "cell_type": "code",
   "execution_count": 28,
   "metadata": {},
   "outputs": [],
   "source": [
    "import string\n",
    "chars = list(string.punctuation)\n",
    "chars.remove(\"'\")\n",
    "punc=\"\".join(chars)\n",
    "table = str.maketrans('', '', punc)"
   ]
  },
  {
   "cell_type": "code",
   "execution_count": 29,
   "metadata": {},
   "outputs": [],
   "source": [
    "#imports the data\n",
    "roughDat= pd.read_csv(\"../../data/raw/Emergent_NAACL2016/emergent/url-versions-2015-06-14-clean.csv\")"
   ]
  },
  {
   "cell_type": "code",
   "execution_count": 30,
   "metadata": {},
   "outputs": [],
   "source": [
    "#removes unnecessary columns.\n",
    "roughDat = roughDat.drop(columns=['Unnamed: 0', 'claimId', 'articleHeadlineStance'])"
   ]
  },
  {
   "cell_type": "code",
   "execution_count": 31,
   "metadata": {},
   "outputs": [],
   "source": [
    "claims = roughDat[\"claimHeadline\"].tolist()\n",
    "headlines = roughDat[\"articleHeadline\"].tolist()\n",
    "claimSVO=[]\n",
    "headSVO=[]"
   ]
  },
  {
   "cell_type": "code",
   "execution_count": 33,
   "metadata": {},
   "outputs": [
    {
     "name": "stdout",
     "output_type": "stream",
     "text": [
      "Starting server with command: java -Xmx8G -cp /Users/nikilsaldanaha/stanfordnlp_resources/stanford-corenlp-full-2018-10-05/* edu.stanford.nlp.pipeline.StanfordCoreNLPServer -port 9000 -timeout 60000 -threads 5 -maxCharLength 100000 -quiet True -serverProperties corenlp_server-aa80561be52545a8.props -preload openie\n"
     ]
    }
   ],
   "source": [
    "with StanfordOpenIE() as client:\n",
    "    for i in claims:\n",
    "        claimSVO.append(client.annotate(i))"
   ]
  },
  {
   "cell_type": "code",
   "execution_count": 34,
   "metadata": {},
   "outputs": [
    {
     "name": "stdout",
     "output_type": "stream",
     "text": [
      "Starting server with command: java -Xmx8G -cp /Users/nikilsaldanaha/stanfordnlp_resources/stanford-corenlp-full-2018-10-05/* edu.stanford.nlp.pipeline.StanfordCoreNLPServer -port 9000 -timeout 60000 -threads 5 -maxCharLength 100000 -quiet True -serverProperties corenlp_server-c847611fb3924949.props -preload openie\n"
     ]
    }
   ],
   "source": [
    "with StanfordOpenIE() as client:\n",
    "    for i in headlines:\n",
    "        headSVO.append(client.annotate(i))"
   ]
  },
  {
   "cell_type": "code",
   "execution_count": 35,
   "metadata": {},
   "outputs": [],
   "source": [
    "claim_subjects = []\n",
    "claim_objects = []\n",
    "claim_relations = []\n",
    "for claim_svo in claimSVO:\n",
    "    t1 = set()\n",
    "    t2 = set()\n",
    "    t3 = set()\n",
    "    for a in claim_svo:\n",
    "        t1.add(a[\"subject\"])\n",
    "        t2.add(a[\"object\"])\n",
    "        t3.add(a[\"relation\"])\n",
    "    claim_subjects.append(t1)\n",
    "    claim_objects.append(t2)\n",
    "    claim_relations.append(t3)"
   ]
  },
  {
   "cell_type": "code",
   "execution_count": 36,
   "metadata": {},
   "outputs": [],
   "source": [
    "headline_subjects = []\n",
    "headline_objects = []\n",
    "headline_relations = []\n",
    "for headline_svo in headSVO:\n",
    "    t1 = set()\n",
    "    t2 = set()\n",
    "    t3 = set()\n",
    "    for a in headline_svo:\n",
    "        t1.add(a[\"subject\"])\n",
    "        t2.add(a[\"object\"])\n",
    "        t3.add(a[\"relation\"])\n",
    "    headline_subjects.append(t1)\n",
    "    headline_objects.append(t2)\n",
    "    headline_relations.append(t3)"
   ]
  },
  {
   "cell_type": "code",
   "execution_count": 37,
   "metadata": {},
   "outputs": [],
   "source": [
    "subject_equivalence = []\n",
    "for cs, hs in zip(claim_subjects, headline_subjects):\n",
    "    claim_tokens = set()\n",
    "    headline_tokens = set()\n",
    "    for sub in cs:\n",
    "        claim_tokens.update(word_tokenize(sub.lower()))\n",
    "    for sub in hs:\n",
    "        headline_tokens.update(word_tokenize(sub.lower()))\n",
    "    subject_equivalence.append(len(claim_tokens.intersection(headline_tokens)) == 0)\n",
    "    \n",
    "object_equivalence = []\n",
    "for cs, hs in zip(claim_objects, headline_objects):\n",
    "    claim_tokens = set()\n",
    "    headline_tokens = set()\n",
    "    for sub in cs:\n",
    "        claim_tokens.update(word_tokenize(sub.lower()))\n",
    "    for sub in hs:\n",
    "        headline_tokens.update(word_tokenize(sub.lower()))\n",
    "    object_equivalence.append(len(claim_tokens.intersection(headline_tokens)) == 0)    \n",
    "\n",
    "relation_equivalence = []\n",
    "for cs, hs in zip(claim_relations, headline_relations):\n",
    "    claim_tokens = set()\n",
    "    headline_tokens = set()\n",
    "    for sub in cs:\n",
    "        claim_tokens.update(word_tokenize(sub.lower()))\n",
    "    for sub in hs:\n",
    "        headline_tokens.update(word_tokenize(sub.lower()))\n",
    "    relation_equivalence.append(len(claim_tokens.intersection(headline_tokens)) == 0)        "
   ]
  },
  {
   "cell_type": "code",
   "execution_count": 38,
   "metadata": {},
   "outputs": [],
   "source": [
    "import pickle"
   ]
  },
  {
   "cell_type": "code",
   "execution_count": 39,
   "metadata": {},
   "outputs": [],
   "source": [
    "# load the ppdb data\n",
    "with open(\"../../data/processed/ppdb/ppdb-small-all.pkl\", \"rb\") as f:\n",
    "    ppdb_dict = pickle.load(f)"
   ]
  },
  {
   "cell_type": "code",
   "execution_count": 40,
   "metadata": {},
   "outputs": [],
   "source": [
    "subject_entailments = []\n",
    "for cs, hs in zip(claim_subjects, headline_subjects):\n",
    "    l = []\n",
    "    entailment = \"\"\n",
    "    for subject in cs:\n",
    "        sub = word_tokenize(subject.lower().translate(table))\n",
    "        for s in sub:\n",
    "            l.append(ppdb_dict.get(s, {}))\n",
    "    done = False\n",
    "    for subject in hs:\n",
    "        for para in l:\n",
    "            sub = word_tokenize(subject.lower().translate(table))\n",
    "            for s in sub:\n",
    "                entailment=para.get(s,\"noRelation\")\n",
    "                if entailment!=\"noRelation\":\n",
    "                    subject_entailments.append(entailment[1])\n",
    "                    done = True\n",
    "                    break\n",
    "            if done is True:\n",
    "                break\n",
    "        if done is True:\n",
    "            break\n",
    "    if done is not True:\n",
    "        subject_entailments.append(\"noRelation\")"
   ]
  },
  {
   "cell_type": "code",
   "execution_count": 41,
   "metadata": {},
   "outputs": [],
   "source": [
    "relation_entailments = []\n",
    "for cr, hr in zip(claim_relations, headline_relations):\n",
    "    l = []\n",
    "    entailment = \"\"\n",
    "    for subject in cr:\n",
    "        rel = word_tokenize(subject.lower().translate(table))\n",
    "        for r in rel:\n",
    "            l.append(ppdb_dict.get(r, {}))\n",
    "    done = False\n",
    "    for relation in hr:\n",
    "        for para in l:\n",
    "            rel = word_tokenize(relation.lower().translate(table))\n",
    "            for r in rel:\n",
    "                entailment=para.get(r,\"noRelation\")\n",
    "                if entailment!=\"noRelation\":\n",
    "                    relation_entailments.append(entailment[1])\n",
    "                    done = True\n",
    "                    break\n",
    "            if done is True:\n",
    "                break       \n",
    "        if done is True:\n",
    "            break\n",
    "    if done is not True:\n",
    "        relation_entailments.append(\"noRelation\")\n",
    "        "
   ]
  },
  {
   "cell_type": "code",
   "execution_count": 42,
   "metadata": {},
   "outputs": [],
   "source": [
    "object_entailments = []\n",
    "for co, ho in zip(claim_objects, headline_objects):\n",
    "    l = []\n",
    "    entailment = \"\"\n",
    "    for obj in co:\n",
    "        ob = word_tokenize(obj.lower().translate(table))\n",
    "        for o in ob:\n",
    "            l.append(ppdb_dict.get(o, {}))\n",
    "    done = False\n",
    "    for obj in ho:\n",
    "        for para in l:\n",
    "            ob = word_tokenize(obj.lower().translate(table))\n",
    "            for o in ob:\n",
    "                entailment=para.get(o,\"noRelation\")\n",
    "                if entailment!=\"noRelation\":\n",
    "                    object_entailments.append(entailment[1])\n",
    "                    done = True\n",
    "                    break\n",
    "            if done is True:\n",
    "                break       \n",
    "        if done is True:\n",
    "            break\n",
    "    if done is not True:\n",
    "        object_entailments.append(\"noRelation\")     \n",
    "        "
   ]
  },
  {
   "cell_type": "code",
   "execution_count": 43,
   "metadata": {},
   "outputs": [],
   "source": [
    "for i, (x,y) in enumerate(zip(subject_entailments, subject_equivalence)):\n",
    "    if (x == \"noRelation\" or x == \"Independent\") and y is True:\n",
    "        subject_entailments[i] = \"Equivalence\""
   ]
  },
  {
   "cell_type": "code",
   "execution_count": 44,
   "metadata": {},
   "outputs": [],
   "source": [
    "equiv_map = {\n",
    "    \"Independent\": 0,\n",
    "    \"OtherRelated\": 1,\n",
    "    \"Equivalence\": 2,\n",
    "    \"ForwardEntailment\": 3,\n",
    "    \"ReverseEntailment\": 4,\n",
    "    \"Exclusion\": 5,\n",
    "    \"noRelation\": 0\n",
    "}"
   ]
  },
  {
   "cell_type": "code",
   "execution_count": 45,
   "metadata": {},
   "outputs": [],
   "source": [
    "object_entailments = [equiv_map[i] for i in object_entailments]\n",
    "relation_entailments = [equiv_map[i] for i in relation_entailments]\n",
    "subject_entailments = [equiv_map[i] for i in subject_entailments]"
   ]
  },
  {
   "cell_type": "code",
   "execution_count": 46,
   "metadata": {},
   "outputs": [],
   "source": [
    "import numpy as np"
   ]
  },
  {
   "cell_type": "code",
   "execution_count": 47,
   "metadata": {},
   "outputs": [],
   "source": [
    "assert len(subject_entailments) == roughDat[\"articleId\"].shape[0]\n",
    "assert len(relation_entailments) == roughDat[\"articleId\"].shape[0]\n",
    "assert len(object_entailments) == roughDat[\"articleId\"].shape[0]"
   ]
  },
  {
   "cell_type": "code",
   "execution_count": 48,
   "metadata": {},
   "outputs": [],
   "source": [
    "df = pd.DataFrame({\n",
    "    \"articleId\": roughDat[\"articleId\"],\n",
    "    \"subject_entailments\": subject_entailments,\n",
    "    \"object_entailments\": object_entailments,\n",
    "    \"relation_entailments\": relation_entailments\n",
    "})"
   ]
  },
  {
   "cell_type": "code",
   "execution_count": 49,
   "metadata": {},
   "outputs": [],
   "source": [
    "df.to_csv(\"../../data/processed/features/svo_Lexical.csv\", index=False)"
   ]
  },
  {
   "cell_type": "code",
   "execution_count": null,
   "metadata": {},
   "outputs": [],
   "source": []
  }
 ],
 "metadata": {
  "kernelspec": {
   "display_name": "Python 3",
   "language": "python",
   "name": "python3"
  },
  "language_info": {
   "codemirror_mode": {
    "name": "ipython",
    "version": 3
   },
   "file_extension": ".py",
   "mimetype": "text/x-python",
   "name": "python",
   "nbconvert_exporter": "python",
   "pygments_lexer": "ipython3",
   "version": "3.7.0"
  }
 },
 "nbformat": 4,
 "nbformat_minor": 2
}
