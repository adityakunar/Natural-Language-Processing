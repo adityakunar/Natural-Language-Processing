{
 "cells": [
  {
   "cell_type": "code",
   "execution_count": 1,
   "metadata": {
    "scrolled": false
   },
   "outputs": [],
   "source": [
    "import sklearn\n",
    "import numpy as np\n",
    "import pandas as pd\n",
    "import matplotlib.pyplot as plt"
   ]
  },
  {
   "cell_type": "code",
   "execution_count": 2,
   "metadata": {
    "scrolled": false
   },
   "outputs": [],
   "source": [
    "#import data\n",
    "train = pd.read_csv('../../data/raw/Emergent_NAACL2016/emergent/url-versions-2015-06-14-clean-train.csv')\n",
    "train.drop(columns=[\"Unnamed: 0\"], inplace=True)"
   ]
  },
  {
   "cell_type": "code",
   "execution_count": 3,
   "metadata": {
    "scrolled": false
   },
   "outputs": [],
   "source": [
    "#create features\n",
    "align_feature = pd.read_csv('../../data/processed/features/alignment_feature.csv')\n",
    "cosine_feature = pd.read_csv('../../data/processed/features/cosine_feature.csv')\n",
    "bow_feature = pd.read_csv('../../data/processed/features/headline_BoW.csv')\n",
    "qmark_feature = pd.read_csv('../../data/processed/features/headline_Qmark.csv')\n",
    "neg_alignment_feature = pd.read_csv('../../data/processed/features/neg_alignment_feature.csv')\n",
    "root_dist_feature = pd.read_csv('../../data/processed/features/root_dist_min.csv')\n",
    "svo_feature = pd.read_csv('../../data/processed/features/svo_Lexical.csv')"
   ]
  },
  {
   "cell_type": "code",
   "execution_count": 4,
   "metadata": {
    "scrolled": false
   },
   "outputs": [],
   "source": [
    "#target_map = {\"for\": 0, \"observing\": 1, \"against\": 2}"
   ]
  },
  {
   "cell_type": "code",
   "execution_count": 5,
   "metadata": {
    "scrolled": false
   },
   "outputs": [],
   "source": [
    "#train = train.replace({\"articleHeadlineStance\": target_map})"
   ]
  },
  {
   "cell_type": "code",
   "execution_count": 6,
   "metadata": {
    "scrolled": false
   },
   "outputs": [
    {
     "data": {
      "text/plain": [
       "for          992\n",
       "observing    775\n",
       "against      304\n",
       "Name: articleHeadlineStance, dtype: int64"
      ]
     },
     "execution_count": 6,
     "metadata": {},
     "output_type": "execute_result"
    }
   ],
   "source": [
    "train[\"articleHeadlineStance\"].value_counts()#,test[\"articleHeadlineStance\"].value_counts()"
   ]
  },
  {
   "cell_type": "code",
   "execution_count": 7,
   "metadata": {
    "scrolled": false
   },
   "outputs": [],
   "source": [
    "train = pd.merge(train, align_feature, on=\"articleId\")\n",
    "train = pd.merge(train, cosine_feature, on=\"articleId\")\n",
    "train = pd.merge(train, bow_feature, on=\"articleId\")\n",
    "train = pd.merge(train, qmark_feature, on=\"articleId\")\n",
    "train = pd.merge(train, neg_alignment_feature, on=\"articleId\")\n",
    "train = pd.merge(train, root_dist_feature, on=\"articleId\")\n",
    "train = pd.merge(train, svo_feature, on=\"articleId\")"
   ]
  },
  {
   "cell_type": "code",
   "execution_count": 8,
   "metadata": {
    "scrolled": false
   },
   "outputs": [],
   "source": [
    "#train[\"articleHeadlineStance\"] = train[\"articleHeadlineStance\"].astype(\"int\")"
   ]
  },
  {
   "cell_type": "code",
   "execution_count": 9,
   "metadata": {
    "scrolled": false
   },
   "outputs": [],
   "source": [
    "# merge datasets and shuuffle with random seed\n",
    "seed = 1234\n",
    "\n",
    "train = sklearn.utils.shuffle(train, random_state=seed)\n",
    "#test = sklearn.utils.shuffle(test, random_state=seed)\n"
   ]
  },
  {
   "cell_type": "code",
   "execution_count": 10,
   "metadata": {
    "scrolled": false
   },
   "outputs": [],
   "source": [
    "# create train and test\n",
    "\n",
    "X_train = train.to_numpy()[:,5:]\n",
    "Y_train = train[\"articleHeadlineStance\"].values.reshape((-1,))\n",
    "\n",
    "from sklearn.model_selection import train_test_split\n",
    "X_Train, X_Test, Y_Train, Y_Test = train_test_split(X_train, Y_train, test_size=0.20, random_state=42)\n",
    "\n",
    "\n",
    "#X_test = test.to_numpy()[:,5:]\n",
    "#Y_test = test[\"articleHeadlineStance\"].values.reshape((-1,))"
   ]
  },
  {
   "cell_type": "code",
   "execution_count": 11,
   "metadata": {
    "scrolled": false
   },
   "outputs": [],
   "source": [
    "Y_train = Y_Train\n",
    "X_train = X_Train.astype(float)\n",
    "X_val = X_Test.astype(float)\n",
    "Y_val = Y_Test"
   ]
  },
  {
   "cell_type": "code",
   "execution_count": 12,
   "metadata": {
    "scrolled": false
   },
   "outputs": [],
   "source": [
    "from sklearn import preprocessing"
   ]
  },
  {
   "cell_type": "code",
   "execution_count": 13,
   "metadata": {
    "scrolled": false
   },
   "outputs": [],
   "source": [
    "scaler = preprocessing.StandardScaler().fit(X_train)\n",
    "X_train = scaler.transform(X_train)\n",
    "X_val = scaler.transform(X_val)"
   ]
  },
  {
   "cell_type": "code",
   "execution_count": 14,
   "metadata": {
    "scrolled": false
   },
   "outputs": [],
   "source": [
    "from sklearn.metrics import confusion_matrix, plot_confusion_matrix"
   ]
  },
  {
   "cell_type": "code",
   "execution_count": null,
   "metadata": {
    "scrolled": true
   },
   "outputs": [],
   "source": []
  },
  {
   "cell_type": "code",
   "execution_count": null,
   "metadata": {
    "scrolled": true
   },
   "outputs": [
    {
     "name": "stdout",
     "output_type": "stream",
     "text": [
      "[LibSVM]"
     ]
    },
    {
     "name": "stderr",
     "output_type": "stream",
     "text": [
      "/home/sharwinbobde/envs/Inforet/lib/python3.8/site-packages/sklearn/svm/_base.py:228: ConvergenceWarning: Solver terminated early (max_iter=1000).  Consider pre-processing your data with StandardScaler or MinMaxScaler.\n",
      "  warnings.warn('Solver terminated early (max_iter=%i).'\n"
     ]
    },
    {
     "name": "stdout",
     "output_type": "stream",
     "text": [
      "\n",
      "\n",
      " ------------ kernel = linear ------------\n",
      "Number of mislabeled points out of a total 415 points : 143\n",
      "Accuracy on test set: 0.655421686746988\n",
      "[[0.45454545 0.27272727 0.27272727]\n",
      " [0.         0.74129353 0.25870647]\n",
      " [0.01886792 0.36477987 0.6163522 ]]\n",
      "[LibSVM]"
     ]
    }
   ],
   "source": [
    "from sklearn.svm import SVC\n",
    "from sklearn.metrics import f1_score\n",
    "\n",
    "kernels = (\"linear\", \"rbf\", \"poly\")\n",
    "seed = 1234\n",
    "max_iter=10e2\n",
    "tol = 1e-2\n",
    "verbose = True\n",
    "\n",
    "disp = []\n",
    "\n",
    "for kernel in kernels:\n",
    "    soln = SVC(kernel=kernel, decision_function_shape=\"ovr\",\n",
    "               random_state=seed, max_iter=max_iter, verbose=verbose,\n",
    "               tol=tol)\n",
    "    soln.fit(X_train, Y_train)\n",
    "    \n",
    "    ypred = soln.predict(X_val)\n",
    "    \n",
    "    print(\"\\n\\n ------------ kernel = \"+kernel+\" ------------\")\n",
    "    print(\"Number of mislabeled points out of a total %d points : %d\" % (X_val.shape[0], (Y_val != ypred).sum()))\n",
    "    print(\"Accuracy on test set: \"+str(soln.score(X_val,Y_val)))\n",
    "    print(confusion_matrix(Y_val, ypred, normalize=\"true\"))\n",
    "    plot_confusion_matrix(soln, X_val, Y_val, normalize=\"true\")\n",
    "    \n",
    "    \n",
    "    f1_score(Y_val, ypred, average=None)\n",
    "\n"
   ]
  },
  {
   "cell_type": "code",
   "execution_count": null,
   "metadata": {
    "scrolled": false
   },
   "outputs": [],
   "source": []
  },
  {
   "cell_type": "code",
   "execution_count": null,
   "metadata": {
    "scrolled": false
   },
   "outputs": [],
   "source": []
  },
  {
   "cell_type": "code",
   "execution_count": null,
   "metadata": {
    "scrolled": true
   },
   "outputs": [],
   "source": []
  }
 ],
 "metadata": {
  "kernelspec": {
   "display_name": "Python 3",
   "language": "python",
   "name": "python3"
  },
  "language_info": {
   "codemirror_mode": {
    "name": "ipython",
    "version": 3
   },
   "file_extension": ".py",
   "mimetype": "text/x-python",
   "name": "python",
   "nbconvert_exporter": "python",
   "pygments_lexer": "ipython3",
   "version": "3.8.1"
  }
 },
 "nbformat": 4,
 "nbformat_minor": 2
}
