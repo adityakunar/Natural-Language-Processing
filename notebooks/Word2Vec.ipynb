{
 "cells": [
  {
   "cell_type": "code",
   "execution_count": 85,
   "metadata": {},
   "outputs": [],
   "source": [
    "import gensim\n",
    "from nltk.tokenize import word_tokenize\n",
    "import string\n",
    "table = str.maketrans('', '', string.punctuation)\n",
    "import numpy as np"
   ]
  },
  {
   "cell_type": "code",
   "execution_count": 86,
   "metadata": {},
   "outputs": [],
   "source": [
    "#imports the data\n",
    "import pandas as pd\n",
    "roughDat= pd.read_csv(\"PlayDat.csv\")"
   ]
  },
  {
   "cell_type": "code",
   "execution_count": 3,
   "metadata": {},
   "outputs": [],
   "source": [
    "model = gensim.models.KeyedVectors.load_word2vec_format('D:/Learning Material/IR/gensim-data/word2vec-google-news-300/GoogleNews-vectors-negative300.bin', binary=True) "
   ]
  },
  {
   "cell_type": "code",
   "execution_count": 87,
   "metadata": {},
   "outputs": [],
   "source": [
    "#removes unnecessary columns.\n",
    "roughDat = roughDat.drop(columns=['Unnamed: 0', 'claimId',\n",
    "       'articleId', 'articleHeadlineStance'])"
   ]
  },
  {
   "cell_type": "code",
   "execution_count": 88,
   "metadata": {},
   "outputs": [],
   "source": [
    "#mylist=roughDat[\"claimHeadline\"].unique().tolist()\n",
    "#myseclist = roughDat['articleHeadline'].unique().tolist()\n",
    "mylist=roughDat[\"claimHeadline\"].tolist()\n",
    "myseclist = roughDat['articleHeadline'].tolist()"
   ]
  },
  {
   "cell_type": "code",
   "execution_count": 90,
   "metadata": {},
   "outputs": [],
   "source": [
    "mytokenizedlist =[ word_tokenize(i) for i in mylist]\n",
    "mysectokenizedlist = [word_tokenize(i) for i in myseclist]"
   ]
  },
  {
   "cell_type": "code",
   "execution_count": 91,
   "metadata": {},
   "outputs": [],
   "source": [
    "Word2VecFeatureC=[]\n",
    "for i in mytokenizedlist:\n",
    "    wf = np.ones(300)\n",
    "    #wf = np.zeros(300)\n",
    "    for j in i:\n",
    "        j = j.translate(table)\n",
    "        if j in model.vocab:\n",
    "            wf*=model[j]\n",
    "        else:\n",
    "            continue\n",
    "            #wf+=model[j]\n",
    "    Word2VecFeatureC.append(wf)   "
   ]
  },
  {
   "cell_type": "code",
   "execution_count": 92,
   "metadata": {},
   "outputs": [],
   "source": [
    "Word2VecFeatureH=[]\n",
    "for i in mysectokenizedlist:\n",
    "    wf = np.ones(300)\n",
    "    #wf = np.zeros(300)\n",
    "    for j in i:\n",
    "        j = j.translate(table)\n",
    "        if j in model.vocab:\n",
    "            wf*=model[j]\n",
    "        else:\n",
    "            continue\n",
    "            #wf+=model[j]\n",
    "    Word2VecFeatureH.append(wf)   "
   ]
  },
  {
   "cell_type": "code",
   "execution_count": 93,
   "metadata": {},
   "outputs": [],
   "source": [
    "from sklearn.metrics.pairwise import cosine_similarity"
   ]
  },
  {
   "cell_type": "code",
   "execution_count": 95,
   "metadata": {},
   "outputs": [],
   "source": [
    "CosineSimilarityF = [cosine_similarity(Word2VecFeatureH[i].reshape(1,300), Word2VecFeatureC[i].reshape(1,300)) for i in range(0,len(Word2VecFeatureH))]"
   ]
  },
  {
   "cell_type": "code",
   "execution_count": null,
   "metadata": {},
   "outputs": [],
   "source": []
  }
 ],
 "metadata": {
  "kernelspec": {
   "display_name": "Python 3",
   "language": "python",
   "name": "python3"
  },
  "language_info": {
   "codemirror_mode": {
    "name": "ipython",
    "version": 3
   },
   "file_extension": ".py",
   "mimetype": "text/x-python",
   "name": "python",
   "nbconvert_exporter": "python",
   "pygments_lexer": "ipython3",
   "version": "3.7.3"
  }
 },
 "nbformat": 4,
 "nbformat_minor": 2
}
