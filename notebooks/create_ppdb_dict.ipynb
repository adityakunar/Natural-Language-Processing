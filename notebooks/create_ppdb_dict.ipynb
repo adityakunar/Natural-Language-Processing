{
 "cells": [
  {
   "cell_type": "markdown",
   "metadata": {},
   "source": [
    "Creates a PPDB dictionary of the following format:\n",
    "\n",
    "```\n",
    "{\n",
    "    \"phrase1\": {\n",
    "        \"paraphrase11\": (\"ppdb_score11\", \"entailment11\"),\n",
    "        \"paraphrase12\": (\"ppdb_score12\", \"entailment12\"),\n",
    "        ...\n",
    "    },\n",
    "    \"phrase2\": {\n",
    "        \"paraphrase21\": (\"ppdb_score21\", \"entailment21\"),\n",
    "        \"paraphrase22\": (\"ppdb_score22\", \"entailment22\"),\n",
    "        ...\n",
    "    },\n",
    "    ...\n",
    "}\n",
    "```\n",
    "\n",
    "and stores it in `data/ppdb-2.0-tldr-dict.pkl`"
   ]
  },
  {
   "cell_type": "code",
   "execution_count": 1,
   "metadata": {},
   "outputs": [],
   "source": [
    "import pandas as pd"
   ]
  },
  {
   "cell_type": "code",
   "execution_count": 2,
   "metadata": {},
   "outputs": [],
   "source": [
    "ppdb_data_path = \"../data/ppdb-2.0-tldr\""
   ]
  },
  {
   "cell_type": "markdown",
   "metadata": {},
   "source": [
    "### PPDB Data Format"
   ]
  },
  {
   "cell_type": "code",
   "execution_count": 3,
   "metadata": {},
   "outputs": [
    {
     "name": "stdout",
     "output_type": "stream",
     "text": [
      "[NN] ||| transplant ||| transplantation ||| PPDB2.0Score=5.24981 PPDB1.0Score=3.295900 -logp(LHS|e1)=0.18597 -logp(LHS|e2)=0.14031 -logp(e1|LHS)=11.83583 -logp(e1|e2)=1.80507 -logp(e1|e2,LHS)=1.46728 -logp(e2|LHS)=11.47593 -logp(e2|e1)=1.49083 -logp(e2|e1,LHS)=1.10738 AGigaSim=0.63439 Abstract=0 Adjacent=0 CharCountDiff=5 CharLogCR=0.40547 ContainsX=0 Equivalence=0.371472 Exclusion=0.000344 GlueRule=0 GoogleNgramSim=0.03067 Identity=0 Independent=0.078161 Lex(e1|e2)=9.64663 Lex(e2|e1)=59.48919 Lexical=1 LogCount=4.67283 MVLSASim=NA Monotonic=1 OtherRelated=0.372735 PhrasePenalty=1 RarityPenalty=0 ForwardEntailment=0.177287 SourceTerminalsButNoTarget=0 SourceWords=1 TargetComplexity=0.98821 TargetFormality=0.98464 TargetTerminalsButNoSource=0 TargetWords=1 UnalignedSource=0 UnalignedTarget=0 WordCountDiff=0 WordLenDiff=5.00000 WordLogCR=0 ||| 0-0 ||| OtherRelated\n",
      "\n"
     ]
    }
   ],
   "source": [
    "with open(ppdb_data_path, \"r\") as f:\n",
    "    print(f.readline())"
   ]
  },
  {
   "cell_type": "markdown",
   "metadata": {},
   "source": [
    "### Read as CSV and cleanup features column (keep only ppdb 2.0 score)"
   ]
  },
  {
   "cell_type": "code",
   "execution_count": 4,
   "metadata": {},
   "outputs": [],
   "source": [
    "# currently reads only 50,000 rows\n",
    "ppdb_df = pd.read_csv(ppdb_data_path, delimiter=\" \\|\\|\\| \",\n",
    "                      engine=\"python\", header=None,\n",
    "                      names=[\"lhs\", \"phrase\", \"paraphrase\", \"features\", \"alignment\", \"entailment\"],\n",
    "                      nrows=50000)"
   ]
  },
  {
   "cell_type": "code",
   "execution_count": 5,
   "metadata": {},
   "outputs": [],
   "source": [
    "ppdb_df.loc[:, \"ppdb2_score\"] = ppdb_df.loc[:, \"features\"].apply(lambda f: f.split(\" \")[0][13:]).astype(\"float\")"
   ]
  },
  {
   "cell_type": "code",
   "execution_count": 6,
   "metadata": {},
   "outputs": [
    {
     "data": {
      "text/plain": [
       "Independent          21408\n",
       "Equivalence          12192\n",
       "OtherRelated          9767\n",
       "ForwardEntailment     3575\n",
       "ReverseEntailment     3028\n",
       "Exclusion               30\n",
       "Name: entailment, dtype: int64"
      ]
     },
     "execution_count": 6,
     "metadata": {},
     "output_type": "execute_result"
    }
   ],
   "source": [
    "ppdb_df[\"entailment\"].value_counts()"
   ]
  },
  {
   "cell_type": "markdown",
   "metadata": {},
   "source": [
    "### grouping all paraphrase belonging to one phrase in a single row with the ppdb score and it's entailment type\n",
    "\n",
    "| | |\n",
    "|---|---|\n",
    "|phrase1 | {paraphrase11: (ppdb_score11, entailment11), paraphrase12: (ppdb_score12, entailment12), ...}|\n",
    "|phrase2 | {paraphrase21: (ppdb_score21, entailment21), paraphrase22: (ppdb_score22, entailment22), ...}|\n",
    ".\n",
    ".\n",
    "."
   ]
  },
  {
   "cell_type": "code",
   "execution_count": 7,
   "metadata": {},
   "outputs": [],
   "source": [
    "ppdb_grouped_df = ppdb_df.groupby(\"phrase\").apply(lambda x: dict(zip(x[\"paraphrase\"], list(zip(x[\"ppdb2_score\"], x[\"entailment\"]))))).reset_index()"
   ]
  },
  {
   "cell_type": "code",
   "execution_count": 8,
   "metadata": {},
   "outputs": [],
   "source": [
    "ppdb_dict = ppdb_grouped_df.set_index(\"phrase\").T.to_dict(\"records\")[0]"
   ]
  },
  {
   "cell_type": "code",
   "execution_count": 9,
   "metadata": {},
   "outputs": [],
   "source": [
    "import pickle"
   ]
  },
  {
   "cell_type": "code",
   "execution_count": 10,
   "metadata": {},
   "outputs": [],
   "source": [
    "with open(\"../data/ppdb-2.0-tldr-dict.pkl\", \"wb\") as f:\n",
    "    pickle.dump(ppdb_dict, f)"
   ]
  }
 ],
 "metadata": {
  "kernelspec": {
   "display_name": "Python 3",
   "language": "python",
   "name": "python3"
  },
  "language_info": {
   "codemirror_mode": {
    "name": "ipython",
    "version": 3
   },
   "file_extension": ".py",
   "mimetype": "text/x-python",
   "name": "python",
   "nbconvert_exporter": "python",
   "pygments_lexer": "ipython3",
   "version": "3.7.0"
  }
 },
 "nbformat": 4,
 "nbformat_minor": 4
}
